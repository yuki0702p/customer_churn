{
  "cells": [
    {
      "cell_type": "code",
      "execution_count": 1,
      "metadata": {},
      "outputs": [],
      "source": [
        "import pandas as pd\n",
        "import numpy as np\n",
        "#Visiualization\n",
        "import seaborn as sns\n",
        "import matplotlib.pyplot as plt"
      ]
    },
    {
      "cell_type": "code",
      "execution_count": 2,
      "metadata": {
        "colab": {
          "base_uri": "https://localhost:8080/"
        },
        "id": "Ni0RL0SbsI3W",
        "outputId": "e5ae914e-f142-4311-e006-99134c767e94"
      },
      "outputs": [
        {
          "data": {
            "text/html": [
              "<div>\n",
              "<style scoped>\n",
              "    .dataframe tbody tr th:only-of-type {\n",
              "        vertical-align: middle;\n",
              "    }\n",
              "\n",
              "    .dataframe tbody tr th {\n",
              "        vertical-align: top;\n",
              "    }\n",
              "\n",
              "    .dataframe thead th {\n",
              "        text-align: right;\n",
              "    }\n",
              "</style>\n",
              "<table border=\"1\" class=\"dataframe\">\n",
              "  <thead>\n",
              "    <tr style=\"text-align: right;\">\n",
              "      <th></th>\n",
              "      <th>age</th>\n",
              "      <th>job</th>\n",
              "      <th>marital</th>\n",
              "      <th>education</th>\n",
              "      <th>default</th>\n",
              "      <th>housing</th>\n",
              "      <th>loan</th>\n",
              "      <th>contact</th>\n",
              "      <th>month</th>\n",
              "      <th>day_of_week</th>\n",
              "      <th>...</th>\n",
              "      <th>campaign</th>\n",
              "      <th>pdays</th>\n",
              "      <th>previous</th>\n",
              "      <th>poutcome</th>\n",
              "      <th>emp_var_rate</th>\n",
              "      <th>cons_price_idx</th>\n",
              "      <th>cons_conf_idx</th>\n",
              "      <th>euribor3m</th>\n",
              "      <th>nr_employed</th>\n",
              "      <th>y</th>\n",
              "    </tr>\n",
              "  </thead>\n",
              "  <tbody>\n",
              "    <tr>\n",
              "      <th>0</th>\n",
              "      <td>44</td>\n",
              "      <td>blue-collar</td>\n",
              "      <td>married</td>\n",
              "      <td>basic.4y</td>\n",
              "      <td>unknown</td>\n",
              "      <td>yes</td>\n",
              "      <td>no</td>\n",
              "      <td>cellular</td>\n",
              "      <td>aug</td>\n",
              "      <td>thu</td>\n",
              "      <td>...</td>\n",
              "      <td>1</td>\n",
              "      <td>999</td>\n",
              "      <td>0</td>\n",
              "      <td>nonexistent</td>\n",
              "      <td>1.4</td>\n",
              "      <td>93.444</td>\n",
              "      <td>-36.1</td>\n",
              "      <td>4.963</td>\n",
              "      <td>5228.1</td>\n",
              "      <td>0</td>\n",
              "    </tr>\n",
              "    <tr>\n",
              "      <th>1</th>\n",
              "      <td>53</td>\n",
              "      <td>technician</td>\n",
              "      <td>married</td>\n",
              "      <td>unknown</td>\n",
              "      <td>no</td>\n",
              "      <td>no</td>\n",
              "      <td>no</td>\n",
              "      <td>cellular</td>\n",
              "      <td>nov</td>\n",
              "      <td>fri</td>\n",
              "      <td>...</td>\n",
              "      <td>1</td>\n",
              "      <td>999</td>\n",
              "      <td>0</td>\n",
              "      <td>nonexistent</td>\n",
              "      <td>-0.1</td>\n",
              "      <td>93.200</td>\n",
              "      <td>-42.0</td>\n",
              "      <td>4.021</td>\n",
              "      <td>5195.8</td>\n",
              "      <td>0</td>\n",
              "    </tr>\n",
              "    <tr>\n",
              "      <th>2</th>\n",
              "      <td>28</td>\n",
              "      <td>management</td>\n",
              "      <td>single</td>\n",
              "      <td>university.degree</td>\n",
              "      <td>no</td>\n",
              "      <td>yes</td>\n",
              "      <td>no</td>\n",
              "      <td>cellular</td>\n",
              "      <td>jun</td>\n",
              "      <td>thu</td>\n",
              "      <td>...</td>\n",
              "      <td>3</td>\n",
              "      <td>6</td>\n",
              "      <td>2</td>\n",
              "      <td>success</td>\n",
              "      <td>-1.7</td>\n",
              "      <td>94.055</td>\n",
              "      <td>-39.8</td>\n",
              "      <td>0.729</td>\n",
              "      <td>4991.6</td>\n",
              "      <td>1</td>\n",
              "    </tr>\n",
              "    <tr>\n",
              "      <th>3</th>\n",
              "      <td>39</td>\n",
              "      <td>services</td>\n",
              "      <td>married</td>\n",
              "      <td>high.school</td>\n",
              "      <td>no</td>\n",
              "      <td>no</td>\n",
              "      <td>no</td>\n",
              "      <td>cellular</td>\n",
              "      <td>apr</td>\n",
              "      <td>fri</td>\n",
              "      <td>...</td>\n",
              "      <td>2</td>\n",
              "      <td>999</td>\n",
              "      <td>0</td>\n",
              "      <td>nonexistent</td>\n",
              "      <td>-1.8</td>\n",
              "      <td>93.075</td>\n",
              "      <td>-47.1</td>\n",
              "      <td>1.405</td>\n",
              "      <td>5099.1</td>\n",
              "      <td>0</td>\n",
              "    </tr>\n",
              "    <tr>\n",
              "      <th>4</th>\n",
              "      <td>55</td>\n",
              "      <td>retired</td>\n",
              "      <td>married</td>\n",
              "      <td>basic.4y</td>\n",
              "      <td>no</td>\n",
              "      <td>yes</td>\n",
              "      <td>no</td>\n",
              "      <td>cellular</td>\n",
              "      <td>aug</td>\n",
              "      <td>fri</td>\n",
              "      <td>...</td>\n",
              "      <td>1</td>\n",
              "      <td>3</td>\n",
              "      <td>1</td>\n",
              "      <td>success</td>\n",
              "      <td>-2.9</td>\n",
              "      <td>92.201</td>\n",
              "      <td>-31.4</td>\n",
              "      <td>0.869</td>\n",
              "      <td>5076.2</td>\n",
              "      <td>1</td>\n",
              "    </tr>\n",
              "    <tr>\n",
              "      <th>...</th>\n",
              "      <td>...</td>\n",
              "      <td>...</td>\n",
              "      <td>...</td>\n",
              "      <td>...</td>\n",
              "      <td>...</td>\n",
              "      <td>...</td>\n",
              "      <td>...</td>\n",
              "      <td>...</td>\n",
              "      <td>...</td>\n",
              "      <td>...</td>\n",
              "      <td>...</td>\n",
              "      <td>...</td>\n",
              "      <td>...</td>\n",
              "      <td>...</td>\n",
              "      <td>...</td>\n",
              "      <td>...</td>\n",
              "      <td>...</td>\n",
              "      <td>...</td>\n",
              "      <td>...</td>\n",
              "      <td>...</td>\n",
              "      <td>...</td>\n",
              "    </tr>\n",
              "    <tr>\n",
              "      <th>41183</th>\n",
              "      <td>59</td>\n",
              "      <td>retired</td>\n",
              "      <td>married</td>\n",
              "      <td>high.school</td>\n",
              "      <td>unknown</td>\n",
              "      <td>no</td>\n",
              "      <td>yes</td>\n",
              "      <td>telephone</td>\n",
              "      <td>jun</td>\n",
              "      <td>thu</td>\n",
              "      <td>...</td>\n",
              "      <td>1</td>\n",
              "      <td>999</td>\n",
              "      <td>0</td>\n",
              "      <td>nonexistent</td>\n",
              "      <td>1.4</td>\n",
              "      <td>94.465</td>\n",
              "      <td>-41.8</td>\n",
              "      <td>4.866</td>\n",
              "      <td>5228.1</td>\n",
              "      <td>0</td>\n",
              "    </tr>\n",
              "    <tr>\n",
              "      <th>41184</th>\n",
              "      <td>31</td>\n",
              "      <td>housemaid</td>\n",
              "      <td>married</td>\n",
              "      <td>basic.4y</td>\n",
              "      <td>unknown</td>\n",
              "      <td>no</td>\n",
              "      <td>no</td>\n",
              "      <td>telephone</td>\n",
              "      <td>may</td>\n",
              "      <td>thu</td>\n",
              "      <td>...</td>\n",
              "      <td>2</td>\n",
              "      <td>999</td>\n",
              "      <td>0</td>\n",
              "      <td>nonexistent</td>\n",
              "      <td>1.1</td>\n",
              "      <td>93.994</td>\n",
              "      <td>-36.4</td>\n",
              "      <td>4.860</td>\n",
              "      <td>5191.0</td>\n",
              "      <td>0</td>\n",
              "    </tr>\n",
              "    <tr>\n",
              "      <th>41185</th>\n",
              "      <td>42</td>\n",
              "      <td>admin.</td>\n",
              "      <td>single</td>\n",
              "      <td>university.degree</td>\n",
              "      <td>unknown</td>\n",
              "      <td>yes</td>\n",
              "      <td>yes</td>\n",
              "      <td>telephone</td>\n",
              "      <td>may</td>\n",
              "      <td>wed</td>\n",
              "      <td>...</td>\n",
              "      <td>3</td>\n",
              "      <td>999</td>\n",
              "      <td>0</td>\n",
              "      <td>nonexistent</td>\n",
              "      <td>1.1</td>\n",
              "      <td>93.994</td>\n",
              "      <td>-36.4</td>\n",
              "      <td>4.857</td>\n",
              "      <td>5191.0</td>\n",
              "      <td>0</td>\n",
              "    </tr>\n",
              "    <tr>\n",
              "      <th>41186</th>\n",
              "      <td>48</td>\n",
              "      <td>technician</td>\n",
              "      <td>married</td>\n",
              "      <td>professional.course</td>\n",
              "      <td>no</td>\n",
              "      <td>no</td>\n",
              "      <td>yes</td>\n",
              "      <td>telephone</td>\n",
              "      <td>oct</td>\n",
              "      <td>tue</td>\n",
              "      <td>...</td>\n",
              "      <td>2</td>\n",
              "      <td>999</td>\n",
              "      <td>0</td>\n",
              "      <td>nonexistent</td>\n",
              "      <td>-3.4</td>\n",
              "      <td>92.431</td>\n",
              "      <td>-26.9</td>\n",
              "      <td>0.742</td>\n",
              "      <td>5017.5</td>\n",
              "      <td>0</td>\n",
              "    </tr>\n",
              "    <tr>\n",
              "      <th>41187</th>\n",
              "      <td>25</td>\n",
              "      <td>student</td>\n",
              "      <td>single</td>\n",
              "      <td>high.school</td>\n",
              "      <td>no</td>\n",
              "      <td>no</td>\n",
              "      <td>no</td>\n",
              "      <td>telephone</td>\n",
              "      <td>may</td>\n",
              "      <td>fri</td>\n",
              "      <td>...</td>\n",
              "      <td>4</td>\n",
              "      <td>999</td>\n",
              "      <td>0</td>\n",
              "      <td>nonexistent</td>\n",
              "      <td>1.1</td>\n",
              "      <td>93.994</td>\n",
              "      <td>-36.4</td>\n",
              "      <td>4.859</td>\n",
              "      <td>5191.0</td>\n",
              "      <td>0</td>\n",
              "    </tr>\n",
              "  </tbody>\n",
              "</table>\n",
              "<p>41188 rows × 21 columns</p>\n",
              "</div>"
            ],
            "text/plain": [
              "       age          job  marital            education  default housing loan  \\\n",
              "0       44  blue-collar  married             basic.4y  unknown     yes   no   \n",
              "1       53   technician  married              unknown       no      no   no   \n",
              "2       28   management   single    university.degree       no     yes   no   \n",
              "3       39     services  married          high.school       no      no   no   \n",
              "4       55      retired  married             basic.4y       no     yes   no   \n",
              "...    ...          ...      ...                  ...      ...     ...  ...   \n",
              "41183   59      retired  married          high.school  unknown      no  yes   \n",
              "41184   31    housemaid  married             basic.4y  unknown      no   no   \n",
              "41185   42       admin.   single    university.degree  unknown     yes  yes   \n",
              "41186   48   technician  married  professional.course       no      no  yes   \n",
              "41187   25      student   single          high.school       no      no   no   \n",
              "\n",
              "         contact month day_of_week  ...  campaign  pdays  previous  \\\n",
              "0       cellular   aug         thu  ...         1    999         0   \n",
              "1       cellular   nov         fri  ...         1    999         0   \n",
              "2       cellular   jun         thu  ...         3      6         2   \n",
              "3       cellular   apr         fri  ...         2    999         0   \n",
              "4       cellular   aug         fri  ...         1      3         1   \n",
              "...          ...   ...         ...  ...       ...    ...       ...   \n",
              "41183  telephone   jun         thu  ...         1    999         0   \n",
              "41184  telephone   may         thu  ...         2    999         0   \n",
              "41185  telephone   may         wed  ...         3    999         0   \n",
              "41186  telephone   oct         tue  ...         2    999         0   \n",
              "41187  telephone   may         fri  ...         4    999         0   \n",
              "\n",
              "          poutcome emp_var_rate  cons_price_idx  cons_conf_idx  euribor3m  \\\n",
              "0      nonexistent          1.4          93.444          -36.1      4.963   \n",
              "1      nonexistent         -0.1          93.200          -42.0      4.021   \n",
              "2          success         -1.7          94.055          -39.8      0.729   \n",
              "3      nonexistent         -1.8          93.075          -47.1      1.405   \n",
              "4          success         -2.9          92.201          -31.4      0.869   \n",
              "...            ...          ...             ...            ...        ...   \n",
              "41183  nonexistent          1.4          94.465          -41.8      4.866   \n",
              "41184  nonexistent          1.1          93.994          -36.4      4.860   \n",
              "41185  nonexistent          1.1          93.994          -36.4      4.857   \n",
              "41186  nonexistent         -3.4          92.431          -26.9      0.742   \n",
              "41187  nonexistent          1.1          93.994          -36.4      4.859   \n",
              "\n",
              "       nr_employed  y  \n",
              "0           5228.1  0  \n",
              "1           5195.8  0  \n",
              "2           4991.6  1  \n",
              "3           5099.1  0  \n",
              "4           5076.2  1  \n",
              "...            ... ..  \n",
              "41183       5228.1  0  \n",
              "41184       5191.0  0  \n",
              "41185       5191.0  0  \n",
              "41186       5017.5  0  \n",
              "41187       5191.0  0  \n",
              "\n",
              "[41188 rows x 21 columns]"
            ]
          },
          "execution_count": 2,
          "metadata": {},
          "output_type": "execute_result"
        }
      ],
      "source": [
        "df = pd.read_csv('banking.csv')\n",
        "df"
      ]
    },
    {
      "cell_type": "markdown",
      "metadata": {},
      "source": [
        "This is bank data and we need to check which customer will stay and which will go "
      ]
    },
    {
      "cell_type": "code",
      "execution_count": 3,
      "metadata": {
        "colab": {
          "base_uri": "https://localhost:8080/"
        },
        "id": "wChekJ5V_t9r",
        "outputId": "96cf8467-4b5d-40fa-d57f-ee4940eca7a3"
      },
      "outputs": [
        {
          "data": {
            "text/plain": [
              "age               0\n",
              "job               0\n",
              "marital           0\n",
              "education         0\n",
              "default           0\n",
              "housing           0\n",
              "loan              0\n",
              "contact           0\n",
              "month             0\n",
              "day_of_week       0\n",
              "duration          0\n",
              "campaign          0\n",
              "pdays             0\n",
              "previous          0\n",
              "poutcome          0\n",
              "emp_var_rate      0\n",
              "cons_price_idx    0\n",
              "cons_conf_idx     0\n",
              "euribor3m         0\n",
              "nr_employed       0\n",
              "y                 0\n",
              "dtype: int64"
            ]
          },
          "execution_count": 3,
          "metadata": {},
          "output_type": "execute_result"
        }
      ],
      "source": [
        "df.isnull().sum()"
      ]
    },
    {
      "cell_type": "markdown",
      "metadata": {},
      "source": [
        "if null value is absent then it show 0. \n",
        "from this we conclude that we do not have any null value"
      ]
    },
    {
      "cell_type": "code",
      "execution_count": 4,
      "metadata": {
        "colab": {
          "base_uri": "https://localhost:8080/",
          "height": 300
        },
        "id": "2VmEbcDl_yiG",
        "outputId": "03d06555-e206-494a-98b1-ab8b0f834da8"
      },
      "outputs": [
        {
          "data": {
            "text/html": [
              "<div>\n",
              "<style scoped>\n",
              "    .dataframe tbody tr th:only-of-type {\n",
              "        vertical-align: middle;\n",
              "    }\n",
              "\n",
              "    .dataframe tbody tr th {\n",
              "        vertical-align: top;\n",
              "    }\n",
              "\n",
              "    .dataframe thead th {\n",
              "        text-align: right;\n",
              "    }\n",
              "</style>\n",
              "<table border=\"1\" class=\"dataframe\">\n",
              "  <thead>\n",
              "    <tr style=\"text-align: right;\">\n",
              "      <th></th>\n",
              "      <th>age</th>\n",
              "      <th>duration</th>\n",
              "      <th>campaign</th>\n",
              "      <th>pdays</th>\n",
              "      <th>previous</th>\n",
              "      <th>emp_var_rate</th>\n",
              "      <th>cons_price_idx</th>\n",
              "      <th>cons_conf_idx</th>\n",
              "      <th>euribor3m</th>\n",
              "      <th>nr_employed</th>\n",
              "      <th>y</th>\n",
              "    </tr>\n",
              "  </thead>\n",
              "  <tbody>\n",
              "    <tr>\n",
              "      <th>count</th>\n",
              "      <td>41188.00000</td>\n",
              "      <td>41188.000000</td>\n",
              "      <td>41188.000000</td>\n",
              "      <td>41188.000000</td>\n",
              "      <td>41188.000000</td>\n",
              "      <td>41188.000000</td>\n",
              "      <td>41188.000000</td>\n",
              "      <td>41188.000000</td>\n",
              "      <td>41188.000000</td>\n",
              "      <td>41188.000000</td>\n",
              "      <td>41188.000000</td>\n",
              "    </tr>\n",
              "    <tr>\n",
              "      <th>mean</th>\n",
              "      <td>40.02406</td>\n",
              "      <td>258.285010</td>\n",
              "      <td>2.567593</td>\n",
              "      <td>962.475454</td>\n",
              "      <td>0.172963</td>\n",
              "      <td>0.081886</td>\n",
              "      <td>93.575664</td>\n",
              "      <td>-40.502600</td>\n",
              "      <td>3.621291</td>\n",
              "      <td>5167.035911</td>\n",
              "      <td>0.112654</td>\n",
              "    </tr>\n",
              "    <tr>\n",
              "      <th>std</th>\n",
              "      <td>10.42125</td>\n",
              "      <td>259.279249</td>\n",
              "      <td>2.770014</td>\n",
              "      <td>186.910907</td>\n",
              "      <td>0.494901</td>\n",
              "      <td>1.570960</td>\n",
              "      <td>0.578840</td>\n",
              "      <td>4.628198</td>\n",
              "      <td>1.734447</td>\n",
              "      <td>72.251528</td>\n",
              "      <td>0.316173</td>\n",
              "    </tr>\n",
              "    <tr>\n",
              "      <th>min</th>\n",
              "      <td>17.00000</td>\n",
              "      <td>0.000000</td>\n",
              "      <td>1.000000</td>\n",
              "      <td>0.000000</td>\n",
              "      <td>0.000000</td>\n",
              "      <td>-3.400000</td>\n",
              "      <td>92.201000</td>\n",
              "      <td>-50.800000</td>\n",
              "      <td>0.634000</td>\n",
              "      <td>4963.600000</td>\n",
              "      <td>0.000000</td>\n",
              "    </tr>\n",
              "    <tr>\n",
              "      <th>25%</th>\n",
              "      <td>32.00000</td>\n",
              "      <td>102.000000</td>\n",
              "      <td>1.000000</td>\n",
              "      <td>999.000000</td>\n",
              "      <td>0.000000</td>\n",
              "      <td>-1.800000</td>\n",
              "      <td>93.075000</td>\n",
              "      <td>-42.700000</td>\n",
              "      <td>1.344000</td>\n",
              "      <td>5099.100000</td>\n",
              "      <td>0.000000</td>\n",
              "    </tr>\n",
              "    <tr>\n",
              "      <th>50%</th>\n",
              "      <td>38.00000</td>\n",
              "      <td>180.000000</td>\n",
              "      <td>2.000000</td>\n",
              "      <td>999.000000</td>\n",
              "      <td>0.000000</td>\n",
              "      <td>1.100000</td>\n",
              "      <td>93.749000</td>\n",
              "      <td>-41.800000</td>\n",
              "      <td>4.857000</td>\n",
              "      <td>5191.000000</td>\n",
              "      <td>0.000000</td>\n",
              "    </tr>\n",
              "    <tr>\n",
              "      <th>75%</th>\n",
              "      <td>47.00000</td>\n",
              "      <td>319.000000</td>\n",
              "      <td>3.000000</td>\n",
              "      <td>999.000000</td>\n",
              "      <td>0.000000</td>\n",
              "      <td>1.400000</td>\n",
              "      <td>93.994000</td>\n",
              "      <td>-36.400000</td>\n",
              "      <td>4.961000</td>\n",
              "      <td>5228.100000</td>\n",
              "      <td>0.000000</td>\n",
              "    </tr>\n",
              "    <tr>\n",
              "      <th>max</th>\n",
              "      <td>98.00000</td>\n",
              "      <td>4918.000000</td>\n",
              "      <td>56.000000</td>\n",
              "      <td>999.000000</td>\n",
              "      <td>7.000000</td>\n",
              "      <td>1.400000</td>\n",
              "      <td>94.767000</td>\n",
              "      <td>-26.900000</td>\n",
              "      <td>5.045000</td>\n",
              "      <td>5228.100000</td>\n",
              "      <td>1.000000</td>\n",
              "    </tr>\n",
              "  </tbody>\n",
              "</table>\n",
              "</div>"
            ],
            "text/plain": [
              "               age      duration      campaign         pdays      previous  \\\n",
              "count  41188.00000  41188.000000  41188.000000  41188.000000  41188.000000   \n",
              "mean      40.02406    258.285010      2.567593    962.475454      0.172963   \n",
              "std       10.42125    259.279249      2.770014    186.910907      0.494901   \n",
              "min       17.00000      0.000000      1.000000      0.000000      0.000000   \n",
              "25%       32.00000    102.000000      1.000000    999.000000      0.000000   \n",
              "50%       38.00000    180.000000      2.000000    999.000000      0.000000   \n",
              "75%       47.00000    319.000000      3.000000    999.000000      0.000000   \n",
              "max       98.00000   4918.000000     56.000000    999.000000      7.000000   \n",
              "\n",
              "       emp_var_rate  cons_price_idx  cons_conf_idx     euribor3m  \\\n",
              "count  41188.000000    41188.000000   41188.000000  41188.000000   \n",
              "mean       0.081886       93.575664     -40.502600      3.621291   \n",
              "std        1.570960        0.578840       4.628198      1.734447   \n",
              "min       -3.400000       92.201000     -50.800000      0.634000   \n",
              "25%       -1.800000       93.075000     -42.700000      1.344000   \n",
              "50%        1.100000       93.749000     -41.800000      4.857000   \n",
              "75%        1.400000       93.994000     -36.400000      4.961000   \n",
              "max        1.400000       94.767000     -26.900000      5.045000   \n",
              "\n",
              "        nr_employed             y  \n",
              "count  41188.000000  41188.000000  \n",
              "mean    5167.035911      0.112654  \n",
              "std       72.251528      0.316173  \n",
              "min     4963.600000      0.000000  \n",
              "25%     5099.100000      0.000000  \n",
              "50%     5191.000000      0.000000  \n",
              "75%     5228.100000      0.000000  \n",
              "max     5228.100000      1.000000  "
            ]
          },
          "execution_count": 4,
          "metadata": {},
          "output_type": "execute_result"
        }
      ],
      "source": [
        "df.describe()\n",
        "#it gives us some of stats term needed to analyze some feature"
      ]
    },
    {
      "cell_type": "code",
      "execution_count": 5,
      "metadata": {
        "colab": {
          "base_uri": "https://localhost:8080/"
        },
        "id": "8qYC69jIARjQ",
        "outputId": "127604d9-e36f-4fca-d74a-1b17996e889a"
      },
      "outputs": [
        {
          "name": "stdout",
          "output_type": "stream",
          "text": [
            "<class 'pandas.core.frame.DataFrame'>\n",
            "RangeIndex: 41188 entries, 0 to 41187\n",
            "Data columns (total 21 columns):\n",
            " #   Column          Non-Null Count  Dtype  \n",
            "---  ------          --------------  -----  \n",
            " 0   age             41188 non-null  int64  \n",
            " 1   job             41188 non-null  object \n",
            " 2   marital         41188 non-null  object \n",
            " 3   education       41188 non-null  object \n",
            " 4   default         41188 non-null  object \n",
            " 5   housing         41188 non-null  object \n",
            " 6   loan            41188 non-null  object \n",
            " 7   contact         41188 non-null  object \n",
            " 8   month           41188 non-null  object \n",
            " 9   day_of_week     41188 non-null  object \n",
            " 10  duration        41188 non-null  int64  \n",
            " 11  campaign        41188 non-null  int64  \n",
            " 12  pdays           41188 non-null  int64  \n",
            " 13  previous        41188 non-null  int64  \n",
            " 14  poutcome        41188 non-null  object \n",
            " 15  emp_var_rate    41188 non-null  float64\n",
            " 16  cons_price_idx  41188 non-null  float64\n",
            " 17  cons_conf_idx   41188 non-null  float64\n",
            " 18  euribor3m       41188 non-null  float64\n",
            " 19  nr_employed     41188 non-null  float64\n",
            " 20  y               41188 non-null  int64  \n",
            "dtypes: float64(5), int64(6), object(10)\n",
            "memory usage: 6.6+ MB\n"
          ]
        }
      ],
      "source": [
        "df.info()# we have all together 17 features"
      ]
    },
    {
      "cell_type": "code",
      "execution_count": 6,
      "metadata": {
        "colab": {
          "base_uri": "https://localhost:8080/"
        },
        "id": "efouVFGKaBpe",
        "outputId": "a9379d27-f18a-4776-ab31-f838db88835b"
      },
      "outputs": [
        {
          "name": "stdout",
          "output_type": "stream",
          "text": [
            "Age: \n",
            " [44 53 28 39 55 30 37 36 27 34 41 33 26 52 35 40 32 49 38 47 46 29 54 42\n",
            " 72 48 43 56 31 24 68 59 50 45 25 57 63 58 60 64 51 23 20 74 80 61 62 75\n",
            " 21 82 77 70 76 73 66 22 71 19 79 88 65 67 81 18 84 69 98 85 83 78 92 86\n",
            " 94 17 91 89 87 95]\n",
            "Job: \n",
            " ['blue-collar' 'technician' 'management' 'services' 'retired' 'admin.'\n",
            " 'housemaid' 'unemployed' 'entrepreneur' 'self-employed' 'unknown'\n",
            " 'student']\n",
            "marital: \n",
            " ['married' 'single' 'divorced' 'unknown']\n",
            "education: \n",
            " ['basic.4y' 'unknown' 'university.degree' 'high.school' 'basic.9y'\n",
            " 'professional.course' 'basic.6y' 'illiterate']\n",
            "housing: \n",
            " ['yes' 'no' 'unknown']\n",
            "loan: \n",
            " ['no' 'yes' 'unknown']\n",
            "Contact: \n",
            " ['cellular' 'telephone']\n",
            "month: \n",
            " ['aug' 'nov' 'jun' 'apr' 'jul' 'may' 'oct' 'mar' 'sep' 'dec']\n",
            "Day: \n",
            " ['thu' 'fri' 'tue' 'mon' 'wed']\n",
            "campaign: \n",
            " [ 1  3  2  8  5  4 25 11 12 18  6 17  7 20 16 14 10  9 19 29 13 40 15 34\n",
            " 22 24 41 21 23 39 28 27 31 35 26 30 32 43 33 42 56 37]\n",
            "pdays: \n",
            " [999   6   3   2   4  16   0   5  11  14  13   9  15  17  12  26   7  19\n",
            "  10   1  18   8  20  21  22  25  27]\n",
            "poutcome: \n",
            " ['nonexistent' 'success' 'failure']\n",
            "y: \n",
            " [0 1]\n"
          ]
        }
      ],
      "source": [
        "#this gives the unique value of that particular feature\n",
        "print('Age: \\n',df.age.unique())\n",
        "print('Job: \\n',df.job.unique())\n",
        "print('marital: \\n',df.marital.unique())\n",
        "print('education: \\n',df.education.unique())\n",
        "print('housing: \\n',df.housing.unique())\n",
        "print('loan: \\n',df.loan.unique())\n",
        "print('Contact: \\n',df.contact.unique())\n",
        "print('month: \\n',df.month.unique())\n",
        "print('Day: \\n',df.day_of_week.unique())\n",
        "print('campaign: \\n',df.campaign.unique())\n",
        "print('pdays: \\n',df.pdays.unique())\n",
        "print('poutcome: \\n',df.poutcome.unique())\n",
        "print('y: \\n',df.y.unique())"
      ]
    },
    {
      "cell_type": "markdown",
      "metadata": {
        "id": "u15OeRrl_xkq"
      },
      "source": [
        "So basicallt marital, housing , loan, y and poutcome are categorical data"
      ]
    },
    {
      "cell_type": "code",
      "execution_count": 7,
      "metadata": {
        "colab": {
          "base_uri": "https://localhost:8080/"
        },
        "id": "S_-1esGIixDP",
        "outputId": "adbe0a8b-2f99-49b6-9ad7-74fb104685e1"
      },
      "outputs": [
        {
          "name": "stdout",
          "output_type": "stream",
          "text": [
            "Marital: \n",
            " married     24928\n",
            "single      11568\n",
            "divorced     4612\n",
            "unknown        80\n",
            "Name: marital, dtype: int64\n",
            "---------------------------------------------------\n",
            "Education: \n",
            " university.degree      12168\n",
            "high.school             9515\n",
            "basic.9y                6045\n",
            "professional.course     5243\n",
            "basic.4y                4176\n",
            "basic.6y                2292\n",
            "unknown                 1731\n",
            "illiterate                18\n",
            "Name: education, dtype: int64\n",
            "---------------------------------------------------\n",
            "Default: \n",
            " no         32588\n",
            "unknown     8597\n",
            "yes            3\n",
            "Name: default, dtype: int64\n",
            "---------------------------------------------------\n",
            "Housing: \n",
            " yes        21576\n",
            "no         18622\n",
            "unknown      990\n",
            "Name: housing, dtype: int64\n",
            "---------------------------------------------------\n",
            "Loan: \n",
            " no         33950\n",
            "yes         6248\n",
            "unknown      990\n",
            "Name: loan, dtype: int64\n",
            "---------------------------------------------------\n",
            "Contract: \n",
            " cellular     26144\n",
            "telephone    15044\n",
            "Name: contact, dtype: int64\n",
            "---------------------------------------------------\n",
            "poutcome: \n",
            " nonexistent    35563\n",
            "failure         4252\n",
            "success         1373\n",
            "Name: poutcome, dtype: int64\n",
            "---------------------------------------------------\n",
            "y: \n",
            " <bound method IndexOpsMixin.value_counts of 0        0\n",
            "1        0\n",
            "2        1\n",
            "3        0\n",
            "4        1\n",
            "        ..\n",
            "41183    0\n",
            "41184    0\n",
            "41185    0\n",
            "41186    0\n",
            "41187    0\n",
            "Name: y, Length: 41188, dtype: int64>\n"
          ]
        }
      ],
      "source": [
        "#Count values of categorical data\n",
        "print('Marital: \\n',df.marital.value_counts())\n",
        "print('---------------------------------------------------')\n",
        "print('Education: \\n',df.education.value_counts())\n",
        "print('---------------------------------------------------')\n",
        "print('Default: \\n',df.default.value_counts())\n",
        "print('---------------------------------------------------')\n",
        "print('Housing: \\n',df.housing.value_counts())\n",
        "print('---------------------------------------------------')\n",
        "print('Loan: \\n',df.loan.value_counts())\n",
        "print('---------------------------------------------------')\n",
        "print('Contract: \\n',df.contact.value_counts())\n",
        "print('---------------------------------------------------')\n",
        "print('poutcome: \\n',df.poutcome.value_counts())\n",
        "print('---------------------------------------------------')\n",
        "print('y: \\n',df.y.value_counts)"
      ]
    },
    {
      "cell_type": "code",
      "execution_count": 8,
      "metadata": {
        "colab": {
          "base_uri": "https://localhost:8080/",
          "height": 466
        },
        "id": "pAYO_R7IjguF",
        "outputId": "367c6618-697f-4f7e-bc0f-3808d42fab08"
      },
      "outputs": [
        {
          "data": {
            "text/plain": [
              "<Axes: xlabel='y', ylabel='count'>"
            ]
          },
          "execution_count": 8,
          "metadata": {},
          "output_type": "execute_result"
        },
        {
          "data": {
            "image/png": "[encoded data removed]",
            "text/plain": [
              "<Figure size 640x480 with 1 Axes>"
            ]
          },
          "metadata": {},
          "output_type": "display_data"
        }
      ],
      "source": [
        "sns.set_style('ticks')\n",
        "sns.countplot(x = 'y', hue = 'job',data=df,palette='bright')"
      ]
    },
    {
      "cell_type": "markdown",
      "metadata": {},
      "source": [
        "since job have many sub category we make studying them easy by using countplot we can see that the customer whihc wont be get churn that is admin and bluecollar"
      ]
    },
    {
      "cell_type": "code",
      "execution_count": 9,
      "metadata": {
        "colab": {
          "base_uri": "https://localhost:8080/",
          "height": 466
        },
        "id": "7DZdZPtRl22x",
        "outputId": "b0d434cc-4396-4c01-f1f7-dec3f2bcbfc7"
      },
      "outputs": [
        {
          "data": {
            "text/plain": [
              "<Axes: xlabel='y', ylabel='count'>"
            ]
          },
          "execution_count": 9,
          "metadata": {},
          "output_type": "execute_result"
        },
        {
          "data": {
            "image/png": "[encoded data removed]",
            "text/plain": [
              "<Figure size 640x480 with 1 Axes>"
            ]
          },
          "metadata": {},
          "output_type": "display_data"
        }
      ],
      "source": [
        "sns.set_style('ticks')\n",
        "sns.countplot(x = 'y', hue = 'marital',data=df,palette='bright')"
      ]
    },
    {
      "cell_type": "markdown",
      "metadata": {},
      "source": [
        "0 = non existence and 1 = sucess"
      ]
    },
    {
      "cell_type": "markdown",
      "metadata": {},
      "source": [
        "we using same to visualize marital"
      ]
    },
    {
      "cell_type": "code",
      "execution_count": 10,
      "metadata": {
        "colab": {
          "base_uri": "https://localhost:8080/",
          "height": 559
        },
        "id": "6Eyi9pkOl_9T",
        "outputId": "b8294236-a563-4805-975b-91ae9aeea119"
      },
      "outputs": [
        {
          "data": {
            "text/plain": [
              "<Axes: xlabel='age', ylabel='Count'>"
            ]
          },
          "execution_count": 10,
          "metadata": {},
          "output_type": "execute_result"
        },
        {
          "data": {
            "image/png": "[encoded data removed]",
            "text/plain": [
              "<Figure size 900x600 with 1 Axes>"
            ]
          },
          "metadata": {},
          "output_type": "display_data"
        }
      ],
      "source": [
        "plt.figure(figsize=(9,6))\n",
        "sns.histplot(df, x='age',kde=True) # Plot the density curve too\n",
        "#df['age'].hist(bins=30)"
      ]
    },
    {
      "cell_type": "markdown",
      "metadata": {},
      "source": [
        "Histograms allow us to plot the distributions of numeric variables ,so we using it for age\n",
        "\n",
        "We can see it is right skewed and its mean > median"
      ]
    },
    {
      "cell_type": "code",
      "execution_count": 11,
      "metadata": {
        "colab": {
          "base_uri": "https://localhost:8080/"
        },
        "id": "wZUL9kqfFarw",
        "outputId": "262445c6-264f-4f10-eb39-9205ebcb59eb"
      },
      "outputs": [
        {
          "data": {
            "text/plain": [
              "Index(['age', 'job', 'marital', 'education', 'default', 'housing', 'loan',\n",
              "       'contact', 'month', 'day_of_week', 'duration', 'campaign', 'pdays',\n",
              "       'previous', 'poutcome', 'emp_var_rate', 'cons_price_idx',\n",
              "       'cons_conf_idx', 'euribor3m', 'nr_employed', 'y'],\n",
              "      dtype='object')"
            ]
          },
          "execution_count": 11,
          "metadata": {},
          "output_type": "execute_result"
        }
      ],
      "source": [
        "df.columns"
      ]
    },
    {
      "cell_type": "code",
      "execution_count": 12,
      "metadata": {
        "colab": {
          "base_uri": "https://localhost:8080/",
          "height": 559
        },
        "id": "e0tjty_jn8yA",
        "outputId": "16b758b3-db12-467c-ac9d-7e9b2cef4375"
      },
      "outputs": [
        {
          "data": {
            "text/plain": [
              "<Axes: xlabel='day_of_week', ylabel='Count'>"
            ]
          },
          "execution_count": 12,
          "metadata": {},
          "output_type": "execute_result"
        },
        {
          "data": {
            "image/png": "[encoded data removed]",
            "text/plain": [
              "<Figure size 900x600 with 1 Axes>"
            ]
          },
          "metadata": {},
          "output_type": "display_data"
        }
      ],
      "source": [
        "plt.figure(figsize=(9,6))\n",
        "sns.histplot(df, x='day_of_week',kde=True) # Plot the density curve too\n",
        "#df['day'].hist(bins=60)"
      ]
    },
    {
      "cell_type": "code",
      "execution_count": 13,
      "metadata": {
        "colab": {
          "base_uri": "https://localhost:8080/",
          "height": 452
        },
        "id": "lEi-C8groBjo",
        "outputId": "466b0206-4f10-4798-9c93-d0fd0e7a37dd"
      },
      "outputs": [
        {
          "data": {
            "text/plain": [
              "<Axes: >"
            ]
          },
          "execution_count": 13,
          "metadata": {},
          "output_type": "execute_result"
        },
        {
          "data": {
            "image/png": "[encoded data removed]",
            "text/plain": [
              "<Figure size 640x480 with 1 Axes>"
            ]
          },
          "metadata": {},
          "output_type": "display_data"
        }
      ],
      "source": [
        "df['duration'].hist(bins=40)"
      ]
    },
    {
      "cell_type": "markdown",
      "metadata": {},
      "source": []
    },
    {
      "cell_type": "code",
      "execution_count": 14,
      "metadata": {
        "colab": {
          "base_uri": "https://localhost:8080/",
          "height": 447
        },
        "id": "xPIZYVt0oHBx",
        "outputId": "03430e29-fc00-4e3e-bc00-7badfe534ada"
      },
      "outputs": [
        {
          "data": {
            "text/plain": [
              "<Axes: >"
            ]
          },
          "execution_count": 14,
          "metadata": {},
          "output_type": "execute_result"
        },
        {
          "data": {
            "image/png": "[encoded data removed]",
            "text/plain": [
              "<Figure size 640x480 with 1 Axes>"
            ]
          },
          "metadata": {},
          "output_type": "display_data"
        }
      ],
      "source": [
        "df['campaign'].hist(bins=40)"
      ]
    },
    {
      "cell_type": "code",
      "execution_count": 15,
      "metadata": {
        "colab": {
          "base_uri": "https://localhost:8080/",
          "height": 447
        },
        "id": "80Avuph4oK7P",
        "outputId": "61833f5b-ed98-4e86-cb80-9ad6d7c6d4b0"
      },
      "outputs": [
        {
          "data": {
            "text/plain": [
              "<Axes: >"
            ]
          },
          "execution_count": 15,
          "metadata": {},
          "output_type": "execute_result"
        },
        {
          "data": {
            "image/png": "[encoded data removed]",
            "text/plain": [
              "<Figure size 640x480 with 1 Axes>"
            ]
          },
          "metadata": {},
          "output_type": "display_data"
        }
      ],
      "source": [
        "df['pdays'].hist(bins=20)"
      ]
    },
    {
      "cell_type": "code",
      "execution_count": 16,
      "metadata": {
        "colab": {
          "base_uri": "https://localhost:8080/",
          "height": 636
        },
        "id": "A5P4XECIoOy2",
        "outputId": "304a6b52-5cdb-402f-8f4b-0b55edd9552f"
      },
      "outputs": [
        {
          "data": {
            "text/plain": [
              "<Axes: xlabel='job', ylabel='count'>"
            ]
          },
          "execution_count": 16,
          "metadata": {},
          "output_type": "execute_result"
        },
        {
          "data": {
            "image/png": "[encoded data removed]",
            "text/plain": [
              "<Figure size 1500x700 with 1 Axes>"
            ]
          },
          "metadata": {},
          "output_type": "display_data"
        }
      ],
      "source": [
        "fig = plt.figure(figsize=(15,7))\n",
        "sns.countplot(x='job',data=df, hue='y')"
      ]
    },
    {
      "cell_type": "code",
      "execution_count": 17,
      "metadata": {
        "colab": {
          "base_uri": "https://localhost:8080/",
          "height": 482
        },
        "id": "JN4zXEcasuY9",
        "outputId": "29629a6b-213d-4ad2-a587-0039019a36d2"
      },
      "outputs": [
        {
          "data": {
            "text/plain": [
              "<Axes: xlabel='marital', ylabel='count'>"
            ]
          },
          "execution_count": 17,
          "metadata": {},
          "output_type": "execute_result"
        },
        {
          "data": {
            "image/png": "[encoded data removed]",
            "text/plain": [
              "<Figure size 700x500 with 1 Axes>"
            ]
          },
          "metadata": {},
          "output_type": "display_data"
        }
      ],
      "source": [
        "fig = plt.figure(figsize=(7,5))\n",
        "sns.countplot(x='marital',data=df, hue='y')"
      ]
    },
    {
      "cell_type": "code",
      "execution_count": 18,
      "metadata": {
        "colab": {
          "base_uri": "https://localhost:8080/",
          "height": 482
        },
        "id": "bVsI8uLPs4pa",
        "outputId": "d9f57a66-e726-49cc-83e9-3c8330a096fb"
      },
      "outputs": [
        {
          "data": {
            "text/plain": [
              "<Axes: xlabel='education', ylabel='count'>"
            ]
          },
          "execution_count": 18,
          "metadata": {},
          "output_type": "execute_result"
        },
        {
          "data": {
            "image/png": "[encoded data removed]",
            "text/plain": [
              "<Figure size 1000x600 with 1 Axes>"
            ]
          },
          "metadata": {},
          "output_type": "display_data"
        }
      ],
      "source": [
        "fig = plt.figure(figsize=(10,6))\n",
        "sns.countplot(x='education',data=df, hue='y')"
      ]
    },
    {
      "cell_type": "code",
      "execution_count": 19,
      "metadata": {
        "colab": {
          "base_uri": "https://localhost:8080/",
          "height": 482
        },
        "id": "cLsj3v8hs9qT",
        "outputId": "ea976e98-422a-4a79-bc13-951fa5dc868d"
      },
      "outputs": [
        {
          "data": {
            "text/plain": [
              "<Axes: xlabel='loan', ylabel='count'>"
            ]
          },
          "execution_count": 19,
          "metadata": {},
          "output_type": "execute_result"
        },
        {
          "data": {
            "image/png": "[encoded data removed]",
            "text/plain": [
              "<Figure size 700x500 with 1 Axes>"
            ]
          },
          "metadata": {},
          "output_type": "display_data"
        }
      ],
      "source": [
        "fig = plt.figure(figsize=(7,5))\n",
        "sns.countplot(x='loan',data=df, hue='y')"
      ]
    },
    {
      "cell_type": "code",
      "execution_count": 20,
      "metadata": {
        "id": "8SgQhqIUtJEU"
      },
      "outputs": [],
      "source": [
        "#Preprocessing\n",
        "from sklearn.compose import ColumnTransformer\n",
        "from sklearn.preprocessing import StandardScaler\n",
        "from sklearn.preprocessing import OneHotEncoder\n",
        "from sklearn.preprocessing import OrdinalEncoder\n",
        "from sklearn.impute import SimpleImputer"
      ]
    },
    {
      "cell_type": "markdown",
      "metadata": {
        "id": "PrVHXGz-a8WS"
      },
      "source": [
        "Label Encoder and One Hot Encoder.used to convert categorical data, or text data, into numbers, which our predictive models can better understand."
      ]
    },
    {
      "cell_type": "code",
      "execution_count": 21,
      "metadata": {},
      "outputs": [
        {
          "data": {
            "text/html": [
              "<div>\n",
              "<style scoped>\n",
              "    .dataframe tbody tr th:only-of-type {\n",
              "        vertical-align: middle;\n",
              "    }\n",
              "\n",
              "    .dataframe tbody tr th {\n",
              "        vertical-align: top;\n",
              "    }\n",
              "\n",
              "    .dataframe thead th {\n",
              "        text-align: right;\n",
              "    }\n",
              "</style>\n",
              "<table border=\"1\" class=\"dataframe\">\n",
              "  <thead>\n",
              "    <tr style=\"text-align: right;\">\n",
              "      <th></th>\n",
              "      <th>age</th>\n",
              "      <th>job</th>\n",
              "      <th>marital</th>\n",
              "      <th>education</th>\n",
              "      <th>default</th>\n",
              "      <th>housing</th>\n",
              "      <th>loan</th>\n",
              "      <th>contact</th>\n",
              "      <th>month</th>\n",
              "      <th>day_of_week</th>\n",
              "      <th>...</th>\n",
              "      <th>campaign</th>\n",
              "      <th>pdays</th>\n",
              "      <th>previous</th>\n",
              "      <th>poutcome</th>\n",
              "      <th>emp_var_rate</th>\n",
              "      <th>cons_price_idx</th>\n",
              "      <th>cons_conf_idx</th>\n",
              "      <th>euribor3m</th>\n",
              "      <th>nr_employed</th>\n",
              "      <th>y</th>\n",
              "    </tr>\n",
              "  </thead>\n",
              "  <tbody>\n",
              "    <tr>\n",
              "      <th>0</th>\n",
              "      <td>44</td>\n",
              "      <td>blue-collar</td>\n",
              "      <td>married</td>\n",
              "      <td>basic.4y</td>\n",
              "      <td>unknown</td>\n",
              "      <td>yes</td>\n",
              "      <td>no</td>\n",
              "      <td>cellular</td>\n",
              "      <td>aug</td>\n",
              "      <td>thu</td>\n",
              "      <td>...</td>\n",
              "      <td>1</td>\n",
              "      <td>999</td>\n",
              "      <td>0</td>\n",
              "      <td>nonexistent</td>\n",
              "      <td>1.4</td>\n",
              "      <td>93.444</td>\n",
              "      <td>-36.1</td>\n",
              "      <td>4.963</td>\n",
              "      <td>5228.1</td>\n",
              "      <td>0</td>\n",
              "    </tr>\n",
              "    <tr>\n",
              "      <th>1</th>\n",
              "      <td>53</td>\n",
              "      <td>technician</td>\n",
              "      <td>married</td>\n",
              "      <td>unknown</td>\n",
              "      <td>no</td>\n",
              "      <td>no</td>\n",
              "      <td>no</td>\n",
              "      <td>cellular</td>\n",
              "      <td>nov</td>\n",
              "      <td>fri</td>\n",
              "      <td>...</td>\n",
              "      <td>1</td>\n",
              "      <td>999</td>\n",
              "      <td>0</td>\n",
              "      <td>nonexistent</td>\n",
              "      <td>-0.1</td>\n",
              "      <td>93.200</td>\n",
              "      <td>-42.0</td>\n",
              "      <td>4.021</td>\n",
              "      <td>5195.8</td>\n",
              "      <td>0</td>\n",
              "    </tr>\n",
              "    <tr>\n",
              "      <th>2</th>\n",
              "      <td>28</td>\n",
              "      <td>management</td>\n",
              "      <td>single</td>\n",
              "      <td>university.degree</td>\n",
              "      <td>no</td>\n",
              "      <td>yes</td>\n",
              "      <td>no</td>\n",
              "      <td>cellular</td>\n",
              "      <td>jun</td>\n",
              "      <td>thu</td>\n",
              "      <td>...</td>\n",
              "      <td>3</td>\n",
              "      <td>6</td>\n",
              "      <td>2</td>\n",
              "      <td>success</td>\n",
              "      <td>-1.7</td>\n",
              "      <td>94.055</td>\n",
              "      <td>-39.8</td>\n",
              "      <td>0.729</td>\n",
              "      <td>4991.6</td>\n",
              "      <td>1</td>\n",
              "    </tr>\n",
              "    <tr>\n",
              "      <th>3</th>\n",
              "      <td>39</td>\n",
              "      <td>services</td>\n",
              "      <td>married</td>\n",
              "      <td>high.school</td>\n",
              "      <td>no</td>\n",
              "      <td>no</td>\n",
              "      <td>no</td>\n",
              "      <td>cellular</td>\n",
              "      <td>apr</td>\n",
              "      <td>fri</td>\n",
              "      <td>...</td>\n",
              "      <td>2</td>\n",
              "      <td>999</td>\n",
              "      <td>0</td>\n",
              "      <td>nonexistent</td>\n",
              "      <td>-1.8</td>\n",
              "      <td>93.075</td>\n",
              "      <td>-47.1</td>\n",
              "      <td>1.405</td>\n",
              "      <td>5099.1</td>\n",
              "      <td>0</td>\n",
              "    </tr>\n",
              "    <tr>\n",
              "      <th>4</th>\n",
              "      <td>55</td>\n",
              "      <td>retired</td>\n",
              "      <td>married</td>\n",
              "      <td>basic.4y</td>\n",
              "      <td>no</td>\n",
              "      <td>yes</td>\n",
              "      <td>no</td>\n",
              "      <td>cellular</td>\n",
              "      <td>aug</td>\n",
              "      <td>fri</td>\n",
              "      <td>...</td>\n",
              "      <td>1</td>\n",
              "      <td>3</td>\n",
              "      <td>1</td>\n",
              "      <td>success</td>\n",
              "      <td>-2.9</td>\n",
              "      <td>92.201</td>\n",
              "      <td>-31.4</td>\n",
              "      <td>0.869</td>\n",
              "      <td>5076.2</td>\n",
              "      <td>1</td>\n",
              "    </tr>\n",
              "    <tr>\n",
              "      <th>...</th>\n",
              "      <td>...</td>\n",
              "      <td>...</td>\n",
              "      <td>...</td>\n",
              "      <td>...</td>\n",
              "      <td>...</td>\n",
              "      <td>...</td>\n",
              "      <td>...</td>\n",
              "      <td>...</td>\n",
              "      <td>...</td>\n",
              "      <td>...</td>\n",
              "      <td>...</td>\n",
              "      <td>...</td>\n",
              "      <td>...</td>\n",
              "      <td>...</td>\n",
              "      <td>...</td>\n",
              "      <td>...</td>\n",
              "      <td>...</td>\n",
              "      <td>...</td>\n",
              "      <td>...</td>\n",
              "      <td>...</td>\n",
              "      <td>...</td>\n",
              "    </tr>\n",
              "    <tr>\n",
              "      <th>41183</th>\n",
              "      <td>59</td>\n",
              "      <td>retired</td>\n",
              "      <td>married</td>\n",
              "      <td>high.school</td>\n",
              "      <td>unknown</td>\n",
              "      <td>no</td>\n",
              "      <td>yes</td>\n",
              "      <td>telephone</td>\n",
              "      <td>jun</td>\n",
              "      <td>thu</td>\n",
              "      <td>...</td>\n",
              "      <td>1</td>\n",
              "      <td>999</td>\n",
              "      <td>0</td>\n",
              "      <td>nonexistent</td>\n",
              "      <td>1.4</td>\n",
              "      <td>94.465</td>\n",
              "      <td>-41.8</td>\n",
              "      <td>4.866</td>\n",
              "      <td>5228.1</td>\n",
              "      <td>0</td>\n",
              "    </tr>\n",
              "    <tr>\n",
              "      <th>41184</th>\n",
              "      <td>31</td>\n",
              "      <td>housemaid</td>\n",
              "      <td>married</td>\n",
              "      <td>basic.4y</td>\n",
              "      <td>unknown</td>\n",
              "      <td>no</td>\n",
              "      <td>no</td>\n",
              "      <td>telephone</td>\n",
              "      <td>may</td>\n",
              "      <td>thu</td>\n",
              "      <td>...</td>\n",
              "      <td>2</td>\n",
              "      <td>999</td>\n",
              "      <td>0</td>\n",
              "      <td>nonexistent</td>\n",
              "      <td>1.1</td>\n",
              "      <td>93.994</td>\n",
              "      <td>-36.4</td>\n",
              "      <td>4.860</td>\n",
              "      <td>5191.0</td>\n",
              "      <td>0</td>\n",
              "    </tr>\n",
              "    <tr>\n",
              "      <th>41185</th>\n",
              "      <td>42</td>\n",
              "      <td>admin.</td>\n",
              "      <td>single</td>\n",
              "      <td>university.degree</td>\n",
              "      <td>unknown</td>\n",
              "      <td>yes</td>\n",
              "      <td>yes</td>\n",
              "      <td>telephone</td>\n",
              "      <td>may</td>\n",
              "      <td>wed</td>\n",
              "      <td>...</td>\n",
              "      <td>3</td>\n",
              "      <td>999</td>\n",
              "      <td>0</td>\n",
              "      <td>nonexistent</td>\n",
              "      <td>1.1</td>\n",
              "      <td>93.994</td>\n",
              "      <td>-36.4</td>\n",
              "      <td>4.857</td>\n",
              "      <td>5191.0</td>\n",
              "      <td>0</td>\n",
              "    </tr>\n",
              "    <tr>\n",
              "      <th>41186</th>\n",
              "      <td>48</td>\n",
              "      <td>technician</td>\n",
              "      <td>married</td>\n",
              "      <td>professional.course</td>\n",
              "      <td>no</td>\n",
              "      <td>no</td>\n",
              "      <td>yes</td>\n",
              "      <td>telephone</td>\n",
              "      <td>oct</td>\n",
              "      <td>tue</td>\n",
              "      <td>...</td>\n",
              "      <td>2</td>\n",
              "      <td>999</td>\n",
              "      <td>0</td>\n",
              "      <td>nonexistent</td>\n",
              "      <td>-3.4</td>\n",
              "      <td>92.431</td>\n",
              "      <td>-26.9</td>\n",
              "      <td>0.742</td>\n",
              "      <td>5017.5</td>\n",
              "      <td>0</td>\n",
              "    </tr>\n",
              "    <tr>\n",
              "      <th>41187</th>\n",
              "      <td>25</td>\n",
              "      <td>student</td>\n",
              "      <td>single</td>\n",
              "      <td>high.school</td>\n",
              "      <td>no</td>\n",
              "      <td>no</td>\n",
              "      <td>no</td>\n",
              "      <td>telephone</td>\n",
              "      <td>may</td>\n",
              "      <td>fri</td>\n",
              "      <td>...</td>\n",
              "      <td>4</td>\n",
              "      <td>999</td>\n",
              "      <td>0</td>\n",
              "      <td>nonexistent</td>\n",
              "      <td>1.1</td>\n",
              "      <td>93.994</td>\n",
              "      <td>-36.4</td>\n",
              "      <td>4.859</td>\n",
              "      <td>5191.0</td>\n",
              "      <td>0</td>\n",
              "    </tr>\n",
              "  </tbody>\n",
              "</table>\n",
              "<p>41188 rows × 21 columns</p>\n",
              "</div>"
            ],
            "text/plain": [
              "       age          job  marital            education  default housing loan  \\\n",
              "0       44  blue-collar  married             basic.4y  unknown     yes   no   \n",
              "1       53   technician  married              unknown       no      no   no   \n",
              "2       28   management   single    university.degree       no     yes   no   \n",
              "3       39     services  married          high.school       no      no   no   \n",
              "4       55      retired  married             basic.4y       no     yes   no   \n",
              "...    ...          ...      ...                  ...      ...     ...  ...   \n",
              "41183   59      retired  married          high.school  unknown      no  yes   \n",
              "41184   31    housemaid  married             basic.4y  unknown      no   no   \n",
              "41185   42       admin.   single    university.degree  unknown     yes  yes   \n",
              "41186   48   technician  married  professional.course       no      no  yes   \n",
              "41187   25      student   single          high.school       no      no   no   \n",
              "\n",
              "         contact month day_of_week  ...  campaign  pdays  previous  \\\n",
              "0       cellular   aug         thu  ...         1    999         0   \n",
              "1       cellular   nov         fri  ...         1    999         0   \n",
              "2       cellular   jun         thu  ...         3      6         2   \n",
              "3       cellular   apr         fri  ...         2    999         0   \n",
              "4       cellular   aug         fri  ...         1      3         1   \n",
              "...          ...   ...         ...  ...       ...    ...       ...   \n",
              "41183  telephone   jun         thu  ...         1    999         0   \n",
              "41184  telephone   may         thu  ...         2    999         0   \n",
              "41185  telephone   may         wed  ...         3    999         0   \n",
              "41186  telephone   oct         tue  ...         2    999         0   \n",
              "41187  telephone   may         fri  ...         4    999         0   \n",
              "\n",
              "          poutcome emp_var_rate  cons_price_idx  cons_conf_idx  euribor3m  \\\n",
              "0      nonexistent          1.4          93.444          -36.1      4.963   \n",
              "1      nonexistent         -0.1          93.200          -42.0      4.021   \n",
              "2          success         -1.7          94.055          -39.8      0.729   \n",
              "3      nonexistent         -1.8          93.075          -47.1      1.405   \n",
              "4          success         -2.9          92.201          -31.4      0.869   \n",
              "...            ...          ...             ...            ...        ...   \n",
              "41183  nonexistent          1.4          94.465          -41.8      4.866   \n",
              "41184  nonexistent          1.1          93.994          -36.4      4.860   \n",
              "41185  nonexistent          1.1          93.994          -36.4      4.857   \n",
              "41186  nonexistent         -3.4          92.431          -26.9      0.742   \n",
              "41187  nonexistent          1.1          93.994          -36.4      4.859   \n",
              "\n",
              "       nr_employed  y  \n",
              "0           5228.1  0  \n",
              "1           5195.8  0  \n",
              "2           4991.6  1  \n",
              "3           5099.1  0  \n",
              "4           5076.2  1  \n",
              "...            ... ..  \n",
              "41183       5228.1  0  \n",
              "41184       5191.0  0  \n",
              "41185       5191.0  0  \n",
              "41186       5017.5  0  \n",
              "41187       5191.0  0  \n",
              "\n",
              "[41188 rows x 21 columns]"
            ]
          },
          "execution_count": 21,
          "metadata": {},
          "output_type": "execute_result"
        }
      ],
      "source": [
        "df"
      ]
    },
    {
      "cell_type": "code",
      "execution_count": 22,
      "metadata": {},
      "outputs": [
        {
          "data": {
            "text/html": [
              "<div>\n",
              "<style scoped>\n",
              "    .dataframe tbody tr th:only-of-type {\n",
              "        vertical-align: middle;\n",
              "    }\n",
              "\n",
              "    .dataframe tbody tr th {\n",
              "        vertical-align: top;\n",
              "    }\n",
              "\n",
              "    .dataframe thead th {\n",
              "        text-align: right;\n",
              "    }\n",
              "</style>\n",
              "<table border=\"1\" class=\"dataframe\">\n",
              "  <thead>\n",
              "    <tr style=\"text-align: right;\">\n",
              "      <th></th>\n",
              "      <th>age</th>\n",
              "      <th>job</th>\n",
              "      <th>marital</th>\n",
              "      <th>education</th>\n",
              "      <th>default</th>\n",
              "      <th>housing</th>\n",
              "      <th>loan</th>\n",
              "      <th>contact</th>\n",
              "      <th>month</th>\n",
              "      <th>day_of_week</th>\n",
              "      <th>duration</th>\n",
              "      <th>campaign</th>\n",
              "      <th>pdays</th>\n",
              "      <th>previous</th>\n",
              "      <th>poutcome</th>\n",
              "      <th>emp_var_rate</th>\n",
              "      <th>cons_price_idx</th>\n",
              "      <th>cons_conf_idx</th>\n",
              "      <th>euribor3m</th>\n",
              "      <th>nr_employed</th>\n",
              "    </tr>\n",
              "  </thead>\n",
              "  <tbody>\n",
              "    <tr>\n",
              "      <th>0</th>\n",
              "      <td>44</td>\n",
              "      <td>blue-collar</td>\n",
              "      <td>married</td>\n",
              "      <td>basic.4y</td>\n",
              "      <td>unknown</td>\n",
              "      <td>yes</td>\n",
              "      <td>no</td>\n",
              "      <td>cellular</td>\n",
              "      <td>aug</td>\n",
              "      <td>thu</td>\n",
              "      <td>210</td>\n",
              "      <td>1</td>\n",
              "      <td>999</td>\n",
              "      <td>0</td>\n",
              "      <td>nonexistent</td>\n",
              "      <td>1.4</td>\n",
              "      <td>93.444</td>\n",
              "      <td>-36.1</td>\n",
              "      <td>4.963</td>\n",
              "      <td>5228.1</td>\n",
              "    </tr>\n",
              "    <tr>\n",
              "      <th>1</th>\n",
              "      <td>53</td>\n",
              "      <td>technician</td>\n",
              "      <td>married</td>\n",
              "      <td>unknown</td>\n",
              "      <td>no</td>\n",
              "      <td>no</td>\n",
              "      <td>no</td>\n",
              "      <td>cellular</td>\n",
              "      <td>nov</td>\n",
              "      <td>fri</td>\n",
              "      <td>138</td>\n",
              "      <td>1</td>\n",
              "      <td>999</td>\n",
              "      <td>0</td>\n",
              "      <td>nonexistent</td>\n",
              "      <td>-0.1</td>\n",
              "      <td>93.200</td>\n",
              "      <td>-42.0</td>\n",
              "      <td>4.021</td>\n",
              "      <td>5195.8</td>\n",
              "    </tr>\n",
              "    <tr>\n",
              "      <th>2</th>\n",
              "      <td>28</td>\n",
              "      <td>management</td>\n",
              "      <td>single</td>\n",
              "      <td>university.degree</td>\n",
              "      <td>no</td>\n",
              "      <td>yes</td>\n",
              "      <td>no</td>\n",
              "      <td>cellular</td>\n",
              "      <td>jun</td>\n",
              "      <td>thu</td>\n",
              "      <td>339</td>\n",
              "      <td>3</td>\n",
              "      <td>6</td>\n",
              "      <td>2</td>\n",
              "      <td>success</td>\n",
              "      <td>-1.7</td>\n",
              "      <td>94.055</td>\n",
              "      <td>-39.8</td>\n",
              "      <td>0.729</td>\n",
              "      <td>4991.6</td>\n",
              "    </tr>\n",
              "    <tr>\n",
              "      <th>3</th>\n",
              "      <td>39</td>\n",
              "      <td>services</td>\n",
              "      <td>married</td>\n",
              "      <td>high.school</td>\n",
              "      <td>no</td>\n",
              "      <td>no</td>\n",
              "      <td>no</td>\n",
              "      <td>cellular</td>\n",
              "      <td>apr</td>\n",
              "      <td>fri</td>\n",
              "      <td>185</td>\n",
              "      <td>2</td>\n",
              "      <td>999</td>\n",
              "      <td>0</td>\n",
              "      <td>nonexistent</td>\n",
              "      <td>-1.8</td>\n",
              "      <td>93.075</td>\n",
              "      <td>-47.1</td>\n",
              "      <td>1.405</td>\n",
              "      <td>5099.1</td>\n",
              "    </tr>\n",
              "    <tr>\n",
              "      <th>4</th>\n",
              "      <td>55</td>\n",
              "      <td>retired</td>\n",
              "      <td>married</td>\n",
              "      <td>basic.4y</td>\n",
              "      <td>no</td>\n",
              "      <td>yes</td>\n",
              "      <td>no</td>\n",
              "      <td>cellular</td>\n",
              "      <td>aug</td>\n",
              "      <td>fri</td>\n",
              "      <td>137</td>\n",
              "      <td>1</td>\n",
              "      <td>3</td>\n",
              "      <td>1</td>\n",
              "      <td>success</td>\n",
              "      <td>-2.9</td>\n",
              "      <td>92.201</td>\n",
              "      <td>-31.4</td>\n",
              "      <td>0.869</td>\n",
              "      <td>5076.2</td>\n",
              "    </tr>\n",
              "    <tr>\n",
              "      <th>...</th>\n",
              "      <td>...</td>\n",
              "      <td>...</td>\n",
              "      <td>...</td>\n",
              "      <td>...</td>\n",
              "      <td>...</td>\n",
              "      <td>...</td>\n",
              "      <td>...</td>\n",
              "      <td>...</td>\n",
              "      <td>...</td>\n",
              "      <td>...</td>\n",
              "      <td>...</td>\n",
              "      <td>...</td>\n",
              "      <td>...</td>\n",
              "      <td>...</td>\n",
              "      <td>...</td>\n",
              "      <td>...</td>\n",
              "      <td>...</td>\n",
              "      <td>...</td>\n",
              "      <td>...</td>\n",
              "      <td>...</td>\n",
              "    </tr>\n",
              "    <tr>\n",
              "      <th>41183</th>\n",
              "      <td>59</td>\n",
              "      <td>retired</td>\n",
              "      <td>married</td>\n",
              "      <td>high.school</td>\n",
              "      <td>unknown</td>\n",
              "      <td>no</td>\n",
              "      <td>yes</td>\n",
              "      <td>telephone</td>\n",
              "      <td>jun</td>\n",
              "      <td>thu</td>\n",
              "      <td>222</td>\n",
              "      <td>1</td>\n",
              "      <td>999</td>\n",
              "      <td>0</td>\n",
              "      <td>nonexistent</td>\n",
              "      <td>1.4</td>\n",
              "      <td>94.465</td>\n",
              "      <td>-41.8</td>\n",
              "      <td>4.866</td>\n",
              "      <td>5228.1</td>\n",
              "    </tr>\n",
              "    <tr>\n",
              "      <th>41184</th>\n",
              "      <td>31</td>\n",
              "      <td>housemaid</td>\n",
              "      <td>married</td>\n",
              "      <td>basic.4y</td>\n",
              "      <td>unknown</td>\n",
              "      <td>no</td>\n",
              "      <td>no</td>\n",
              "      <td>telephone</td>\n",
              "      <td>may</td>\n",
              "      <td>thu</td>\n",
              "      <td>196</td>\n",
              "      <td>2</td>\n",
              "      <td>999</td>\n",
              "      <td>0</td>\n",
              "      <td>nonexistent</td>\n",
              "      <td>1.1</td>\n",
              "      <td>93.994</td>\n",
              "      <td>-36.4</td>\n",
              "      <td>4.860</td>\n",
              "      <td>5191.0</td>\n",
              "    </tr>\n",
              "    <tr>\n",
              "      <th>41185</th>\n",
              "      <td>42</td>\n",
              "      <td>admin.</td>\n",
              "      <td>single</td>\n",
              "      <td>university.degree</td>\n",
              "      <td>unknown</td>\n",
              "      <td>yes</td>\n",
              "      <td>yes</td>\n",
              "      <td>telephone</td>\n",
              "      <td>may</td>\n",
              "      <td>wed</td>\n",
              "      <td>62</td>\n",
              "      <td>3</td>\n",
              "      <td>999</td>\n",
              "      <td>0</td>\n",
              "      <td>nonexistent</td>\n",
              "      <td>1.1</td>\n",
              "      <td>93.994</td>\n",
              "      <td>-36.4</td>\n",
              "      <td>4.857</td>\n",
              "      <td>5191.0</td>\n",
              "    </tr>\n",
              "    <tr>\n",
              "      <th>41186</th>\n",
              "      <td>48</td>\n",
              "      <td>technician</td>\n",
              "      <td>married</td>\n",
              "      <td>professional.course</td>\n",
              "      <td>no</td>\n",
              "      <td>no</td>\n",
              "      <td>yes</td>\n",
              "      <td>telephone</td>\n",
              "      <td>oct</td>\n",
              "      <td>tue</td>\n",
              "      <td>200</td>\n",
              "      <td>2</td>\n",
              "      <td>999</td>\n",
              "      <td>0</td>\n",
              "      <td>nonexistent</td>\n",
              "      <td>-3.4</td>\n",
              "      <td>92.431</td>\n",
              "      <td>-26.9</td>\n",
              "      <td>0.742</td>\n",
              "      <td>5017.5</td>\n",
              "    </tr>\n",
              "    <tr>\n",
              "      <th>41187</th>\n",
              "      <td>25</td>\n",
              "      <td>student</td>\n",
              "      <td>single</td>\n",
              "      <td>high.school</td>\n",
              "      <td>no</td>\n",
              "      <td>no</td>\n",
              "      <td>no</td>\n",
              "      <td>telephone</td>\n",
              "      <td>may</td>\n",
              "      <td>fri</td>\n",
              "      <td>112</td>\n",
              "      <td>4</td>\n",
              "      <td>999</td>\n",
              "      <td>0</td>\n",
              "      <td>nonexistent</td>\n",
              "      <td>1.1</td>\n",
              "      <td>93.994</td>\n",
              "      <td>-36.4</td>\n",
              "      <td>4.859</td>\n",
              "      <td>5191.0</td>\n",
              "    </tr>\n",
              "  </tbody>\n",
              "</table>\n",
              "<p>41188 rows × 20 columns</p>\n",
              "</div>"
            ],
            "text/plain": [
              "       age          job  marital            education  default housing loan  \\\n",
              "0       44  blue-collar  married             basic.4y  unknown     yes   no   \n",
              "1       53   technician  married              unknown       no      no   no   \n",
              "2       28   management   single    university.degree       no     yes   no   \n",
              "3       39     services  married          high.school       no      no   no   \n",
              "4       55      retired  married             basic.4y       no     yes   no   \n",
              "...    ...          ...      ...                  ...      ...     ...  ...   \n",
              "41183   59      retired  married          high.school  unknown      no  yes   \n",
              "41184   31    housemaid  married             basic.4y  unknown      no   no   \n",
              "41185   42       admin.   single    university.degree  unknown     yes  yes   \n",
              "41186   48   technician  married  professional.course       no      no  yes   \n",
              "41187   25      student   single          high.school       no      no   no   \n",
              "\n",
              "         contact month day_of_week  duration  campaign  pdays  previous  \\\n",
              "0       cellular   aug         thu       210         1    999         0   \n",
              "1       cellular   nov         fri       138         1    999         0   \n",
              "2       cellular   jun         thu       339         3      6         2   \n",
              "3       cellular   apr         fri       185         2    999         0   \n",
              "4       cellular   aug         fri       137         1      3         1   \n",
              "...          ...   ...         ...       ...       ...    ...       ...   \n",
              "41183  telephone   jun         thu       222         1    999         0   \n",
              "41184  telephone   may         thu       196         2    999         0   \n",
              "41185  telephone   may         wed        62         3    999         0   \n",
              "41186  telephone   oct         tue       200         2    999         0   \n",
              "41187  telephone   may         fri       112         4    999         0   \n",
              "\n",
              "          poutcome  emp_var_rate  cons_price_idx  cons_conf_idx  euribor3m  \\\n",
              "0      nonexistent           1.4          93.444          -36.1      4.963   \n",
              "1      nonexistent          -0.1          93.200          -42.0      4.021   \n",
              "2          success          -1.7          94.055          -39.8      0.729   \n",
              "3      nonexistent          -1.8          93.075          -47.1      1.405   \n",
              "4          success          -2.9          92.201          -31.4      0.869   \n",
              "...            ...           ...             ...            ...        ...   \n",
              "41183  nonexistent           1.4          94.465          -41.8      4.866   \n",
              "41184  nonexistent           1.1          93.994          -36.4      4.860   \n",
              "41185  nonexistent           1.1          93.994          -36.4      4.857   \n",
              "41186  nonexistent          -3.4          92.431          -26.9      0.742   \n",
              "41187  nonexistent           1.1          93.994          -36.4      4.859   \n",
              "\n",
              "       nr_employed  \n",
              "0           5228.1  \n",
              "1           5195.8  \n",
              "2           4991.6  \n",
              "3           5099.1  \n",
              "4           5076.2  \n",
              "...            ...  \n",
              "41183       5228.1  \n",
              "41184       5191.0  \n",
              "41185       5191.0  \n",
              "41186       5017.5  \n",
              "41187       5191.0  \n",
              "\n",
              "[41188 rows x 20 columns]"
            ]
          },
          "execution_count": 22,
          "metadata": {},
          "output_type": "execute_result"
        }
      ],
      "source": [
        "X = df.drop('y', axis=1)\n",
        "X"
      ]
    },
    {
      "cell_type": "code",
      "execution_count": 23,
      "metadata": {},
      "outputs": [],
      "source": [
        "Y = df['y']"
      ]
    },
    {
      "cell_type": "code",
      "execution_count": 24,
      "metadata": {
        "colab": {
          "base_uri": "https://localhost:8080/"
        },
        "id": "yDZKKMzn1Evt",
        "outputId": "aabb8961-bce0-4ad8-bd87-a9a78790dc9c"
      },
      "outputs": [
        {
          "data": {
            "text/plain": [
              "array([0, 1], dtype=int64)"
            ]
          },
          "execution_count": 24,
          "metadata": {},
          "output_type": "execute_result"
        }
      ],
      "source": [
        "Y.unique()"
      ]
    },
    {
      "cell_type": "code",
      "execution_count": 25,
      "metadata": {},
      "outputs": [
        {
          "data": {
            "text/plain": [
              "array(['basic.4y', 'unknown', 'university.degree', 'high.school',\n",
              "       'basic.9y', 'professional.course', 'basic.6y', 'illiterate'],\n",
              "      dtype=object)"
            ]
          },
          "execution_count": 25,
          "metadata": {},
          "output_type": "execute_result"
        }
      ],
      "source": [
        "df['education'].unique()"
      ]
    },
    {
      "cell_type": "code",
      "execution_count": 26,
      "metadata": {
        "id": "0Cns96IV4V-G"
      },
      "outputs": [],
      "source": [
        "#transforming data\n",
        "#this is education unique values\n",
        "ed = ['basic.4y','university.degree','high.school','basic.9y','professional.course','basic.6y','illiterate','unknown']"
      ]
    },
    {
      "cell_type": "code",
      "execution_count": 27,
      "metadata": {},
      "outputs": [
        {
          "data": {
            "text/plain": [
              "array(['thu', 'fri', 'tue', 'mon', 'wed'], dtype=object)"
            ]
          },
          "execution_count": 27,
          "metadata": {},
          "output_type": "execute_result"
        }
      ],
      "source": [
        "df['day_of_week'].unique()"
      ]
    },
    {
      "cell_type": "code",
      "execution_count": 28,
      "metadata": {},
      "outputs": [],
      "source": [
        "day_of_week = ['thu','fri', 'tue', 'mon', 'wed']"
      ]
    },
    {
      "cell_type": "code",
      "execution_count": 29,
      "metadata": {
        "id": "k3lDmMhr1KqW"
      },
      "outputs": [],
      "source": [
        "#the first features that are transform by using StandardScalar this is standardization i.e mean =0 and std = 1 used in numeric value\n",
        "#the second feature that is transform is education where we changed categorical to numeric using ordinalencoder\n",
        "#onehotencoder is used derived the categories based on the unique values in each feature\n",
        "transforming = ColumnTransformer(transformers=[('t1',StandardScaler(),['age','duration','campaign','pdays','previous']),\n",
        "                                               ('t2',OrdinalEncoder(categories=[ed, day_of_week]),['education','day_of_week']),\n",
        "                                               ('t3',OneHotEncoder(),['job','marital','default','housing','loan','contact','month','poutcome'])],\n",
        "                                 remainder ='passthrough')\n",
        "#remainder is use to fit unspecified columns in transformer"
      ]
    },
    {
      "cell_type": "code",
      "execution_count": 30,
      "metadata": {},
      "outputs": [
        {
          "data": {
            "text/html": [
              "<style>#sk-container-id-1 {color: black;background-color: white;}#sk-container-id-1 pre{padding: 0;}#sk-container-id-1 div.sk-toggleable {background-color: white;}#sk-container-id-1 label.sk-toggleable__label {cursor: pointer;display: block;width: 100%;margin-bottom: 0;padding: 0.3em;box-sizing: border-box;text-align: center;}#sk-container-id-1 label.sk-toggleable__label-arrow:before {content: \"▸\";float: left;margin-right: 0.25em;color: #696969;}#sk-container-id-1 label.sk-toggleable__label-arrow:hover:before {color: black;}#sk-container-id-1 div.sk-estimator:hover label.sk-toggleable__label-arrow:before {color: black;}#sk-container-id-1 div.sk-toggleable__content {max-height: 0;max-width: 0;overflow: hidden;text-align: left;background-color: #f0f8ff;}#sk-container-id-1 div.sk-toggleable__content pre {margin: 0.2em;color: black;border-radius: 0.25em;background-color: #f0f8ff;}#sk-container-id-1 input.sk-toggleable__control:checked~div.sk-toggleable__content {max-height: 200px;max-width: 100%;overflow: auto;}#sk-container-id-1 input.sk-toggleable__control:checked~label.sk-toggleable__label-arrow:before {content: \"▾\";}#sk-container-id-1 div.sk-estimator input.sk-toggleable__control:checked~label.sk-toggleable__label {background-color: #d4ebff;}#sk-container-id-1 div.sk-label input.sk-toggleable__control:checked~label.sk-toggleable__label {background-color: #d4ebff;}#sk-container-id-1 input.sk-hidden--visually {border: 0;clip: rect(1px 1px 1px 1px);clip: rect(1px, 1px, 1px, 1px);height: 1px;margin: -1px;overflow: hidden;padding: 0;position: absolute;width: 1px;}#sk-container-id-1 div.sk-estimator {font-family: monospace;background-color: #f0f8ff;border: 1px dotted black;border-radius: 0.25em;box-sizing: border-box;margin-bottom: 0.5em;}#sk-container-id-1 div.sk-estimator:hover {background-color: #d4ebff;}#sk-container-id-1 div.sk-parallel-item::after {content: \"\";width: 100%;border-bottom: 1px solid gray;flex-grow: 1;}#sk-container-id-1 div.sk-label:hover label.sk-toggleable__label {background-color: #d4ebff;}#sk-container-id-1 div.sk-serial::before {content: \"\";position: absolute;border-left: 1px solid gray;box-sizing: border-box;top: 0;bottom: 0;left: 50%;z-index: 0;}#sk-container-id-1 div.sk-serial {display: flex;flex-direction: column;align-items: center;background-color: white;padding-right: 0.2em;padding-left: 0.2em;position: relative;}#sk-container-id-1 div.sk-item {position: relative;z-index: 1;}#sk-container-id-1 div.sk-parallel {display: flex;align-items: stretch;justify-content: center;background-color: white;position: relative;}#sk-container-id-1 div.sk-item::before, #sk-container-id-1 div.sk-parallel-item::before {content: \"\";position: absolute;border-left: 1px solid gray;box-sizing: border-box;top: 0;bottom: 0;left: 50%;z-index: -1;}#sk-container-id-1 div.sk-parallel-item {display: flex;flex-direction: column;z-index: 1;position: relative;background-color: white;}#sk-container-id-1 div.sk-parallel-item:first-child::after {align-self: flex-end;width: 50%;}#sk-container-id-1 div.sk-parallel-item:last-child::after {align-self: flex-start;width: 50%;}#sk-container-id-1 div.sk-parallel-item:only-child::after {width: 0;}#sk-container-id-1 div.sk-dashed-wrapped {border: 1px dashed gray;margin: 0 0.4em 0.5em 0.4em;box-sizing: border-box;padding-bottom: 0.4em;background-color: white;}#sk-container-id-1 div.sk-label label {font-family: monospace;font-weight: bold;display: inline-block;line-height: 1.2em;}#sk-container-id-1 div.sk-label-container {text-align: center;}#sk-container-id-1 div.sk-container {/* jupyter's `normalize.less` sets `[hidden] { display: none; }` but bootstrap.min.css set `[hidden] { display: none !important; }` so we also need the `!important` here to be able to override the default hidden behavior on the sphinx rendered scikit-learn.org. See: https://github.com/scikit-learn/scikit-learn/issues/21755 */display: inline-block !important;position: relative;}#sk-container-id-1 div.sk-text-repr-fallback {display: none;}</style><div id=\"sk-container-id-1\" class=\"sk-top-container\"><div class=\"sk-text-repr-fallback\"><pre>ColumnTransformer(remainder=&#x27;passthrough&#x27;,\n",
              "                  transformers=[(&#x27;t1&#x27;, StandardScaler(),\n",
              "                                 [&#x27;age&#x27;, &#x27;duration&#x27;, &#x27;campaign&#x27;, &#x27;pdays&#x27;,\n",
              "                                  &#x27;previous&#x27;]),\n",
              "                                (&#x27;t2&#x27;,\n",
              "                                 OrdinalEncoder(categories=[[&#x27;basic.4y&#x27;,\n",
              "                                                             &#x27;university.degree&#x27;,\n",
              "                                                             &#x27;high.school&#x27;,\n",
              "                                                             &#x27;basic.9y&#x27;,\n",
              "                                                             &#x27;professional.course&#x27;,\n",
              "                                                             &#x27;basic.6y&#x27;,\n",
              "                                                             &#x27;illiterate&#x27;,\n",
              "                                                             &#x27;unknown&#x27;],\n",
              "                                                            [&#x27;thu&#x27;, &#x27;fri&#x27;,\n",
              "                                                             &#x27;tue&#x27;, &#x27;mon&#x27;,\n",
              "                                                             &#x27;wed&#x27;]]),\n",
              "                                 [&#x27;education&#x27;, &#x27;day_of_week&#x27;]),\n",
              "                                (&#x27;t3&#x27;, OneHotEncoder(),\n",
              "                                 [&#x27;job&#x27;, &#x27;marital&#x27;, &#x27;default&#x27;, &#x27;housing&#x27;,\n",
              "                                  &#x27;loan&#x27;, &#x27;contact&#x27;, &#x27;month&#x27;, &#x27;poutcome&#x27;])])</pre><b>In a Jupyter environment, please rerun this cell to show the HTML representation or trust the notebook. <br />On GitHub, the HTML representation is unable to render, please try loading this page with nbviewer.org.</b></div><div class=\"sk-container\" hidden><div class=\"sk-item sk-dashed-wrapped\"><div class=\"sk-label-container\"><div class=\"sk-label sk-toggleable\"><input class=\"sk-toggleable__control sk-hidden--visually\" id=\"sk-estimator-id-1\" type=\"checkbox\" ><label for=\"sk-estimator-id-1\" class=\"sk-toggleable__label sk-toggleable__label-arrow\">ColumnTransformer</label><div class=\"sk-toggleable__content\"><pre>ColumnTransformer(remainder=&#x27;passthrough&#x27;,\n",
              "                  transformers=[(&#x27;t1&#x27;, StandardScaler(),\n",
              "                                 [&#x27;age&#x27;, &#x27;duration&#x27;, &#x27;campaign&#x27;, &#x27;pdays&#x27;,\n",
              "                                  &#x27;previous&#x27;]),\n",
              "                                (&#x27;t2&#x27;,\n",
              "                                 OrdinalEncoder(categories=[[&#x27;basic.4y&#x27;,\n",
              "                                                             &#x27;university.degree&#x27;,\n",
              "                                                             &#x27;high.school&#x27;,\n",
              "                                                             &#x27;basic.9y&#x27;,\n",
              "                                                             &#x27;professional.course&#x27;,\n",
              "                                                             &#x27;basic.6y&#x27;,\n",
              "                                                             &#x27;illiterate&#x27;,\n",
              "                                                             &#x27;unknown&#x27;],\n",
              "                                                            [&#x27;thu&#x27;, &#x27;fri&#x27;,\n",
              "                                                             &#x27;tue&#x27;, &#x27;mon&#x27;,\n",
              "                                                             &#x27;wed&#x27;]]),\n",
              "                                 [&#x27;education&#x27;, &#x27;day_of_week&#x27;]),\n",
              "                                (&#x27;t3&#x27;, OneHotEncoder(),\n",
              "                                 [&#x27;job&#x27;, &#x27;marital&#x27;, &#x27;default&#x27;, &#x27;housing&#x27;,\n",
              "                                  &#x27;loan&#x27;, &#x27;contact&#x27;, &#x27;month&#x27;, &#x27;poutcome&#x27;])])</pre></div></div></div><div class=\"sk-parallel\"><div class=\"sk-parallel-item\"><div class=\"sk-item\"><div class=\"sk-label-container\"><div class=\"sk-label sk-toggleable\"><input class=\"sk-toggleable__control sk-hidden--visually\" id=\"sk-estimator-id-2\" type=\"checkbox\" ><label for=\"sk-estimator-id-2\" class=\"sk-toggleable__label sk-toggleable__label-arrow\">t1</label><div class=\"sk-toggleable__content\"><pre>[&#x27;age&#x27;, &#x27;duration&#x27;, &#x27;campaign&#x27;, &#x27;pdays&#x27;, &#x27;previous&#x27;]</pre></div></div></div><div class=\"sk-serial\"><div class=\"sk-item\"><div class=\"sk-estimator sk-toggleable\"><input class=\"sk-toggleable__control sk-hidden--visually\" id=\"sk-estimator-id-3\" type=\"checkbox\" ><label for=\"sk-estimator-id-3\" class=\"sk-toggleable__label sk-toggleable__label-arrow\">StandardScaler</label><div class=\"sk-toggleable__content\"><pre>StandardScaler()</pre></div></div></div></div></div></div><div class=\"sk-parallel-item\"><div class=\"sk-item\"><div class=\"sk-label-container\"><div class=\"sk-label sk-toggleable\"><input class=\"sk-toggleable__control sk-hidden--visually\" id=\"sk-estimator-id-4\" type=\"checkbox\" ><label for=\"sk-estimator-id-4\" class=\"sk-toggleable__label sk-toggleable__label-arrow\">t2</label><div class=\"sk-toggleable__content\"><pre>[&#x27;education&#x27;, &#x27;day_of_week&#x27;]</pre></div></div></div><div class=\"sk-serial\"><div class=\"sk-item\"><div class=\"sk-estimator sk-toggleable\"><input class=\"sk-toggleable__control sk-hidden--visually\" id=\"sk-estimator-id-5\" type=\"checkbox\" ><label for=\"sk-estimator-id-5\" class=\"sk-toggleable__label sk-toggleable__label-arrow\">OrdinalEncoder</label><div class=\"sk-toggleable__content\"><pre>OrdinalEncoder(categories=[[&#x27;basic.4y&#x27;, &#x27;university.degree&#x27;, &#x27;high.school&#x27;,\n",
              "                            &#x27;basic.9y&#x27;, &#x27;professional.course&#x27;, &#x27;basic.6y&#x27;,\n",
              "                            &#x27;illiterate&#x27;, &#x27;unknown&#x27;],\n",
              "                           [&#x27;thu&#x27;, &#x27;fri&#x27;, &#x27;tue&#x27;, &#x27;mon&#x27;, &#x27;wed&#x27;]])</pre></div></div></div></div></div></div><div class=\"sk-parallel-item\"><div class=\"sk-item\"><div class=\"sk-label-container\"><div class=\"sk-label sk-toggleable\"><input class=\"sk-toggleable__control sk-hidden--visually\" id=\"sk-estimator-id-6\" type=\"checkbox\" ><label for=\"sk-estimator-id-6\" class=\"sk-toggleable__label sk-toggleable__label-arrow\">t3</label><div class=\"sk-toggleable__content\"><pre>[&#x27;job&#x27;, &#x27;marital&#x27;, &#x27;default&#x27;, &#x27;housing&#x27;, &#x27;loan&#x27;, &#x27;contact&#x27;, &#x27;month&#x27;, &#x27;poutcome&#x27;]</pre></div></div></div><div class=\"sk-serial\"><div class=\"sk-item\"><div class=\"sk-estimator sk-toggleable\"><input class=\"sk-toggleable__control sk-hidden--visually\" id=\"sk-estimator-id-7\" type=\"checkbox\" ><label for=\"sk-estimator-id-7\" class=\"sk-toggleable__label sk-toggleable__label-arrow\">OneHotEncoder</label><div class=\"sk-toggleable__content\"><pre>OneHotEncoder()</pre></div></div></div></div></div></div><div class=\"sk-parallel-item\"><div class=\"sk-item\"><div class=\"sk-label-container\"><div class=\"sk-label sk-toggleable\"><input class=\"sk-toggleable__control sk-hidden--visually\" id=\"sk-estimator-id-8\" type=\"checkbox\" ><label for=\"sk-estimator-id-8\" class=\"sk-toggleable__label sk-toggleable__label-arrow\">remainder</label><div class=\"sk-toggleable__content\"><pre></pre></div></div></div><div class=\"sk-serial\"><div class=\"sk-item\"><div class=\"sk-estimator sk-toggleable\"><input class=\"sk-toggleable__control sk-hidden--visually\" id=\"sk-estimator-id-9\" type=\"checkbox\" ><label for=\"sk-estimator-id-9\" class=\"sk-toggleable__label sk-toggleable__label-arrow\">passthrough</label><div class=\"sk-toggleable__content\"><pre>passthrough</pre></div></div></div></div></div></div></div></div></div></div>"
            ],
            "text/plain": [
              "ColumnTransformer(remainder='passthrough',\n",
              "                  transformers=[('t1', StandardScaler(),\n",
              "                                 ['age', 'duration', 'campaign', 'pdays',\n",
              "                                  'previous']),\n",
              "                                ('t2',\n",
              "                                 OrdinalEncoder(categories=[['basic.4y',\n",
              "                                                             'university.degree',\n",
              "                                                             'high.school',\n",
              "                                                             'basic.9y',\n",
              "                                                             'professional.course',\n",
              "                                                             'basic.6y',\n",
              "                                                             'illiterate',\n",
              "                                                             'unknown'],\n",
              "                                                            ['thu', 'fri',\n",
              "                                                             'tue', 'mon',\n",
              "                                                             'wed']]),\n",
              "                                 ['education', 'day_of_week']),\n",
              "                                ('t3', OneHotEncoder(),\n",
              "                                 ['job', 'marital', 'default', 'housing',\n",
              "                                  'loan', 'contact', 'month', 'poutcome'])])"
            ]
          },
          "execution_count": 30,
          "metadata": {},
          "output_type": "execute_result"
        }
      ],
      "source": [
        "transforming"
      ]
    },
    {
      "cell_type": "markdown",
      "metadata": {
        "id": "k3lomtm7pGqT"
      },
      "source": [
        "scale the data, this will being all our features to the same scale, this helps ensure attributes with larger values do not over influence the model. The StandardScaler in sklearn essentially computes the z score of each feature which ensures each feature in the dataset has a mean of 0 and variance of 1."
      ]
    },
    {
      "cell_type": "code",
      "execution_count": 31,
      "metadata": {
        "id": "TOuS43zT3zvw"
      },
      "outputs": [],
      "source": [
        "def transform(df):\n",
        "  tranform_f = np.array(transforming.fit_transform(df),dtype=np.str)\n",
        "  return tranform_f"
      ]
    },
    {
      "cell_type": "code",
      "execution_count": 32,
      "metadata": {},
      "outputs": [
        {
          "data": {
            "text/html": [
              "<div>\n",
              "<style scoped>\n",
              "    .dataframe tbody tr th:only-of-type {\n",
              "        vertical-align: middle;\n",
              "    }\n",
              "\n",
              "    .dataframe tbody tr th {\n",
              "        vertical-align: top;\n",
              "    }\n",
              "\n",
              "    .dataframe thead th {\n",
              "        text-align: right;\n",
              "    }\n",
              "</style>\n",
              "<table border=\"1\" class=\"dataframe\">\n",
              "  <thead>\n",
              "    <tr style=\"text-align: right;\">\n",
              "      <th></th>\n",
              "      <th>age</th>\n",
              "      <th>job</th>\n",
              "      <th>marital</th>\n",
              "      <th>education</th>\n",
              "      <th>default</th>\n",
              "      <th>housing</th>\n",
              "      <th>loan</th>\n",
              "      <th>contact</th>\n",
              "      <th>month</th>\n",
              "      <th>day_of_week</th>\n",
              "      <th>duration</th>\n",
              "      <th>campaign</th>\n",
              "      <th>pdays</th>\n",
              "      <th>previous</th>\n",
              "      <th>poutcome</th>\n",
              "      <th>emp_var_rate</th>\n",
              "      <th>cons_price_idx</th>\n",
              "      <th>cons_conf_idx</th>\n",
              "      <th>euribor3m</th>\n",
              "      <th>nr_employed</th>\n",
              "    </tr>\n",
              "  </thead>\n",
              "  <tbody>\n",
              "    <tr>\n",
              "      <th>0</th>\n",
              "      <td>44</td>\n",
              "      <td>blue-collar</td>\n",
              "      <td>married</td>\n",
              "      <td>basic.4y</td>\n",
              "      <td>unknown</td>\n",
              "      <td>yes</td>\n",
              "      <td>no</td>\n",
              "      <td>cellular</td>\n",
              "      <td>aug</td>\n",
              "      <td>thu</td>\n",
              "      <td>210</td>\n",
              "      <td>1</td>\n",
              "      <td>999</td>\n",
              "      <td>0</td>\n",
              "      <td>nonexistent</td>\n",
              "      <td>1.4</td>\n",
              "      <td>93.444</td>\n",
              "      <td>-36.1</td>\n",
              "      <td>4.963</td>\n",
              "      <td>5228.1</td>\n",
              "    </tr>\n",
              "    <tr>\n",
              "      <th>1</th>\n",
              "      <td>53</td>\n",
              "      <td>technician</td>\n",
              "      <td>married</td>\n",
              "      <td>unknown</td>\n",
              "      <td>no</td>\n",
              "      <td>no</td>\n",
              "      <td>no</td>\n",
              "      <td>cellular</td>\n",
              "      <td>nov</td>\n",
              "      <td>fri</td>\n",
              "      <td>138</td>\n",
              "      <td>1</td>\n",
              "      <td>999</td>\n",
              "      <td>0</td>\n",
              "      <td>nonexistent</td>\n",
              "      <td>-0.1</td>\n",
              "      <td>93.200</td>\n",
              "      <td>-42.0</td>\n",
              "      <td>4.021</td>\n",
              "      <td>5195.8</td>\n",
              "    </tr>\n",
              "    <tr>\n",
              "      <th>2</th>\n",
              "      <td>28</td>\n",
              "      <td>management</td>\n",
              "      <td>single</td>\n",
              "      <td>university.degree</td>\n",
              "      <td>no</td>\n",
              "      <td>yes</td>\n",
              "      <td>no</td>\n",
              "      <td>cellular</td>\n",
              "      <td>jun</td>\n",
              "      <td>thu</td>\n",
              "      <td>339</td>\n",
              "      <td>3</td>\n",
              "      <td>6</td>\n",
              "      <td>2</td>\n",
              "      <td>success</td>\n",
              "      <td>-1.7</td>\n",
              "      <td>94.055</td>\n",
              "      <td>-39.8</td>\n",
              "      <td>0.729</td>\n",
              "      <td>4991.6</td>\n",
              "    </tr>\n",
              "    <tr>\n",
              "      <th>3</th>\n",
              "      <td>39</td>\n",
              "      <td>services</td>\n",
              "      <td>married</td>\n",
              "      <td>high.school</td>\n",
              "      <td>no</td>\n",
              "      <td>no</td>\n",
              "      <td>no</td>\n",
              "      <td>cellular</td>\n",
              "      <td>apr</td>\n",
              "      <td>fri</td>\n",
              "      <td>185</td>\n",
              "      <td>2</td>\n",
              "      <td>999</td>\n",
              "      <td>0</td>\n",
              "      <td>nonexistent</td>\n",
              "      <td>-1.8</td>\n",
              "      <td>93.075</td>\n",
              "      <td>-47.1</td>\n",
              "      <td>1.405</td>\n",
              "      <td>5099.1</td>\n",
              "    </tr>\n",
              "    <tr>\n",
              "      <th>4</th>\n",
              "      <td>55</td>\n",
              "      <td>retired</td>\n",
              "      <td>married</td>\n",
              "      <td>basic.4y</td>\n",
              "      <td>no</td>\n",
              "      <td>yes</td>\n",
              "      <td>no</td>\n",
              "      <td>cellular</td>\n",
              "      <td>aug</td>\n",
              "      <td>fri</td>\n",
              "      <td>137</td>\n",
              "      <td>1</td>\n",
              "      <td>3</td>\n",
              "      <td>1</td>\n",
              "      <td>success</td>\n",
              "      <td>-2.9</td>\n",
              "      <td>92.201</td>\n",
              "      <td>-31.4</td>\n",
              "      <td>0.869</td>\n",
              "      <td>5076.2</td>\n",
              "    </tr>\n",
              "    <tr>\n",
              "      <th>...</th>\n",
              "      <td>...</td>\n",
              "      <td>...</td>\n",
              "      <td>...</td>\n",
              "      <td>...</td>\n",
              "      <td>...</td>\n",
              "      <td>...</td>\n",
              "      <td>...</td>\n",
              "      <td>...</td>\n",
              "      <td>...</td>\n",
              "      <td>...</td>\n",
              "      <td>...</td>\n",
              "      <td>...</td>\n",
              "      <td>...</td>\n",
              "      <td>...</td>\n",
              "      <td>...</td>\n",
              "      <td>...</td>\n",
              "      <td>...</td>\n",
              "      <td>...</td>\n",
              "      <td>...</td>\n",
              "      <td>...</td>\n",
              "    </tr>\n",
              "    <tr>\n",
              "      <th>41183</th>\n",
              "      <td>59</td>\n",
              "      <td>retired</td>\n",
              "      <td>married</td>\n",
              "      <td>high.school</td>\n",
              "      <td>unknown</td>\n",
              "      <td>no</td>\n",
              "      <td>yes</td>\n",
              "      <td>telephone</td>\n",
              "      <td>jun</td>\n",
              "      <td>thu</td>\n",
              "      <td>222</td>\n",
              "      <td>1</td>\n",
              "      <td>999</td>\n",
              "      <td>0</td>\n",
              "      <td>nonexistent</td>\n",
              "      <td>1.4</td>\n",
              "      <td>94.465</td>\n",
              "      <td>-41.8</td>\n",
              "      <td>4.866</td>\n",
              "      <td>5228.1</td>\n",
              "    </tr>\n",
              "    <tr>\n",
              "      <th>41184</th>\n",
              "      <td>31</td>\n",
              "      <td>housemaid</td>\n",
              "      <td>married</td>\n",
              "      <td>basic.4y</td>\n",
              "      <td>unknown</td>\n",
              "      <td>no</td>\n",
              "      <td>no</td>\n",
              "      <td>telephone</td>\n",
              "      <td>may</td>\n",
              "      <td>thu</td>\n",
              "      <td>196</td>\n",
              "      <td>2</td>\n",
              "      <td>999</td>\n",
              "      <td>0</td>\n",
              "      <td>nonexistent</td>\n",
              "      <td>1.1</td>\n",
              "      <td>93.994</td>\n",
              "      <td>-36.4</td>\n",
              "      <td>4.860</td>\n",
              "      <td>5191.0</td>\n",
              "    </tr>\n",
              "    <tr>\n",
              "      <th>41185</th>\n",
              "      <td>42</td>\n",
              "      <td>admin.</td>\n",
              "      <td>single</td>\n",
              "      <td>university.degree</td>\n",
              "      <td>unknown</td>\n",
              "      <td>yes</td>\n",
              "      <td>yes</td>\n",
              "      <td>telephone</td>\n",
              "      <td>may</td>\n",
              "      <td>wed</td>\n",
              "      <td>62</td>\n",
              "      <td>3</td>\n",
              "      <td>999</td>\n",
              "      <td>0</td>\n",
              "      <td>nonexistent</td>\n",
              "      <td>1.1</td>\n",
              "      <td>93.994</td>\n",
              "      <td>-36.4</td>\n",
              "      <td>4.857</td>\n",
              "      <td>5191.0</td>\n",
              "    </tr>\n",
              "    <tr>\n",
              "      <th>41186</th>\n",
              "      <td>48</td>\n",
              "      <td>technician</td>\n",
              "      <td>married</td>\n",
              "      <td>professional.course</td>\n",
              "      <td>no</td>\n",
              "      <td>no</td>\n",
              "      <td>yes</td>\n",
              "      <td>telephone</td>\n",
              "      <td>oct</td>\n",
              "      <td>tue</td>\n",
              "      <td>200</td>\n",
              "      <td>2</td>\n",
              "      <td>999</td>\n",
              "      <td>0</td>\n",
              "      <td>nonexistent</td>\n",
              "      <td>-3.4</td>\n",
              "      <td>92.431</td>\n",
              "      <td>-26.9</td>\n",
              "      <td>0.742</td>\n",
              "      <td>5017.5</td>\n",
              "    </tr>\n",
              "    <tr>\n",
              "      <th>41187</th>\n",
              "      <td>25</td>\n",
              "      <td>student</td>\n",
              "      <td>single</td>\n",
              "      <td>high.school</td>\n",
              "      <td>no</td>\n",
              "      <td>no</td>\n",
              "      <td>no</td>\n",
              "      <td>telephone</td>\n",
              "      <td>may</td>\n",
              "      <td>fri</td>\n",
              "      <td>112</td>\n",
              "      <td>4</td>\n",
              "      <td>999</td>\n",
              "      <td>0</td>\n",
              "      <td>nonexistent</td>\n",
              "      <td>1.1</td>\n",
              "      <td>93.994</td>\n",
              "      <td>-36.4</td>\n",
              "      <td>4.859</td>\n",
              "      <td>5191.0</td>\n",
              "    </tr>\n",
              "  </tbody>\n",
              "</table>\n",
              "<p>41188 rows × 20 columns</p>\n",
              "</div>"
            ],
            "text/plain": [
              "       age          job  marital            education  default housing loan  \\\n",
              "0       44  blue-collar  married             basic.4y  unknown     yes   no   \n",
              "1       53   technician  married              unknown       no      no   no   \n",
              "2       28   management   single    university.degree       no     yes   no   \n",
              "3       39     services  married          high.school       no      no   no   \n",
              "4       55      retired  married             basic.4y       no     yes   no   \n",
              "...    ...          ...      ...                  ...      ...     ...  ...   \n",
              "41183   59      retired  married          high.school  unknown      no  yes   \n",
              "41184   31    housemaid  married             basic.4y  unknown      no   no   \n",
              "41185   42       admin.   single    university.degree  unknown     yes  yes   \n",
              "41186   48   technician  married  professional.course       no      no  yes   \n",
              "41187   25      student   single          high.school       no      no   no   \n",
              "\n",
              "         contact month day_of_week  duration  campaign  pdays  previous  \\\n",
              "0       cellular   aug         thu       210         1    999         0   \n",
              "1       cellular   nov         fri       138         1    999         0   \n",
              "2       cellular   jun         thu       339         3      6         2   \n",
              "3       cellular   apr         fri       185         2    999         0   \n",
              "4       cellular   aug         fri       137         1      3         1   \n",
              "...          ...   ...         ...       ...       ...    ...       ...   \n",
              "41183  telephone   jun         thu       222         1    999         0   \n",
              "41184  telephone   may         thu       196         2    999         0   \n",
              "41185  telephone   may         wed        62         3    999         0   \n",
              "41186  telephone   oct         tue       200         2    999         0   \n",
              "41187  telephone   may         fri       112         4    999         0   \n",
              "\n",
              "          poutcome  emp_var_rate  cons_price_idx  cons_conf_idx  euribor3m  \\\n",
              "0      nonexistent           1.4          93.444          -36.1      4.963   \n",
              "1      nonexistent          -0.1          93.200          -42.0      4.021   \n",
              "2          success          -1.7          94.055          -39.8      0.729   \n",
              "3      nonexistent          -1.8          93.075          -47.1      1.405   \n",
              "4          success          -2.9          92.201          -31.4      0.869   \n",
              "...            ...           ...             ...            ...        ...   \n",
              "41183  nonexistent           1.4          94.465          -41.8      4.866   \n",
              "41184  nonexistent           1.1          93.994          -36.4      4.860   \n",
              "41185  nonexistent           1.1          93.994          -36.4      4.857   \n",
              "41186  nonexistent          -3.4          92.431          -26.9      0.742   \n",
              "41187  nonexistent           1.1          93.994          -36.4      4.859   \n",
              "\n",
              "       nr_employed  \n",
              "0           5228.1  \n",
              "1           5195.8  \n",
              "2           4991.6  \n",
              "3           5099.1  \n",
              "4           5076.2  \n",
              "...            ...  \n",
              "41183       5228.1  \n",
              "41184       5191.0  \n",
              "41185       5191.0  \n",
              "41186       5017.5  \n",
              "41187       5191.0  \n",
              "\n",
              "[41188 rows x 20 columns]"
            ]
          },
          "execution_count": 32,
          "metadata": {},
          "output_type": "execute_result"
        }
      ],
      "source": [
        "X"
      ]
    },
    {
      "cell_type": "code",
      "execution_count": 33,
      "metadata": {
        "colab": {
          "base_uri": "https://localhost:8080/"
        },
        "id": "cWqKPTb04kLz",
        "outputId": "ee2bbf47-e6f2-48a8-fe42-d5199bc7fa02"
      },
      "outputs": [
        {
          "name": "stderr",
          "output_type": "stream",
          "text": [
            "C:\\Users\\arush\\AppData\\Local\\Temp\\ipykernel_8360\\2800899354.py:1: DeprecationWarning: `np.str` is a deprecated alias for the builtin `str`. To silence this warning, use `str` by itself. Doing this will not modify any behavior and is safe. If you specifically wanted the numpy scalar type, use `np.str_` here.\n",
            "Deprecated in NumPy 1.20; for more details and guidance: https://numpy.org/devdocs/release/1.20.0-notes.html#deprecations\n",
            "  trans_X = np.array(transforming.fit_transform(X), dtype=np.str)\n"
          ]
        },
        {
          "data": {
            "text/plain": [
              "array([['0.38152696346039877', '-0.18623008427539628',\n",
              "        '-0.5659219741930244', ..., '-36.1', '4.963', '5228.1'],\n",
              "       ['1.2451574563070607', '-0.46392633023417645',\n",
              "        '-0.5659219741930244', ..., '-42.0', '4.021', '5195.8'],\n",
              "       ['-1.1538161349336669', '0.31130902306741826',\n",
              "        '0.15610492148155003', ..., '-39.8', '0.729', '4991.6'],\n",
              "       ...,\n",
              "       ['0.1896090761611406', '-0.7570501454128888',\n",
              "        '0.15610492148155003', ..., '-36.4', '4.857', '5191.0'],\n",
              "       ['0.7653627380589152', '-0.22479900732522687',\n",
              "        '-0.20490852635573717', ..., '-26.9', '0.742', '5017.5'],\n",
              "       ['-1.4416929658825541', '-0.564205530163736',\n",
              "        '0.5171183693188373', ..., '-36.4', '4.859', '5191.0']],\n",
              "      dtype='<U32')"
            ]
          },
          "execution_count": 33,
          "metadata": {},
          "output_type": "execute_result"
        }
      ],
      "source": [
        "trans_X = np.array(transforming.fit_transform(X), dtype=np.str)\n",
        "trans_X"
      ]
    },
    {
      "cell_type": "code",
      "execution_count": 34,
      "metadata": {
        "colab": {
          "base_uri": "https://localhost:8080/"
        },
        "id": "jhVGWi1R4z19",
        "outputId": "b1e2ceae-4121-4a2c-e8de-4a52cadbb2bc"
      },
      "outputs": [
        {
          "data": {
            "text/plain": [
              "(41188, 52)"
            ]
          },
          "execution_count": 34,
          "metadata": {},
          "output_type": "execute_result"
        }
      ],
      "source": [
        "trans_X.shape"
      ]
    },
    {
      "cell_type": "code",
      "execution_count": 35,
      "metadata": {
        "colab": {
          "base_uri": "https://localhost:8080/"
        },
        "id": "bx_zDWDO5EsF",
        "outputId": "840b7493-1a0a-405f-fe15-1b2ac84c0e80"
      },
      "outputs": [
        {
          "data": {
            "text/plain": [
              "array([[ 3.81526963e-01, -1.86230084e-01, -5.65921974e-01, ...,\n",
              "        -3.61000000e+01,  4.96300000e+00,  5.22810000e+03],\n",
              "       [ 1.24515746e+00, -4.63926330e-01, -5.65921974e-01, ...,\n",
              "        -4.20000000e+01,  4.02100000e+00,  5.19580000e+03],\n",
              "       [-1.15381613e+00,  3.11309023e-01,  1.56104921e-01, ...,\n",
              "        -3.98000000e+01,  7.29000000e-01,  4.99160000e+03],\n",
              "       ...,\n",
              "       [ 1.89609076e-01, -7.57050145e-01,  1.56104921e-01, ...,\n",
              "        -3.64000000e+01,  4.85700000e+00,  5.19100000e+03],\n",
              "       [ 7.65362738e-01, -2.24799007e-01, -2.04908526e-01, ...,\n",
              "        -2.69000000e+01,  7.42000000e-01,  5.01750000e+03],\n",
              "       [-1.44169297e+00, -5.64205530e-01,  5.17118369e-01, ...,\n",
              "        -3.64000000e+01,  4.85900000e+00,  5.19100000e+03]])"
            ]
          },
          "execution_count": 35,
          "metadata": {},
          "output_type": "execute_result"
        }
      ],
      "source": [
        "tran_X = np.array(trans_X,dtype=float)\n",
        "tran_X"
      ]
    },
    {
      "cell_type": "code",
      "execution_count": 36,
      "metadata": {
        "colab": {
          "base_uri": "https://localhost:8080/",
          "height": 423
        },
        "id": "Nguajo3H5NzR",
        "outputId": "48167bbe-2b54-4a86-a47f-384b6c52aca5"
      },
      "outputs": [
        {
          "data": {
            "text/html": [
              "<div>\n",
              "<style scoped>\n",
              "    .dataframe tbody tr th:only-of-type {\n",
              "        vertical-align: middle;\n",
              "    }\n",
              "\n",
              "    .dataframe tbody tr th {\n",
              "        vertical-align: top;\n",
              "    }\n",
              "\n",
              "    .dataframe thead th {\n",
              "        text-align: right;\n",
              "    }\n",
              "</style>\n",
              "<table border=\"1\" class=\"dataframe\">\n",
              "  <thead>\n",
              "    <tr style=\"text-align: right;\">\n",
              "      <th></th>\n",
              "      <th>0</th>\n",
              "      <th>1</th>\n",
              "      <th>2</th>\n",
              "      <th>3</th>\n",
              "      <th>4</th>\n",
              "      <th>5</th>\n",
              "      <th>6</th>\n",
              "      <th>7</th>\n",
              "      <th>8</th>\n",
              "      <th>9</th>\n",
              "      <th>...</th>\n",
              "      <th>42</th>\n",
              "      <th>43</th>\n",
              "      <th>44</th>\n",
              "      <th>45</th>\n",
              "      <th>46</th>\n",
              "      <th>47</th>\n",
              "      <th>48</th>\n",
              "      <th>49</th>\n",
              "      <th>50</th>\n",
              "      <th>51</th>\n",
              "    </tr>\n",
              "  </thead>\n",
              "  <tbody>\n",
              "    <tr>\n",
              "      <th>0</th>\n",
              "      <td>0.38152696346039877</td>\n",
              "      <td>-0.18623008427539628</td>\n",
              "      <td>-0.5659219741930244</td>\n",
              "      <td>0.19541390012712942</td>\n",
              "      <td>-0.34949428419757467</td>\n",
              "      <td>0.0</td>\n",
              "      <td>0.0</td>\n",
              "      <td>0.0</td>\n",
              "      <td>1.0</td>\n",
              "      <td>0.0</td>\n",
              "      <td>...</td>\n",
              "      <td>0.0</td>\n",
              "      <td>0.0</td>\n",
              "      <td>0.0</td>\n",
              "      <td>1.0</td>\n",
              "      <td>0.0</td>\n",
              "      <td>1.4</td>\n",
              "      <td>93.444</td>\n",
              "      <td>-36.1</td>\n",
              "      <td>4.963</td>\n",
              "      <td>5228.1</td>\n",
              "    </tr>\n",
              "    <tr>\n",
              "      <th>1</th>\n",
              "      <td>1.2451574563070607</td>\n",
              "      <td>-0.46392633023417645</td>\n",
              "      <td>-0.5659219741930244</td>\n",
              "      <td>0.19541390012712942</td>\n",
              "      <td>-0.34949428419757467</td>\n",
              "      <td>7.0</td>\n",
              "      <td>1.0</td>\n",
              "      <td>0.0</td>\n",
              "      <td>0.0</td>\n",
              "      <td>0.0</td>\n",
              "      <td>...</td>\n",
              "      <td>0.0</td>\n",
              "      <td>0.0</td>\n",
              "      <td>0.0</td>\n",
              "      <td>1.0</td>\n",
              "      <td>0.0</td>\n",
              "      <td>-0.1</td>\n",
              "      <td>93.2</td>\n",
              "      <td>-42.0</td>\n",
              "      <td>4.021</td>\n",
              "      <td>5195.8</td>\n",
              "    </tr>\n",
              "    <tr>\n",
              "      <th>2</th>\n",
              "      <td>-1.1538161349336669</td>\n",
              "      <td>0.31130902306741826</td>\n",
              "      <td>0.15610492148155003</td>\n",
              "      <td>-5.11734215465926</td>\n",
              "      <td>3.6917664057321575</td>\n",
              "      <td>1.0</td>\n",
              "      <td>0.0</td>\n",
              "      <td>0.0</td>\n",
              "      <td>0.0</td>\n",
              "      <td>0.0</td>\n",
              "      <td>...</td>\n",
              "      <td>0.0</td>\n",
              "      <td>0.0</td>\n",
              "      <td>0.0</td>\n",
              "      <td>0.0</td>\n",
              "      <td>1.0</td>\n",
              "      <td>-1.7</td>\n",
              "      <td>94.055</td>\n",
              "      <td>-39.8</td>\n",
              "      <td>0.729</td>\n",
              "      <td>4991.6</td>\n",
              "    </tr>\n",
              "    <tr>\n",
              "      <th>3</th>\n",
              "      <td>-0.09826775478774671</td>\n",
              "      <td>-0.2826523918999727</td>\n",
              "      <td>-0.20490852635573717</td>\n",
              "      <td>0.19541390012712942</td>\n",
              "      <td>-0.34949428419757467</td>\n",
              "      <td>2.0</td>\n",
              "      <td>1.0</td>\n",
              "      <td>0.0</td>\n",
              "      <td>0.0</td>\n",
              "      <td>0.0</td>\n",
              "      <td>...</td>\n",
              "      <td>0.0</td>\n",
              "      <td>0.0</td>\n",
              "      <td>0.0</td>\n",
              "      <td>1.0</td>\n",
              "      <td>0.0</td>\n",
              "      <td>-1.8</td>\n",
              "      <td>93.075</td>\n",
              "      <td>-47.1</td>\n",
              "      <td>1.405</td>\n",
              "      <td>5099.1</td>\n",
              "    </tr>\n",
              "    <tr>\n",
              "      <th>4</th>\n",
              "      <td>1.4370753436063188</td>\n",
              "      <td>-0.4677832225391595</td>\n",
              "      <td>-0.5659219741930244</td>\n",
              "      <td>-5.133392777181273</td>\n",
              "      <td>1.6711360607672916</td>\n",
              "      <td>0.0</td>\n",
              "      <td>1.0</td>\n",
              "      <td>0.0</td>\n",
              "      <td>0.0</td>\n",
              "      <td>0.0</td>\n",
              "      <td>...</td>\n",
              "      <td>0.0</td>\n",
              "      <td>0.0</td>\n",
              "      <td>0.0</td>\n",
              "      <td>0.0</td>\n",
              "      <td>1.0</td>\n",
              "      <td>-2.9</td>\n",
              "      <td>92.201</td>\n",
              "      <td>-31.4</td>\n",
              "      <td>0.869</td>\n",
              "      <td>5076.2</td>\n",
              "    </tr>\n",
              "    <tr>\n",
              "      <th>...</th>\n",
              "      <td>...</td>\n",
              "      <td>...</td>\n",
              "      <td>...</td>\n",
              "      <td>...</td>\n",
              "      <td>...</td>\n",
              "      <td>...</td>\n",
              "      <td>...</td>\n",
              "      <td>...</td>\n",
              "      <td>...</td>\n",
              "      <td>...</td>\n",
              "      <td>...</td>\n",
              "      <td>...</td>\n",
              "      <td>...</td>\n",
              "      <td>...</td>\n",
              "      <td>...</td>\n",
              "      <td>...</td>\n",
              "      <td>...</td>\n",
              "      <td>...</td>\n",
              "      <td>...</td>\n",
              "      <td>...</td>\n",
              "      <td>...</td>\n",
              "    </tr>\n",
              "    <tr>\n",
              "      <th>41183</th>\n",
              "      <td>1.8209111182048354</td>\n",
              "      <td>-0.13994737661559958</td>\n",
              "      <td>-0.5659219741930244</td>\n",
              "      <td>0.19541390012712942</td>\n",
              "      <td>-0.34949428419757467</td>\n",
              "      <td>2.0</td>\n",
              "      <td>0.0</td>\n",
              "      <td>0.0</td>\n",
              "      <td>0.0</td>\n",
              "      <td>0.0</td>\n",
              "      <td>...</td>\n",
              "      <td>0.0</td>\n",
              "      <td>0.0</td>\n",
              "      <td>0.0</td>\n",
              "      <td>1.0</td>\n",
              "      <td>0.0</td>\n",
              "      <td>1.4</td>\n",
              "      <td>94.465</td>\n",
              "      <td>-41.8</td>\n",
              "      <td>4.866</td>\n",
              "      <td>5228.1</td>\n",
              "    </tr>\n",
              "    <tr>\n",
              "      <th>41184</th>\n",
              "      <td>-0.8659393039847795</td>\n",
              "      <td>-0.24022657654515908</td>\n",
              "      <td>-0.20490852635573717</td>\n",
              "      <td>0.19541390012712942</td>\n",
              "      <td>-0.34949428419757467</td>\n",
              "      <td>0.0</td>\n",
              "      <td>0.0</td>\n",
              "      <td>0.0</td>\n",
              "      <td>0.0</td>\n",
              "      <td>0.0</td>\n",
              "      <td>...</td>\n",
              "      <td>0.0</td>\n",
              "      <td>0.0</td>\n",
              "      <td>0.0</td>\n",
              "      <td>1.0</td>\n",
              "      <td>0.0</td>\n",
              "      <td>1.1</td>\n",
              "      <td>93.994</td>\n",
              "      <td>-36.4</td>\n",
              "      <td>4.86</td>\n",
              "      <td>5191.0</td>\n",
              "    </tr>\n",
              "    <tr>\n",
              "      <th>41185</th>\n",
              "      <td>0.1896090761611406</td>\n",
              "      <td>-0.7570501454128888</td>\n",
              "      <td>0.15610492148155003</td>\n",
              "      <td>0.19541390012712942</td>\n",
              "      <td>-0.34949428419757467</td>\n",
              "      <td>1.0</td>\n",
              "      <td>4.0</td>\n",
              "      <td>1.0</td>\n",
              "      <td>0.0</td>\n",
              "      <td>0.0</td>\n",
              "      <td>...</td>\n",
              "      <td>0.0</td>\n",
              "      <td>0.0</td>\n",
              "      <td>0.0</td>\n",
              "      <td>1.0</td>\n",
              "      <td>0.0</td>\n",
              "      <td>1.1</td>\n",
              "      <td>93.994</td>\n",
              "      <td>-36.4</td>\n",
              "      <td>4.857</td>\n",
              "      <td>5191.0</td>\n",
              "    </tr>\n",
              "    <tr>\n",
              "      <th>41186</th>\n",
              "      <td>0.7653627380589152</td>\n",
              "      <td>-0.22479900732522687</td>\n",
              "      <td>-0.20490852635573717</td>\n",
              "      <td>0.19541390012712942</td>\n",
              "      <td>-0.34949428419757467</td>\n",
              "      <td>4.0</td>\n",
              "      <td>2.0</td>\n",
              "      <td>0.0</td>\n",
              "      <td>0.0</td>\n",
              "      <td>0.0</td>\n",
              "      <td>...</td>\n",
              "      <td>1.0</td>\n",
              "      <td>0.0</td>\n",
              "      <td>0.0</td>\n",
              "      <td>1.0</td>\n",
              "      <td>0.0</td>\n",
              "      <td>-3.4</td>\n",
              "      <td>92.431</td>\n",
              "      <td>-26.9</td>\n",
              "      <td>0.742</td>\n",
              "      <td>5017.5</td>\n",
              "    </tr>\n",
              "    <tr>\n",
              "      <th>41187</th>\n",
              "      <td>-1.4416929658825541</td>\n",
              "      <td>-0.564205530163736</td>\n",
              "      <td>0.5171183693188373</td>\n",
              "      <td>0.19541390012712942</td>\n",
              "      <td>-0.34949428419757467</td>\n",
              "      <td>2.0</td>\n",
              "      <td>1.0</td>\n",
              "      <td>0.0</td>\n",
              "      <td>0.0</td>\n",
              "      <td>0.0</td>\n",
              "      <td>...</td>\n",
              "      <td>0.0</td>\n",
              "      <td>0.0</td>\n",
              "      <td>0.0</td>\n",
              "      <td>1.0</td>\n",
              "      <td>0.0</td>\n",
              "      <td>1.1</td>\n",
              "      <td>93.994</td>\n",
              "      <td>-36.4</td>\n",
              "      <td>4.859</td>\n",
              "      <td>5191.0</td>\n",
              "    </tr>\n",
              "  </tbody>\n",
              "</table>\n",
              "<p>41188 rows × 52 columns</p>\n",
              "</div>"
            ],
            "text/plain": [
              "                         0                     1                     2   \\\n",
              "0       0.38152696346039877  -0.18623008427539628   -0.5659219741930244   \n",
              "1        1.2451574563070607  -0.46392633023417645   -0.5659219741930244   \n",
              "2       -1.1538161349336669   0.31130902306741826   0.15610492148155003   \n",
              "3      -0.09826775478774671   -0.2826523918999727  -0.20490852635573717   \n",
              "4        1.4370753436063188   -0.4677832225391595   -0.5659219741930244   \n",
              "...                     ...                   ...                   ...   \n",
              "41183    1.8209111182048354  -0.13994737661559958   -0.5659219741930244   \n",
              "41184   -0.8659393039847795  -0.24022657654515908  -0.20490852635573717   \n",
              "41185    0.1896090761611406   -0.7570501454128888   0.15610492148155003   \n",
              "41186    0.7653627380589152  -0.22479900732522687  -0.20490852635573717   \n",
              "41187   -1.4416929658825541    -0.564205530163736    0.5171183693188373   \n",
              "\n",
              "                        3                     4    5    6    7    8    9   \\\n",
              "0      0.19541390012712942  -0.34949428419757467  0.0  0.0  0.0  1.0  0.0   \n",
              "1      0.19541390012712942  -0.34949428419757467  7.0  1.0  0.0  0.0  0.0   \n",
              "2        -5.11734215465926    3.6917664057321575  1.0  0.0  0.0  0.0  0.0   \n",
              "3      0.19541390012712942  -0.34949428419757467  2.0  1.0  0.0  0.0  0.0   \n",
              "4       -5.133392777181273    1.6711360607672916  0.0  1.0  0.0  0.0  0.0   \n",
              "...                    ...                   ...  ...  ...  ...  ...  ...   \n",
              "41183  0.19541390012712942  -0.34949428419757467  2.0  0.0  0.0  0.0  0.0   \n",
              "41184  0.19541390012712942  -0.34949428419757467  0.0  0.0  0.0  0.0  0.0   \n",
              "41185  0.19541390012712942  -0.34949428419757467  1.0  4.0  1.0  0.0  0.0   \n",
              "41186  0.19541390012712942  -0.34949428419757467  4.0  2.0  0.0  0.0  0.0   \n",
              "41187  0.19541390012712942  -0.34949428419757467  2.0  1.0  0.0  0.0  0.0   \n",
              "\n",
              "       ...   42   43   44   45   46    47      48     49     50      51  \n",
              "0      ...  0.0  0.0  0.0  1.0  0.0   1.4  93.444  -36.1  4.963  5228.1  \n",
              "1      ...  0.0  0.0  0.0  1.0  0.0  -0.1    93.2  -42.0  4.021  5195.8  \n",
              "2      ...  0.0  0.0  0.0  0.0  1.0  -1.7  94.055  -39.8  0.729  4991.6  \n",
              "3      ...  0.0  0.0  0.0  1.0  0.0  -1.8  93.075  -47.1  1.405  5099.1  \n",
              "4      ...  0.0  0.0  0.0  0.0  1.0  -2.9  92.201  -31.4  0.869  5076.2  \n",
              "...    ...  ...  ...  ...  ...  ...   ...     ...    ...    ...     ...  \n",
              "41183  ...  0.0  0.0  0.0  1.0  0.0   1.4  94.465  -41.8  4.866  5228.1  \n",
              "41184  ...  0.0  0.0  0.0  1.0  0.0   1.1  93.994  -36.4   4.86  5191.0  \n",
              "41185  ...  0.0  0.0  0.0  1.0  0.0   1.1  93.994  -36.4  4.857  5191.0  \n",
              "41186  ...  1.0  0.0  0.0  1.0  0.0  -3.4  92.431  -26.9  0.742  5017.5  \n",
              "41187  ...  0.0  0.0  0.0  1.0  0.0   1.1  93.994  -36.4  4.859  5191.0  \n",
              "\n",
              "[41188 rows x 52 columns]"
            ]
          },
          "execution_count": 36,
          "metadata": {},
          "output_type": "execute_result"
        }
      ],
      "source": [
        "pd.DataFrame(trans_X)"
      ]
    },
    {
      "cell_type": "code",
      "execution_count": 37,
      "metadata": {
        "id": "Efzc-1785W4w"
      },
      "outputs": [],
      "source": [
        "#as we have too many features we have to select some\n",
        "from sklearn.feature_selection import RFE\n",
        "from sklearn.ensemble import RandomForestClassifier"
      ]
    },
    {
      "cell_type": "markdown",
      "metadata": {
        "id": "S4SvAk4YcfeZ"
      },
      "source": [
        "Random forest is a supervised learning method, meaning there are labels for and mappings between our input and outputs.Once all the trees have come to a conclusion, the random forest will count which class (species) had the most populous vote and this class will be what the random forest outputs as a prediction. In the case of regression, instead of determining the most populous vote the random forest will average the results of each decision tree.\n",
        "Because random forests utilize the results of multiple learners (decisions trees), random forests are a type of ensemble machine learning algorithm. Ensemble learning methods reduce variance and improve performance over their constituent learning models."
      ]
    },
    {
      "cell_type": "markdown",
      "metadata": {
        "id": "eRUeMX69nQcX"
      },
      "source": [
        " The decision tree determines where to split the features based on a purity measure that measures information gain. In the case of classification it makes that decision based on the Gini index or entropy and in the case of regression, the residual sum of squares."
      ]
    },
    {
      "cell_type": "code",
      "execution_count": 38,
      "metadata": {
        "id": "LGNGk-lr5bpX"
      },
      "outputs": [],
      "source": [
        "#Fits the tree classifier on subsamples of datasets, selecting the feature and fitting the data\n",
        "estimation = RandomForestClassifier(random_state=1)\n",
        "selection = RFE(estimation, step=1)\n",
        "selector = selection.fit(tran_X, Y)"
      ]
    },
    {
      "cell_type": "code",
      "execution_count": 39,
      "metadata": {
        "colab": {
          "base_uri": "https://localhost:8080/"
        },
        "id": "t8h7u1Gw5p3w",
        "outputId": "c59951c2-44a8-43ee-b4bb-c073b16f3c45"
      },
      "outputs": [
        {
          "data": {
            "text/plain": [
              "(41188, 26)"
            ]
          },
          "execution_count": 39,
          "metadata": {},
          "output_type": "execute_result"
        }
      ],
      "source": [
        "#New X is form after selecting the feeature that transforms the tranformed X and its shape\n",
        "X_new= selector.transform(tran_X)\n",
        "X_new.shape"
      ]
    },
    {
      "cell_type": "code",
      "execution_count": 40,
      "metadata": {
        "colab": {
          "base_uri": "https://localhost:8080/"
        },
        "id": "PK9_WOOT5uuA",
        "outputId": "8c88dd4a-b46a-45b4-ade2-3e4d3a1c1f7b"
      },
      "outputs": [
        {
          "data": {
            "text/plain": [
              "0    36548\n",
              "1     4640\n",
              "Name: y, dtype: int64"
            ]
          },
          "execution_count": 40,
          "metadata": {},
          "output_type": "execute_result"
        }
      ],
      "source": [
        "#Y count\n",
        "Y.value_counts()\n",
        "#aving a balanced data set for a model would generate higher accuracy models"
      ]
    },
    {
      "cell_type": "code",
      "execution_count": 41,
      "metadata": {
        "id": "VSHh3drB52Nf"
      },
      "outputs": [],
      "source": [
        "#as we could see the data of Y is very much imbalance we need to balance the data so we using imblearn\n",
        "from imblearn.combine import SMOTETomek\n",
        "smt = SMOTETomek(random_state = 42)\n",
        "X1, Y1 = smt.fit_resample(X_new,Y)\n",
        "#for minority balancing\n",
        "from imblearn.under_sampling import NearMiss\n",
        "nm = NearMiss()\n",
        "x_nm, y_nm = nm.fit_resample(X_new, Y)"
      ]
    },
    {
      "cell_type": "code",
      "execution_count": 42,
      "metadata": {
        "colab": {
          "base_uri": "https://localhost:8080/"
        },
        "id": "Z9URjAxin7MN",
        "outputId": "4ac185c1-7812-437b-9d61-85a31b31309d"
      },
      "outputs": [
        {
          "data": {
            "text/plain": [
              "0    4640\n",
              "1    4640\n",
              "Name: y, dtype: int64"
            ]
          },
          "execution_count": 42,
          "metadata": {},
          "output_type": "execute_result"
        }
      ],
      "source": [
        "y_nm.value_counts()"
      ]
    },
    {
      "cell_type": "code",
      "execution_count": 43,
      "metadata": {
        "colab": {
          "base_uri": "https://localhost:8080/"
        },
        "id": "kW0zX3d86Pt-",
        "outputId": "5898f9b9-01b5-4dd5-9b96-e83a5e66302b"
      },
      "outputs": [
        {
          "data": {
            "text/plain": [
              "0    36476\n",
              "1    36476\n",
              "Name: y, dtype: int64"
            ]
          },
          "execution_count": 43,
          "metadata": {},
          "output_type": "execute_result"
        }
      ],
      "source": [
        "Y1.value_counts()"
      ]
    },
    {
      "cell_type": "code",
      "execution_count": 44,
      "metadata": {
        "colab": {
          "base_uri": "https://localhost:8080/"
        },
        "id": "8D_B8T-W6XI4",
        "outputId": "8d08b099-5db4-4704-9e12-d005f36ad5ac"
      },
      "outputs": [
        {
          "data": {
            "text/plain": [
              "(72952, 26)"
            ]
          },
          "execution_count": 44,
          "metadata": {},
          "output_type": "execute_result"
        }
      ],
      "source": [
        "X1.shape"
      ]
    },
    {
      "cell_type": "code",
      "execution_count": 45,
      "metadata": {
        "id": "05dOdK5B6arm"
      },
      "outputs": [],
      "source": [
        "#splitting of data into train and test and validating them using StratifiedKfold method\n",
        "from sklearn.model_selection import train_test_split\n",
        "X_train, X_test, y_train, y_test = train_test_split(X1, Y1,test_size=0.3, random_state=42)"
      ]
    },
    {
      "cell_type": "code",
      "execution_count": 46,
      "metadata": {
        "id": "2PhoPjZk6gD_"
      },
      "outputs": [],
      "source": [
        "#required model libraries\n",
        "from sklearn.model_selection import cross_val_score\n",
        "from sklearn.naive_bayes import GaussianNB\n",
        "from sklearn.linear_model import LogisticRegression\n",
        "from sklearn import tree\n",
        "from sklearn.neighbors import KNeighborsClassifier\n",
        "from sklearn.ensemble import RandomForestClassifier\n",
        "from sklearn.svm import SVC\n",
        "from sklearn.tree import DecisionTreeClassifier\n",
        "from sklearn.linear_model import RidgeClassifier\n",
        "from sklearn.linear_model import Perceptron\n",
        "from sklearn.neural_network import MLPClassifier\n",
        "from sklearn.ensemble import VotingClassifier"
      ]
    },
    {
      "cell_type": "markdown",
      "metadata": {
        "id": "_gxCHyg0m2wA"
      },
      "source": [
        "**from sklearn.model_selection import cross_val_score**: What is the difference between Cross_val_score and KFold?\n",
        "cross_val_score is a function which evaluates a data and returns the score. On the other hand, KFold is a class, which lets you to split your data to K folds.\n",
        "The cross_val_score calculates the R squared metric for the applied model. R squared error close to 1 implies a better fit and less error.\n",
        "Cross_val_score is a method which runs cross validation on a dataset to test whether the model can generalise over the whole dataset. The function returns a list of one score per split, and the average of these scores can be calculated to provide a single metric value for the dataset."
      ]
    },
    {
      "cell_type": "markdown",
      "metadata": {
        "id": "iJ4zNFWGrAhT"
      },
      "source": [
        "**from sklearn.naive_bayes import GaussianNB:** probabilistic approach and Gaussian distribution. Why is Naive Bayes called naive?\n",
        "Naive Bayes is called naive because it assumes that each input variable is independent.Gaussian Distribution is also called Normal Distribution. The normal distribution is a statistical model that describes the statistical distributions of continuous random variables in nature.\n",
        "Bayes' Theorem states that the conditional probability of an event, based on the occurrence of another event, is equal to the likelihood of the second event given the first event multiplied by the probability of the first event."
      ]
    },
    {
      "cell_type": "markdown",
      "metadata": {
        "id": "1F9wUthAv97e"
      },
      "source": [
        "**LogisticRegression**: Logistic regression is a statistical analysis method to predict a binary\n",
        "outcome, such as yes or no, based on prior observations of a data set.\n",
        "• A logistic regression model predicts a dependent data variable by\n",
        "analyzing the relationship between one or more existing independent\n",
        "variables.\n",
        "Logistic regression can also estimate the probabilities of events, including\n",
        "determining a relationship between features and the probabilities of\n",
        "outcomes.\n",
        "• That is, it can be used for classification by creating a model that correlates\n",
        "the hours studied with the likelihood the student passes or fails.\n",
        "• The same model could be used for predicting whether a particular student\n",
        "will pass or fail when the number of hours studied is provided as a feature\n",
        "and the variable for the response has two values: pass and fail.\n",
        "Odds, describes the ratio of success to ratio of failure."
      ]
    },
    {
      "cell_type": "markdown",
      "metadata": {
        "id": "8s4lwo_gzXr6"
      },
      "source": [
        "**tree**; A decision tree is a flowchart-like tree structure where an internal node represents a feature(or attribute), the branch represents a decision rule, and each leaf node represents the outcome.\n",
        "**KNeighborsClassifier**:-NeighborsClassifier is a supervised learning algorithm that makes classifications based on data neighbors. When we have less scattered data and few outliers , KNeighborsClassifier shines.\n",
        "RandomForestClassifier\n",
        "**SVC**:works by mapping data points to a high-dimensional space and then finding the optimal hyperplane that divides the data into two classes\n",
        "**RidgeClassifier:-**ridge classification is a technique used to analyze linear discriminant models. It is a form of regularization that penalizes model coefficients to prevent overfitting. During prediction, if the predicted value is less than 0, it predicted class label is -1 otherwise the predicted class label is +1\n",
        "**Perceptron:**-Weight is directly proportional to the strength and Bias can be considered as the line of intercept in a linear equation.Neuralnetworkk\n",
        "**MLPClassifier:-**Multilayer perceptron uses backpropagation as a supervised learning technique. Since there are multiple layers of neurons, MLP is a deep learning technique. MLP is widely used for solving problems that require supervised learning as well as research into computational neuroscience and parallel distributed processing\n",
        "**VotingClassifier**:- A Voting Classifier is a machine learning model that trains on an ensemble of numerous models and predicts an output (class) based on their highest probability of chosen class as the output."
      ]
    },
    {
      "cell_type": "code",
      "execution_count": 47,
      "metadata": {
        "colab": {
          "base_uri": "https://localhost:8080/"
        },
        "id": "QhhfTMzH6jYE",
        "outputId": "e282afb2-ca72-4f0e-b1ad-6d80a54a55ba"
      },
      "outputs": [
        {
          "name": "stdout",
          "output_type": "stream",
          "text": [
            "[0.77708154 0.77629827 0.77737741 0.77314742]\n",
            "0.7759761597249076\n",
            "----------------\n"
          ]
        }
      ],
      "source": [
        "#in this we are giving different sets of data on training models. We are using five fold cross validation\n",
        "#1 use for\n",
        "gnb = GaussianNB()\n",
        "cv = cross_val_score(gnb,X_train,y_train,cv=4)\n",
        "print(cv)\n",
        "print(cv.mean())\n",
        "print('----------------')\n"
      ]
    },
    {
      "cell_type": "code",
      "execution_count": 48,
      "metadata": {},
      "outputs": [
        {
          "name": "stdout",
          "output_type": "stream",
          "text": [
            "[0.86198794 0.86300619 0.86761711 0.86620711]\n",
            "0.864704586516421\n",
            "------------------\n"
          ]
        }
      ],
      "source": [
        "lr = LogisticRegression(max_iter = 2000)\n",
        "cv = cross_val_score(lr,X_train,y_train,cv=4)\n",
        "print(cv)\n",
        "print(cv.mean())\n",
        "print('------------------')"
      ]
    },
    {
      "cell_type": "code",
      "execution_count": 49,
      "metadata": {},
      "outputs": [
        {
          "name": "stdout",
          "output_type": "stream",
          "text": [
            "[0.91399702 0.91705177 0.91845527 0.92205859]\n",
            "0.9178906656588266\n",
            "------------------\n"
          ]
        }
      ],
      "source": [
        "dt = tree.DecisionTreeClassifier(random_state = 1)\n",
        "cv = cross_val_score(dt,X_train,y_train,cv=4)\n",
        "print(cv)\n",
        "print(cv.mean())\n",
        "print('------------------')"
      ]
    },
    {
      "cell_type": "code",
      "execution_count": 50,
      "metadata": {},
      "outputs": [
        {
          "name": "stdout",
          "output_type": "stream",
          "text": [
            "[0.91133391 0.90961072 0.91563528 0.91610528]\n",
            "0.9131712959301493\n",
            "-------------------\n"
          ]
        }
      ],
      "source": [
        "knn = KNeighborsClassifier()\n",
        "cv = cross_val_score(knn,X_train,y_train,cv=4)\n",
        "print(cv)\n",
        "print(cv.mean())\n",
        "print('-------------------')"
      ]
    },
    {
      "cell_type": "code",
      "execution_count": 51,
      "metadata": {},
      "outputs": [
        {
          "name": "stdout",
          "output_type": "stream",
          "text": [
            "[0.95190726 0.94893084 0.95057183 0.95347016]\n",
            "0.9512200211871725\n",
            "------------------\n"
          ]
        }
      ],
      "source": [
        "rf = RandomForestClassifier(random_state = 1)\n",
        "cv = cross_val_score(rf,X_train,y_train,cv=4)\n",
        "print(cv)\n",
        "print(cv.mean())\n",
        "print('------------------')\n"
      ]
    },
    {
      "cell_type": "code",
      "execution_count": 52,
      "metadata": {},
      "outputs": [],
      "source": [
        "# #We use votingclassifer to pick the best fit\n",
        "# voting_clf = VotingClassifier(estimators = [('lr',lr),('knn',knn),('rf',rf),('gnb',gnb)], voting = 'soft')\n",
        "# cv = cross_val_score(voting_clf,X_train,y_train,cv=4)\n",
        "# print(cv)\n",
        "# print(cv.mean())"
      ]
    },
    {
      "cell_type": "code",
      "execution_count": 53,
      "metadata": {
        "id": "qDEEVIf27t06"
      },
      "outputs": [],
      "source": [
        "#the max percentage is 94 % of RandomForestClassifer so we selecting that model\n",
        "#max_features is set to 17 as we hv 17 features\n",
        "rf_best = RandomForestClassifier(bootstrap =False, criterion = 'entropy', max_depth = 50, max_features = 17,\n",
        "     min_samples_leaf =2, min_samples_split = 2, n_estimators = 568)#min no of values\n",
        "rf_best_fit = rf_best.fit(X_train,y_train)"
      ]
    },
    {
      "cell_type": "code",
      "execution_count": 54,
      "metadata": {
        "id": "TOUrR1tU74j9"
      },
      "outputs": [],
      "source": [
        "#Results\n",
        "from sklearn.metrics import classification_report,roc_curve,ConfusionMatrixDisplay,roc_auc_score,confusion_matrix"
      ]
    },
    {
      "cell_type": "markdown",
      "metadata": {
        "id": "Fqe_OZNXHh17"
      },
      "source": []
    },
    {
      "cell_type": "code",
      "execution_count": 55,
      "metadata": {
        "colab": {
          "base_uri": "https://localhost:8080/"
        },
        "id": "xxb-LAxZ78OI",
        "outputId": "caa99ec3-a89d-4bcd-d179-6b546bc34658"
      },
      "outputs": [
        {
          "name": "stdout",
          "output_type": "stream",
          "text": [
            "              precision    recall  f1-score   support\n",
            "\n",
            "           0       1.00      1.00      1.00     25411\n",
            "           1       1.00      1.00      1.00     25655\n",
            "\n",
            "    accuracy                           1.00     51066\n",
            "   macro avg       1.00      1.00      1.00     51066\n",
            "weighted avg       1.00      1.00      1.00     51066\n",
            "\n"
          ]
        }
      ],
      "source": [
        "#Training set\n",
        "y_pred_train = rf_best_fit.predict(X_train)\n",
        "print(classification_report(y_train,y_pred_train))\n",
        "#since the f1 score is near to 1 we can say that in training set that is performing in best way\n",
        "#precision is tp/tp+fp and recall is tp/tp+fn\n",
        "#support is actual occurancce of datasets"
      ]
    },
    {
      "cell_type": "code",
      "execution_count": 56,
      "metadata": {
        "colab": {
          "base_uri": "https://localhost:8080/"
        },
        "id": "InJAym3vGven",
        "outputId": "e627c6c2-bd03-4ac0-cf38-1e94a89d79c7"
      },
      "outputs": [
        {
          "data": {
            "text/plain": [
              "array([[25411,     0],\n",
              "       [    1, 25654]], dtype=int64)"
            ]
          },
          "execution_count": 56,
          "metadata": {},
          "output_type": "execute_result"
        }
      ],
      "source": [
        "confusion_matrix(y_train, y_pred_train)"
      ]
    },
    {
      "cell_type": "markdown",
      "metadata": {
        "id": "TNAsRoyIIHSA"
      },
      "source": [
        "2.A good matrix (model) will have large values across the diagonal\n",
        "and small values off the diagonal.\n",
        "Precision is defined as the ratio of correctly classified positive samples (True Positive) to a total number of classified positive samples (either correctly or incorrectly).\n",
        "The recall is calculated as the ratio between the numbers of Positive samples correctly classified as Positive to the total number of Positive samples."
      ]
    },
    {
      "cell_type": "code",
      "execution_count": 58,
      "metadata": {
        "colab": {
          "base_uri": "https://localhost:8080/",
          "height": 295
        },
        "id": "ApRngJSBCyK-",
        "outputId": "e702e4e6-7a83-4251-dea3-8937e94778b2"
      },
      "outputs": [
        {
          "data": {
            "image/png": "[encoded data removed]",
            "text/plain": [
              "<Figure size 640x480 with 1 Axes>"
            ]
          },
          "metadata": {},
          "output_type": "display_data"
        }
      ],
      "source": [
        "from sklearn.preprocessing import LabelBinarizer\n",
        "\n",
        "# Convert 'yes'/'no' to 1/0 if y_train is categorical\n",
        "lb = LabelBinarizer()\n",
        "y_train_binary = lb.fit_transform(y_train).ravel()  # Flatten the array\n",
        "\n",
        "# Calculate ROC curve\n",
        "y_pred_prob = rf_best_fit.predict_proba(X_train)[:, 1]\n",
        "t_fpr, t_tpr, thresholds = roc_curve(y_train_binary, y_pred_prob)\n",
        "\n",
        "# Plot ROC curve\n",
        "plt.plot([0, 1], [0, 1], 'k--')\n",
        "plt.plot(t_fpr, t_tpr, label='RandomForestClassifier')\n",
        "plt.xlabel('False Positive Rate')\n",
        "plt.ylabel('True Positive Rate')\n",
        "plt.title('RandomForestClassifier ROC Curve')\n",
        "plt.show()"
      ]
    },
    {
      "cell_type": "markdown",
      "metadata": {
        "id": "rWx3UKoOIjx4"
      },
      "source": [
        "roc-auc curve and score: AUC (Area Under The Curve) ROC (Receiver Operating Characteristics) curve\n",
        "ROC is a probability curve and AUC represents the degree or measure of separability. It tells how much the model is capable of distinguishing between classes. Higher the AUC, the better the model is at predicting 0 classes as 0 and 1 classes as 1\n",
        "Specificity:- TN/ TN+FP ...sENSITIVITY OR RECALL: TP/TP+FN ...\n",
        "PRECISION= TP/TP+FP ...FPR = 1-SPECIFICITY = FP/TP+FP\n",
        "\n",
        "Sensitivity and Specificity are inversely proportional to each ot\n",
        "TPR⬆️, FPR⬆️ and TPR⬇️, FPR⬇️"
      ]
    },
    {
      "cell_type": "code",
      "execution_count": 59,
      "metadata": {
        "colab": {
          "base_uri": "https://localhost:8080/"
        },
        "id": "CTjQoDx_HHTR",
        "outputId": "099ccf9b-71de-4c80-fe77-d59d7fc29a03"
      },
      "outputs": [
        {
          "name": "stdout",
          "output_type": "stream",
          "text": [
            "0.9999999984660677\n"
          ]
        }
      ],
      "source": [
        "auc_score1 = roc_auc_score(y_train,y_pred_prob)\n",
        "print(auc_score1)"
      ]
    },
    {
      "cell_type": "code",
      "execution_count": 60,
      "metadata": {
        "colab": {
          "base_uri": "https://localhost:8080/"
        },
        "id": "TW4pdDxXAWZT",
        "outputId": "f2b5a134-e65d-440b-b6cd-296ecf05a774"
      },
      "outputs": [
        {
          "name": "stdout",
          "output_type": "stream",
          "text": [
            "              precision    recall  f1-score   support\n",
            "\n",
            "           0       0.97      0.94      0.95     11065\n",
            "           1       0.94      0.97      0.95     10821\n",
            "\n",
            "    accuracy                           0.95     21886\n",
            "   macro avg       0.95      0.95      0.95     21886\n",
            "weighted avg       0.95      0.95      0.95     21886\n",
            "\n"
          ]
        }
      ],
      "source": [
        "#Test set\n",
        "y_pred_test = rf_best_fit.predict(X_test)\n",
        "print(classification_report(y_test,y_pred_test))\n",
        "#since the f1 score is near to 1 we can say that in test set that is performing in best way\n",
        "#precision is tp/tp+fp and recall is tp/tp+fn\n",
        "#support is actual occurancce of datasets\n",
        "\n"
      ]
    },
    {
      "cell_type": "code",
      "execution_count": 61,
      "metadata": {
        "colab": {
          "base_uri": "https://localhost:8080/"
        },
        "id": "zJiXOt-oGrHH",
        "outputId": "4f051004-9c43-4faa-89ef-63e7a41a6af9"
      },
      "outputs": [
        {
          "data": {
            "text/plain": [
              "array([[10405,   660],\n",
              "       [  369, 10452]], dtype=int64)"
            ]
          },
          "execution_count": 61,
          "metadata": {},
          "output_type": "execute_result"
        }
      ],
      "source": [
        "confusion_matrix(y_test, y_pred_test)"
      ]
    },
    {
      "cell_type": "code",
      "execution_count": 63,
      "metadata": {
        "colab": {
          "base_uri": "https://localhost:8080/",
          "height": 295
        },
        "id": "qfpG46RSBVjI",
        "outputId": "26d0cfda-0370-4dbb-b2e6-01d99a9efccf"
      },
      "outputs": [
        {
          "data": {
            "image/png": "[encoded data removed]",
            "text/plain": [
              "<Figure size 640x480 with 1 Axes>"
            ]
          },
          "metadata": {},
          "output_type": "display_data"
        }
      ],
      "source": [
        "lb = LabelBinarizer()\n",
        "y_train_binary = lb.fit_transform(y_train).ravel()  # Flatten the array\n",
        "\n",
        "# Calculate ROC curve\n",
        "y_pred_prob = rf_best_fit.predict_proba(X_train)[:, 1]\n",
        "t_fpr, t_tpr, thresholds = roc_curve(y_train_binary, y_pred_prob)\n",
        "\n",
        "# Plot ROC curve\n",
        "plt.plot([0, 1], [0, 1], 'k--')\n",
        "plt.plot(t_fpr, t_tpr, label='RandomForestClassifier')\n",
        "plt.xlabel('False Positive Rate')\n",
        "plt.ylabel('True Positive Rate')\n",
        "plt.title('RandomForestClassifier ROC Curve')\n",
        "plt.show()"
      ]
    },
    {
      "cell_type": "code",
      "execution_count": 64,
      "metadata": {
        "id": "OO4_oON_FlDk"
      },
      "outputs": [],
      "source": [
        "#Saving the model in a file\n",
        "import pickle\n",
        "filename = 'finalized_model.sav'\n",
        "pickle.dump(rf_best_fit, open(filename, 'wb'))"
      ]
    },
    {
      "cell_type": "code",
      "execution_count": 65,
      "metadata": {
        "id": "37tkiOIUFoFz"
      },
      "outputs": [],
      "source": [
        "#Load the model\n",
        "def loadModel():\n",
        "    loaded_model = pickle.load(open(filename, 'rb'))\n",
        "    return loaded_model"
      ]
    },
    {
      "cell_type": "code",
      "execution_count": 66,
      "metadata": {
        "id": "oeZRnGgSFU1R"
      },
      "outputs": [],
      "source": [
        "#Predict the model\n",
        "def predictModel(model, X):\n",
        "    y_pred = model.predict(X)\n",
        "    return y_pred"
      ]
    }
  ],
  "metadata": {
    "colab": {
      "provenance": []
    },
    "kernelspec": {
      "display_name": "Python 3",
      "name": "python3"
    },
    "language_info": {
      "codemirror_mode": {
        "name": "ipython",
        "version": 3
      },
      "file_extension": ".py",
      "mimetype": "text/x-python",
      "name": "python",
      "nbconvert_exporter": "python",
      "pygments_lexer": "ipython3",
      "version": "3.9.13"
    }
  },
  "nbformat": 4,
  "nbformat_minor": 0
}
