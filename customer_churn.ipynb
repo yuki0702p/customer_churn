{
  "nbformat": 4,
  "nbformat_minor": 0,
  "metadata": {
    "colab": {
      "provenance": []
    },
    "kernelspec": {
      "name": "python3",
      "display_name": "Python 3"
    },
    "language_info": {
      "name": "python"
    }
  },
  "cells": [
    {
      "cell_type": "code",
      "execution_count": null,
      "metadata": {
        "colab": {
          "base_uri": "https://localhost:8080/"
        },
        "id": "Ni0RL0SbsI3W",
        "outputId": "e5ae914e-f142-4311-e006-99134c767e94"
      },
      "outputs": [
        {
          "output_type": "stream",
          "name": "stdout",
          "text": [
            "       age          job  marital            education  default housing loan  \\\n",
            "0       44  blue-collar  married             basic.4y  unknown     yes   no   \n",
            "1       53   technician  married              unknown       no      no   no   \n",
            "2       28   management   single    university.degree       no     yes   no   \n",
            "3       39     services  married          high.school       no      no   no   \n",
            "4       55      retired  married             basic.4y       no     yes   no   \n",
            "...    ...          ...      ...                  ...      ...     ...  ...   \n",
            "41183   59      retired  married          high.school  unknown      no  yes   \n",
            "41184   31    housemaid  married             basic.4y  unknown      no   no   \n",
            "41185   42       admin.   single    university.degree  unknown     yes  yes   \n",
            "41186   48   technician  married  professional.course       no      no  yes   \n",
            "41187   25      student   single          high.school       no      no   no   \n",
            "\n",
            "         contact month day_of_week  ...  campaign  pdays  previous  \\\n",
            "0       cellular   aug         thu  ...         1    999         0   \n",
            "1       cellular   nov         fri  ...         1    999         0   \n",
            "2       cellular   jun         thu  ...         3      6         2   \n",
            "3       cellular   apr         fri  ...         2    999         0   \n",
            "4       cellular   aug         fri  ...         1      3         1   \n",
            "...          ...   ...         ...  ...       ...    ...       ...   \n",
            "41183  telephone   jun         thu  ...         1    999         0   \n",
            "41184  telephone   may         thu  ...         2    999         0   \n",
            "41185  telephone   may         wed  ...         3    999         0   \n",
            "41186  telephone   oct         tue  ...         2    999         0   \n",
            "41187  telephone   may         fri  ...         4    999         0   \n",
            "\n",
            "          poutcome emp_var_rate  cons_price_idx  cons_conf_idx  euribor3m  \\\n",
            "0      nonexistent          1.4          93.444          -36.1      4.963   \n",
            "1      nonexistent         -0.1          93.200          -42.0      4.021   \n",
            "2          success         -1.7          94.055          -39.8      0.729   \n",
            "3      nonexistent         -1.8          93.075          -47.1      1.405   \n",
            "4          success         -2.9          92.201          -31.4      0.869   \n",
            "...            ...          ...             ...            ...        ...   \n",
            "41183  nonexistent          1.4          94.465          -41.8      4.866   \n",
            "41184  nonexistent          1.1          93.994          -36.4      4.860   \n",
            "41185  nonexistent          1.1          93.994          -36.4      4.857   \n",
            "41186  nonexistent         -3.4          92.431          -26.9      0.742   \n",
            "41187  nonexistent          1.1          93.994          -36.4      4.859   \n",
            "\n",
            "       nr_employed  y  \n",
            "0           5228.1  0  \n",
            "1           5195.8  0  \n",
            "2           4991.6  1  \n",
            "3           5099.1  0  \n",
            "4           5076.2  1  \n",
            "...            ... ..  \n",
            "41183       5228.1  0  \n",
            "41184       5191.0  0  \n",
            "41185       5191.0  0  \n",
            "41186       5017.5  0  \n",
            "41187       5191.0  0  \n",
            "\n",
            "[41188 rows x 21 columns]\n"
          ]
        }
      ],
      "source": [
        "#Yukta Parab\n",
        "#Read the collected data\n",
        "import pandas as pd\n",
        "import numpy as np\n",
        "df = pd.read_csv('banking.csv')\n",
        "print(df)"
      ]
    },
    {
      "cell_type": "code",
      "source": [
        "df.head() #first five values"
      ],
      "metadata": {
        "colab": {
          "base_uri": "https://localhost:8080/",
          "height": 256
        },
        "id": "7fi-m15N_kW5",
        "outputId": "2aa164c7-92f2-4e7e-c3a8-47cecf680b3f"
      },
      "execution_count": null,
      "outputs": [
        {
          "output_type": "execute_result",
          "data": {
            "text/plain": [
              "   age          job  marital          education  default housing loan  \\\n",
              "0   44  blue-collar  married           basic.4y  unknown     yes   no   \n",
              "1   53   technician  married            unknown       no      no   no   \n",
              "2   28   management   single  university.degree       no     yes   no   \n",
              "3   39     services  married        high.school       no      no   no   \n",
              "4   55      retired  married           basic.4y       no     yes   no   \n",
              "\n",
              "    contact month day_of_week  ...  campaign  pdays  previous     poutcome  \\\n",
              "0  cellular   aug         thu  ...         1    999         0  nonexistent   \n",
              "1  cellular   nov         fri  ...         1    999         0  nonexistent   \n",
              "2  cellular   jun         thu  ...         3      6         2      success   \n",
              "3  cellular   apr         fri  ...         2    999         0  nonexistent   \n",
              "4  cellular   aug         fri  ...         1      3         1      success   \n",
              "\n",
              "  emp_var_rate  cons_price_idx  cons_conf_idx  euribor3m  nr_employed  y  \n",
              "0          1.4          93.444          -36.1      4.963       5228.1  0  \n",
              "1         -0.1          93.200          -42.0      4.021       5195.8  0  \n",
              "2         -1.7          94.055          -39.8      0.729       4991.6  1  \n",
              "3         -1.8          93.075          -47.1      1.405       5099.1  0  \n",
              "4         -2.9          92.201          -31.4      0.869       5076.2  1  \n",
              "\n",
              "[5 rows x 21 columns]"
            ],
            "text/html": [
              "\n",
              "  <div id=\"df-4674e1aa-e87e-4c3b-8e1e-2232602e52fc\" class=\"colab-df-container\">\n",
              "    <div>\n",
              "<style scoped>\n",
              "    .dataframe tbody tr th:only-of-type {\n",
              "        vertical-align: middle;\n",
              "    }\n",
              "\n",
              "    .dataframe tbody tr th {\n",
              "        vertical-align: top;\n",
              "    }\n",
              "\n",
              "    .dataframe thead th {\n",
              "        text-align: right;\n",
              "    }\n",
              "</style>\n",
              "<table border=\"1\" class=\"dataframe\">\n",
              "  <thead>\n",
              "    <tr style=\"text-align: right;\">\n",
              "      <th></th>\n",
              "      <th>age</th>\n",
              "      <th>job</th>\n",
              "      <th>marital</th>\n",
              "      <th>education</th>\n",
              "      <th>default</th>\n",
              "      <th>housing</th>\n",
              "      <th>loan</th>\n",
              "      <th>contact</th>\n",
              "      <th>month</th>\n",
              "      <th>day_of_week</th>\n",
              "      <th>...</th>\n",
              "      <th>campaign</th>\n",
              "      <th>pdays</th>\n",
              "      <th>previous</th>\n",
              "      <th>poutcome</th>\n",
              "      <th>emp_var_rate</th>\n",
              "      <th>cons_price_idx</th>\n",
              "      <th>cons_conf_idx</th>\n",
              "      <th>euribor3m</th>\n",
              "      <th>nr_employed</th>\n",
              "      <th>y</th>\n",
              "    </tr>\n",
              "  </thead>\n",
              "  <tbody>\n",
              "    <tr>\n",
              "      <th>0</th>\n",
              "      <td>44</td>\n",
              "      <td>blue-collar</td>\n",
              "      <td>married</td>\n",
              "      <td>basic.4y</td>\n",
              "      <td>unknown</td>\n",
              "      <td>yes</td>\n",
              "      <td>no</td>\n",
              "      <td>cellular</td>\n",
              "      <td>aug</td>\n",
              "      <td>thu</td>\n",
              "      <td>...</td>\n",
              "      <td>1</td>\n",
              "      <td>999</td>\n",
              "      <td>0</td>\n",
              "      <td>nonexistent</td>\n",
              "      <td>1.4</td>\n",
              "      <td>93.444</td>\n",
              "      <td>-36.1</td>\n",
              "      <td>4.963</td>\n",
              "      <td>5228.1</td>\n",
              "      <td>0</td>\n",
              "    </tr>\n",
              "    <tr>\n",
              "      <th>1</th>\n",
              "      <td>53</td>\n",
              "      <td>technician</td>\n",
              "      <td>married</td>\n",
              "      <td>unknown</td>\n",
              "      <td>no</td>\n",
              "      <td>no</td>\n",
              "      <td>no</td>\n",
              "      <td>cellular</td>\n",
              "      <td>nov</td>\n",
              "      <td>fri</td>\n",
              "      <td>...</td>\n",
              "      <td>1</td>\n",
              "      <td>999</td>\n",
              "      <td>0</td>\n",
              "      <td>nonexistent</td>\n",
              "      <td>-0.1</td>\n",
              "      <td>93.200</td>\n",
              "      <td>-42.0</td>\n",
              "      <td>4.021</td>\n",
              "      <td>5195.8</td>\n",
              "      <td>0</td>\n",
              "    </tr>\n",
              "    <tr>\n",
              "      <th>2</th>\n",
              "      <td>28</td>\n",
              "      <td>management</td>\n",
              "      <td>single</td>\n",
              "      <td>university.degree</td>\n",
              "      <td>no</td>\n",
              "      <td>yes</td>\n",
              "      <td>no</td>\n",
              "      <td>cellular</td>\n",
              "      <td>jun</td>\n",
              "      <td>thu</td>\n",
              "      <td>...</td>\n",
              "      <td>3</td>\n",
              "      <td>6</td>\n",
              "      <td>2</td>\n",
              "      <td>success</td>\n",
              "      <td>-1.7</td>\n",
              "      <td>94.055</td>\n",
              "      <td>-39.8</td>\n",
              "      <td>0.729</td>\n",
              "      <td>4991.6</td>\n",
              "      <td>1</td>\n",
              "    </tr>\n",
              "    <tr>\n",
              "      <th>3</th>\n",
              "      <td>39</td>\n",
              "      <td>services</td>\n",
              "      <td>married</td>\n",
              "      <td>high.school</td>\n",
              "      <td>no</td>\n",
              "      <td>no</td>\n",
              "      <td>no</td>\n",
              "      <td>cellular</td>\n",
              "      <td>apr</td>\n",
              "      <td>fri</td>\n",
              "      <td>...</td>\n",
              "      <td>2</td>\n",
              "      <td>999</td>\n",
              "      <td>0</td>\n",
              "      <td>nonexistent</td>\n",
              "      <td>-1.8</td>\n",
              "      <td>93.075</td>\n",
              "      <td>-47.1</td>\n",
              "      <td>1.405</td>\n",
              "      <td>5099.1</td>\n",
              "      <td>0</td>\n",
              "    </tr>\n",
              "    <tr>\n",
              "      <th>4</th>\n",
              "      <td>55</td>\n",
              "      <td>retired</td>\n",
              "      <td>married</td>\n",
              "      <td>basic.4y</td>\n",
              "      <td>no</td>\n",
              "      <td>yes</td>\n",
              "      <td>no</td>\n",
              "      <td>cellular</td>\n",
              "      <td>aug</td>\n",
              "      <td>fri</td>\n",
              "      <td>...</td>\n",
              "      <td>1</td>\n",
              "      <td>3</td>\n",
              "      <td>1</td>\n",
              "      <td>success</td>\n",
              "      <td>-2.9</td>\n",
              "      <td>92.201</td>\n",
              "      <td>-31.4</td>\n",
              "      <td>0.869</td>\n",
              "      <td>5076.2</td>\n",
              "      <td>1</td>\n",
              "    </tr>\n",
              "  </tbody>\n",
              "</table>\n",
              "<p>5 rows × 21 columns</p>\n",
              "</div>\n",
              "    <div class=\"colab-df-buttons\">\n",
              "\n",
              "  <div class=\"colab-df-container\">\n",
              "    <button class=\"colab-df-convert\" onclick=\"convertToInteractive('df-4674e1aa-e87e-4c3b-8e1e-2232602e52fc')\"\n",
              "            title=\"Convert this dataframe to an interactive table.\"\n",
              "            style=\"display:none;\">\n",
              "\n",
              "  <svg xmlns=\"http://www.w3.org/2000/svg\" height=\"24px\" viewBox=\"0 -960 960 960\">\n",
              "    <path d=\"M120-120v-720h720v720H120Zm60-500h600v-160H180v160Zm220 220h160v-160H400v160Zm0 220h160v-160H400v160ZM180-400h160v-160H180v160Zm440 0h160v-160H620v160ZM180-180h160v-160H180v160Zm440 0h160v-160H620v160Z\"/>\n",
              "  </svg>\n",
              "    </button>\n",
              "\n",
              "  <style>\n",
              "    .colab-df-container {\n",
              "      display:flex;\n",
              "      gap: 12px;\n",
              "    }\n",
              "\n",
              "    .colab-df-convert {\n",
              "      background-color: #E8F0FE;\n",
              "      border: none;\n",
              "      border-radius: 50%;\n",
              "      cursor: pointer;\n",
              "      display: none;\n",
              "      fill: #1967D2;\n",
              "      height: 32px;\n",
              "      padding: 0 0 0 0;\n",
              "      width: 32px;\n",
              "    }\n",
              "\n",
              "    .colab-df-convert:hover {\n",
              "      background-color: #E2EBFA;\n",
              "      box-shadow: 0px 1px 2px rgba(60, 64, 67, 0.3), 0px 1px 3px 1px rgba(60, 64, 67, 0.15);\n",
              "      fill: #174EA6;\n",
              "    }\n",
              "\n",
              "    .colab-df-buttons div {\n",
              "      margin-bottom: 4px;\n",
              "    }\n",
              "\n",
              "    [theme=dark] .colab-df-convert {\n",
              "      background-color: #3B4455;\n",
              "      fill: #D2E3FC;\n",
              "    }\n",
              "\n",
              "    [theme=dark] .colab-df-convert:hover {\n",
              "      background-color: #434B5C;\n",
              "      box-shadow: 0px 1px 3px 1px rgba(0, 0, 0, 0.15);\n",
              "      filter: drop-shadow(0px 1px 2px rgba(0, 0, 0, 0.3));\n",
              "      fill: #FFFFFF;\n",
              "    }\n",
              "  </style>\n",
              "\n",
              "    <script>\n",
              "      const buttonEl =\n",
              "        document.querySelector('#df-4674e1aa-e87e-4c3b-8e1e-2232602e52fc button.colab-df-convert');\n",
              "      buttonEl.style.display =\n",
              "        google.colab.kernel.accessAllowed ? 'block' : 'none';\n",
              "\n",
              "      async function convertToInteractive(key) {\n",
              "        const element = document.querySelector('#df-4674e1aa-e87e-4c3b-8e1e-2232602e52fc');\n",
              "        const dataTable =\n",
              "          await google.colab.kernel.invokeFunction('convertToInteractive',\n",
              "                                                    [key], {});\n",
              "        if (!dataTable) return;\n",
              "\n",
              "        const docLinkHtml = 'Like what you see? Visit the ' +\n",
              "          '<a target=\"_blank\" href=https://colab.research.google.com/notebooks/data_table.ipynb>data table notebook</a>'\n",
              "          + ' to learn more about interactive tables.';\n",
              "        element.innerHTML = '';\n",
              "        dataTable['output_type'] = 'display_data';\n",
              "        await google.colab.output.renderOutput(dataTable, element);\n",
              "        const docLink = document.createElement('div');\n",
              "        docLink.innerHTML = docLinkHtml;\n",
              "        element.appendChild(docLink);\n",
              "      }\n",
              "    </script>\n",
              "  </div>\n",
              "\n",
              "\n",
              "<div id=\"df-104ccd72-1b08-4f8f-899d-c7451e08edbd\">\n",
              "  <button class=\"colab-df-quickchart\" onclick=\"quickchart('df-104ccd72-1b08-4f8f-899d-c7451e08edbd')\"\n",
              "            title=\"Suggest charts\"\n",
              "            style=\"display:none;\">\n",
              "\n",
              "<svg xmlns=\"http://www.w3.org/2000/svg\" height=\"24px\"viewBox=\"0 0 24 24\"\n",
              "     width=\"24px\">\n",
              "    <g>\n",
              "        <path d=\"M19 3H5c-1.1 0-2 .9-2 2v14c0 1.1.9 2 2 2h14c1.1 0 2-.9 2-2V5c0-1.1-.9-2-2-2zM9 17H7v-7h2v7zm4 0h-2V7h2v10zm4 0h-2v-4h2v4z\"/>\n",
              "    </g>\n",
              "</svg>\n",
              "  </button>\n",
              "\n",
              "<style>\n",
              "  .colab-df-quickchart {\n",
              "      --bg-color: #E8F0FE;\n",
              "      --fill-color: #1967D2;\n",
              "      --hover-bg-color: #E2EBFA;\n",
              "      --hover-fill-color: #174EA6;\n",
              "      --disabled-fill-color: #AAA;\n",
              "      --disabled-bg-color: #DDD;\n",
              "  }\n",
              "\n",
              "  [theme=dark] .colab-df-quickchart {\n",
              "      --bg-color: #3B4455;\n",
              "      --fill-color: #D2E3FC;\n",
              "      --hover-bg-color: #434B5C;\n",
              "      --hover-fill-color: #FFFFFF;\n",
              "      --disabled-bg-color: #3B4455;\n",
              "      --disabled-fill-color: #666;\n",
              "  }\n",
              "\n",
              "  .colab-df-quickchart {\n",
              "    background-color: var(--bg-color);\n",
              "    border: none;\n",
              "    border-radius: 50%;\n",
              "    cursor: pointer;\n",
              "    display: none;\n",
              "    fill: var(--fill-color);\n",
              "    height: 32px;\n",
              "    padding: 0;\n",
              "    width: 32px;\n",
              "  }\n",
              "\n",
              "  .colab-df-quickchart:hover {\n",
              "    background-color: var(--hover-bg-color);\n",
              "    box-shadow: 0 1px 2px rgba(60, 64, 67, 0.3), 0 1px 3px 1px rgba(60, 64, 67, 0.15);\n",
              "    fill: var(--button-hover-fill-color);\n",
              "  }\n",
              "\n",
              "  .colab-df-quickchart-complete:disabled,\n",
              "  .colab-df-quickchart-complete:disabled:hover {\n",
              "    background-color: var(--disabled-bg-color);\n",
              "    fill: var(--disabled-fill-color);\n",
              "    box-shadow: none;\n",
              "  }\n",
              "\n",
              "  .colab-df-spinner {\n",
              "    border: 2px solid var(--fill-color);\n",
              "    border-color: transparent;\n",
              "    border-bottom-color: var(--fill-color);\n",
              "    animation:\n",
              "      spin 1s steps(1) infinite;\n",
              "  }\n",
              "\n",
              "  @keyframes spin {\n",
              "    0% {\n",
              "      border-color: transparent;\n",
              "      border-bottom-color: var(--fill-color);\n",
              "      border-left-color: var(--fill-color);\n",
              "    }\n",
              "    20% {\n",
              "      border-color: transparent;\n",
              "      border-left-color: var(--fill-color);\n",
              "      border-top-color: var(--fill-color);\n",
              "    }\n",
              "    30% {\n",
              "      border-color: transparent;\n",
              "      border-left-color: var(--fill-color);\n",
              "      border-top-color: var(--fill-color);\n",
              "      border-right-color: var(--fill-color);\n",
              "    }\n",
              "    40% {\n",
              "      border-color: transparent;\n",
              "      border-right-color: var(--fill-color);\n",
              "      border-top-color: var(--fill-color);\n",
              "    }\n",
              "    60% {\n",
              "      border-color: transparent;\n",
              "      border-right-color: var(--fill-color);\n",
              "    }\n",
              "    80% {\n",
              "      border-color: transparent;\n",
              "      border-right-color: var(--fill-color);\n",
              "      border-bottom-color: var(--fill-color);\n",
              "    }\n",
              "    90% {\n",
              "      border-color: transparent;\n",
              "      border-bottom-color: var(--fill-color);\n",
              "    }\n",
              "  }\n",
              "</style>\n",
              "\n",
              "  <script>\n",
              "    async function quickchart(key) {\n",
              "      const quickchartButtonEl =\n",
              "        document.querySelector('#' + key + ' button');\n",
              "      quickchartButtonEl.disabled = true;  // To prevent multiple clicks.\n",
              "      quickchartButtonEl.classList.add('colab-df-spinner');\n",
              "      try {\n",
              "        const charts = await google.colab.kernel.invokeFunction(\n",
              "            'suggestCharts', [key], {});\n",
              "      } catch (error) {\n",
              "        console.error('Error during call to suggestCharts:', error);\n",
              "      }\n",
              "      quickchartButtonEl.classList.remove('colab-df-spinner');\n",
              "      quickchartButtonEl.classList.add('colab-df-quickchart-complete');\n",
              "    }\n",
              "    (() => {\n",
              "      let quickchartButtonEl =\n",
              "        document.querySelector('#df-104ccd72-1b08-4f8f-899d-c7451e08edbd button');\n",
              "      quickchartButtonEl.style.display =\n",
              "        google.colab.kernel.accessAllowed ? 'block' : 'none';\n",
              "    })();\n",
              "  </script>\n",
              "</div>\n",
              "\n",
              "    </div>\n",
              "  </div>\n"
            ],
            "application/vnd.google.colaboratory.intrinsic+json": {
              "type": "dataframe",
              "variable_name": "df"
            }
          },
          "metadata": {},
          "execution_count": 6
        }
      ]
    },
    {
      "cell_type": "code",
      "source": [
        "df.tail() #last five values"
      ],
      "metadata": {
        "colab": {
          "base_uri": "https://localhost:8080/",
          "height": 256
        },
        "id": "pfSiHDJr_o5K",
        "outputId": "5d521284-2a37-4dd0-b665-bb9b0a41e092"
      },
      "execution_count": null,
      "outputs": [
        {
          "output_type": "execute_result",
          "data": {
            "text/plain": [
              "       age         job  marital            education  default housing loan  \\\n",
              "41183   59     retired  married          high.school  unknown      no  yes   \n",
              "41184   31   housemaid  married             basic.4y  unknown      no   no   \n",
              "41185   42      admin.   single    university.degree  unknown     yes  yes   \n",
              "41186   48  technician  married  professional.course       no      no  yes   \n",
              "41187   25     student   single          high.school       no      no   no   \n",
              "\n",
              "         contact month day_of_week  ...  campaign  pdays  previous  \\\n",
              "41183  telephone   jun         thu  ...         1    999         0   \n",
              "41184  telephone   may         thu  ...         2    999         0   \n",
              "41185  telephone   may         wed  ...         3    999         0   \n",
              "41186  telephone   oct         tue  ...         2    999         0   \n",
              "41187  telephone   may         fri  ...         4    999         0   \n",
              "\n",
              "          poutcome emp_var_rate  cons_price_idx  cons_conf_idx  euribor3m  \\\n",
              "41183  nonexistent          1.4          94.465          -41.8      4.866   \n",
              "41184  nonexistent          1.1          93.994          -36.4      4.860   \n",
              "41185  nonexistent          1.1          93.994          -36.4      4.857   \n",
              "41186  nonexistent         -3.4          92.431          -26.9      0.742   \n",
              "41187  nonexistent          1.1          93.994          -36.4      4.859   \n",
              "\n",
              "       nr_employed  y  \n",
              "41183       5228.1  0  \n",
              "41184       5191.0  0  \n",
              "41185       5191.0  0  \n",
              "41186       5017.5  0  \n",
              "41187       5191.0  0  \n",
              "\n",
              "[5 rows x 21 columns]"
            ],
            "text/html": [
              "\n",
              "  <div id=\"df-434f2efc-0f72-4fe0-8702-a33f8dc1b9f9\" class=\"colab-df-container\">\n",
              "    <div>\n",
              "<style scoped>\n",
              "    .dataframe tbody tr th:only-of-type {\n",
              "        vertical-align: middle;\n",
              "    }\n",
              "\n",
              "    .dataframe tbody tr th {\n",
              "        vertical-align: top;\n",
              "    }\n",
              "\n",
              "    .dataframe thead th {\n",
              "        text-align: right;\n",
              "    }\n",
              "</style>\n",
              "<table border=\"1\" class=\"dataframe\">\n",
              "  <thead>\n",
              "    <tr style=\"text-align: right;\">\n",
              "      <th></th>\n",
              "      <th>age</th>\n",
              "      <th>job</th>\n",
              "      <th>marital</th>\n",
              "      <th>education</th>\n",
              "      <th>default</th>\n",
              "      <th>housing</th>\n",
              "      <th>loan</th>\n",
              "      <th>contact</th>\n",
              "      <th>month</th>\n",
              "      <th>day_of_week</th>\n",
              "      <th>...</th>\n",
              "      <th>campaign</th>\n",
              "      <th>pdays</th>\n",
              "      <th>previous</th>\n",
              "      <th>poutcome</th>\n",
              "      <th>emp_var_rate</th>\n",
              "      <th>cons_price_idx</th>\n",
              "      <th>cons_conf_idx</th>\n",
              "      <th>euribor3m</th>\n",
              "      <th>nr_employed</th>\n",
              "      <th>y</th>\n",
              "    </tr>\n",
              "  </thead>\n",
              "  <tbody>\n",
              "    <tr>\n",
              "      <th>41183</th>\n",
              "      <td>59</td>\n",
              "      <td>retired</td>\n",
              "      <td>married</td>\n",
              "      <td>high.school</td>\n",
              "      <td>unknown</td>\n",
              "      <td>no</td>\n",
              "      <td>yes</td>\n",
              "      <td>telephone</td>\n",
              "      <td>jun</td>\n",
              "      <td>thu</td>\n",
              "      <td>...</td>\n",
              "      <td>1</td>\n",
              "      <td>999</td>\n",
              "      <td>0</td>\n",
              "      <td>nonexistent</td>\n",
              "      <td>1.4</td>\n",
              "      <td>94.465</td>\n",
              "      <td>-41.8</td>\n",
              "      <td>4.866</td>\n",
              "      <td>5228.1</td>\n",
              "      <td>0</td>\n",
              "    </tr>\n",
              "    <tr>\n",
              "      <th>41184</th>\n",
              "      <td>31</td>\n",
              "      <td>housemaid</td>\n",
              "      <td>married</td>\n",
              "      <td>basic.4y</td>\n",
              "      <td>unknown</td>\n",
              "      <td>no</td>\n",
              "      <td>no</td>\n",
              "      <td>telephone</td>\n",
              "      <td>may</td>\n",
              "      <td>thu</td>\n",
              "      <td>...</td>\n",
              "      <td>2</td>\n",
              "      <td>999</td>\n",
              "      <td>0</td>\n",
              "      <td>nonexistent</td>\n",
              "      <td>1.1</td>\n",
              "      <td>93.994</td>\n",
              "      <td>-36.4</td>\n",
              "      <td>4.860</td>\n",
              "      <td>5191.0</td>\n",
              "      <td>0</td>\n",
              "    </tr>\n",
              "    <tr>\n",
              "      <th>41185</th>\n",
              "      <td>42</td>\n",
              "      <td>admin.</td>\n",
              "      <td>single</td>\n",
              "      <td>university.degree</td>\n",
              "      <td>unknown</td>\n",
              "      <td>yes</td>\n",
              "      <td>yes</td>\n",
              "      <td>telephone</td>\n",
              "      <td>may</td>\n",
              "      <td>wed</td>\n",
              "      <td>...</td>\n",
              "      <td>3</td>\n",
              "      <td>999</td>\n",
              "      <td>0</td>\n",
              "      <td>nonexistent</td>\n",
              "      <td>1.1</td>\n",
              "      <td>93.994</td>\n",
              "      <td>-36.4</td>\n",
              "      <td>4.857</td>\n",
              "      <td>5191.0</td>\n",
              "      <td>0</td>\n",
              "    </tr>\n",
              "    <tr>\n",
              "      <th>41186</th>\n",
              "      <td>48</td>\n",
              "      <td>technician</td>\n",
              "      <td>married</td>\n",
              "      <td>professional.course</td>\n",
              "      <td>no</td>\n",
              "      <td>no</td>\n",
              "      <td>yes</td>\n",
              "      <td>telephone</td>\n",
              "      <td>oct</td>\n",
              "      <td>tue</td>\n",
              "      <td>...</td>\n",
              "      <td>2</td>\n",
              "      <td>999</td>\n",
              "      <td>0</td>\n",
              "      <td>nonexistent</td>\n",
              "      <td>-3.4</td>\n",
              "      <td>92.431</td>\n",
              "      <td>-26.9</td>\n",
              "      <td>0.742</td>\n",
              "      <td>5017.5</td>\n",
              "      <td>0</td>\n",
              "    </tr>\n",
              "    <tr>\n",
              "      <th>41187</th>\n",
              "      <td>25</td>\n",
              "      <td>student</td>\n",
              "      <td>single</td>\n",
              "      <td>high.school</td>\n",
              "      <td>no</td>\n",
              "      <td>no</td>\n",
              "      <td>no</td>\n",
              "      <td>telephone</td>\n",
              "      <td>may</td>\n",
              "      <td>fri</td>\n",
              "      <td>...</td>\n",
              "      <td>4</td>\n",
              "      <td>999</td>\n",
              "      <td>0</td>\n",
              "      <td>nonexistent</td>\n",
              "      <td>1.1</td>\n",
              "      <td>93.994</td>\n",
              "      <td>-36.4</td>\n",
              "      <td>4.859</td>\n",
              "      <td>5191.0</td>\n",
              "      <td>0</td>\n",
              "    </tr>\n",
              "  </tbody>\n",
              "</table>\n",
              "<p>5 rows × 21 columns</p>\n",
              "</div>\n",
              "    <div class=\"colab-df-buttons\">\n",
              "\n",
              "  <div class=\"colab-df-container\">\n",
              "    <button class=\"colab-df-convert\" onclick=\"convertToInteractive('df-434f2efc-0f72-4fe0-8702-a33f8dc1b9f9')\"\n",
              "            title=\"Convert this dataframe to an interactive table.\"\n",
              "            style=\"display:none;\">\n",
              "\n",
              "  <svg xmlns=\"http://www.w3.org/2000/svg\" height=\"24px\" viewBox=\"0 -960 960 960\">\n",
              "    <path d=\"M120-120v-720h720v720H120Zm60-500h600v-160H180v160Zm220 220h160v-160H400v160Zm0 220h160v-160H400v160ZM180-400h160v-160H180v160Zm440 0h160v-160H620v160ZM180-180h160v-160H180v160Zm440 0h160v-160H620v160Z\"/>\n",
              "  </svg>\n",
              "    </button>\n",
              "\n",
              "  <style>\n",
              "    .colab-df-container {\n",
              "      display:flex;\n",
              "      gap: 12px;\n",
              "    }\n",
              "\n",
              "    .colab-df-convert {\n",
              "      background-color: #E8F0FE;\n",
              "      border: none;\n",
              "      border-radius: 50%;\n",
              "      cursor: pointer;\n",
              "      display: none;\n",
              "      fill: #1967D2;\n",
              "      height: 32px;\n",
              "      padding: 0 0 0 0;\n",
              "      width: 32px;\n",
              "    }\n",
              "\n",
              "    .colab-df-convert:hover {\n",
              "      background-color: #E2EBFA;\n",
              "      box-shadow: 0px 1px 2px rgba(60, 64, 67, 0.3), 0px 1px 3px 1px rgba(60, 64, 67, 0.15);\n",
              "      fill: #174EA6;\n",
              "    }\n",
              "\n",
              "    .colab-df-buttons div {\n",
              "      margin-bottom: 4px;\n",
              "    }\n",
              "\n",
              "    [theme=dark] .colab-df-convert {\n",
              "      background-color: #3B4455;\n",
              "      fill: #D2E3FC;\n",
              "    }\n",
              "\n",
              "    [theme=dark] .colab-df-convert:hover {\n",
              "      background-color: #434B5C;\n",
              "      box-shadow: 0px 1px 3px 1px rgba(0, 0, 0, 0.15);\n",
              "      filter: drop-shadow(0px 1px 2px rgba(0, 0, 0, 0.3));\n",
              "      fill: #FFFFFF;\n",
              "    }\n",
              "  </style>\n",
              "\n",
              "    <script>\n",
              "      const buttonEl =\n",
              "        document.querySelector('#df-434f2efc-0f72-4fe0-8702-a33f8dc1b9f9 button.colab-df-convert');\n",
              "      buttonEl.style.display =\n",
              "        google.colab.kernel.accessAllowed ? 'block' : 'none';\n",
              "\n",
              "      async function convertToInteractive(key) {\n",
              "        const element = document.querySelector('#df-434f2efc-0f72-4fe0-8702-a33f8dc1b9f9');\n",
              "        const dataTable =\n",
              "          await google.colab.kernel.invokeFunction('convertToInteractive',\n",
              "                                                    [key], {});\n",
              "        if (!dataTable) return;\n",
              "\n",
              "        const docLinkHtml = 'Like what you see? Visit the ' +\n",
              "          '<a target=\"_blank\" href=https://colab.research.google.com/notebooks/data_table.ipynb>data table notebook</a>'\n",
              "          + ' to learn more about interactive tables.';\n",
              "        element.innerHTML = '';\n",
              "        dataTable['output_type'] = 'display_data';\n",
              "        await google.colab.output.renderOutput(dataTable, element);\n",
              "        const docLink = document.createElement('div');\n",
              "        docLink.innerHTML = docLinkHtml;\n",
              "        element.appendChild(docLink);\n",
              "      }\n",
              "    </script>\n",
              "  </div>\n",
              "\n",
              "\n",
              "<div id=\"df-74695a71-b630-48f9-9cfa-b42c0f42cd59\">\n",
              "  <button class=\"colab-df-quickchart\" onclick=\"quickchart('df-74695a71-b630-48f9-9cfa-b42c0f42cd59')\"\n",
              "            title=\"Suggest charts\"\n",
              "            style=\"display:none;\">\n",
              "\n",
              "<svg xmlns=\"http://www.w3.org/2000/svg\" height=\"24px\"viewBox=\"0 0 24 24\"\n",
              "     width=\"24px\">\n",
              "    <g>\n",
              "        <path d=\"M19 3H5c-1.1 0-2 .9-2 2v14c0 1.1.9 2 2 2h14c1.1 0 2-.9 2-2V5c0-1.1-.9-2-2-2zM9 17H7v-7h2v7zm4 0h-2V7h2v10zm4 0h-2v-4h2v4z\"/>\n",
              "    </g>\n",
              "</svg>\n",
              "  </button>\n",
              "\n",
              "<style>\n",
              "  .colab-df-quickchart {\n",
              "      --bg-color: #E8F0FE;\n",
              "      --fill-color: #1967D2;\n",
              "      --hover-bg-color: #E2EBFA;\n",
              "      --hover-fill-color: #174EA6;\n",
              "      --disabled-fill-color: #AAA;\n",
              "      --disabled-bg-color: #DDD;\n",
              "  }\n",
              "\n",
              "  [theme=dark] .colab-df-quickchart {\n",
              "      --bg-color: #3B4455;\n",
              "      --fill-color: #D2E3FC;\n",
              "      --hover-bg-color: #434B5C;\n",
              "      --hover-fill-color: #FFFFFF;\n",
              "      --disabled-bg-color: #3B4455;\n",
              "      --disabled-fill-color: #666;\n",
              "  }\n",
              "\n",
              "  .colab-df-quickchart {\n",
              "    background-color: var(--bg-color);\n",
              "    border: none;\n",
              "    border-radius: 50%;\n",
              "    cursor: pointer;\n",
              "    display: none;\n",
              "    fill: var(--fill-color);\n",
              "    height: 32px;\n",
              "    padding: 0;\n",
              "    width: 32px;\n",
              "  }\n",
              "\n",
              "  .colab-df-quickchart:hover {\n",
              "    background-color: var(--hover-bg-color);\n",
              "    box-shadow: 0 1px 2px rgba(60, 64, 67, 0.3), 0 1px 3px 1px rgba(60, 64, 67, 0.15);\n",
              "    fill: var(--button-hover-fill-color);\n",
              "  }\n",
              "\n",
              "  .colab-df-quickchart-complete:disabled,\n",
              "  .colab-df-quickchart-complete:disabled:hover {\n",
              "    background-color: var(--disabled-bg-color);\n",
              "    fill: var(--disabled-fill-color);\n",
              "    box-shadow: none;\n",
              "  }\n",
              "\n",
              "  .colab-df-spinner {\n",
              "    border: 2px solid var(--fill-color);\n",
              "    border-color: transparent;\n",
              "    border-bottom-color: var(--fill-color);\n",
              "    animation:\n",
              "      spin 1s steps(1) infinite;\n",
              "  }\n",
              "\n",
              "  @keyframes spin {\n",
              "    0% {\n",
              "      border-color: transparent;\n",
              "      border-bottom-color: var(--fill-color);\n",
              "      border-left-color: var(--fill-color);\n",
              "    }\n",
              "    20% {\n",
              "      border-color: transparent;\n",
              "      border-left-color: var(--fill-color);\n",
              "      border-top-color: var(--fill-color);\n",
              "    }\n",
              "    30% {\n",
              "      border-color: transparent;\n",
              "      border-left-color: var(--fill-color);\n",
              "      border-top-color: var(--fill-color);\n",
              "      border-right-color: var(--fill-color);\n",
              "    }\n",
              "    40% {\n",
              "      border-color: transparent;\n",
              "      border-right-color: var(--fill-color);\n",
              "      border-top-color: var(--fill-color);\n",
              "    }\n",
              "    60% {\n",
              "      border-color: transparent;\n",
              "      border-right-color: var(--fill-color);\n",
              "    }\n",
              "    80% {\n",
              "      border-color: transparent;\n",
              "      border-right-color: var(--fill-color);\n",
              "      border-bottom-color: var(--fill-color);\n",
              "    }\n",
              "    90% {\n",
              "      border-color: transparent;\n",
              "      border-bottom-color: var(--fill-color);\n",
              "    }\n",
              "  }\n",
              "</style>\n",
              "\n",
              "  <script>\n",
              "    async function quickchart(key) {\n",
              "      const quickchartButtonEl =\n",
              "        document.querySelector('#' + key + ' button');\n",
              "      quickchartButtonEl.disabled = true;  // To prevent multiple clicks.\n",
              "      quickchartButtonEl.classList.add('colab-df-spinner');\n",
              "      try {\n",
              "        const charts = await google.colab.kernel.invokeFunction(\n",
              "            'suggestCharts', [key], {});\n",
              "      } catch (error) {\n",
              "        console.error('Error during call to suggestCharts:', error);\n",
              "      }\n",
              "      quickchartButtonEl.classList.remove('colab-df-spinner');\n",
              "      quickchartButtonEl.classList.add('colab-df-quickchart-complete');\n",
              "    }\n",
              "    (() => {\n",
              "      let quickchartButtonEl =\n",
              "        document.querySelector('#df-74695a71-b630-48f9-9cfa-b42c0f42cd59 button');\n",
              "      quickchartButtonEl.style.display =\n",
              "        google.colab.kernel.accessAllowed ? 'block' : 'none';\n",
              "    })();\n",
              "  </script>\n",
              "</div>\n",
              "\n",
              "    </div>\n",
              "  </div>\n"
            ],
            "application/vnd.google.colaboratory.intrinsic+json": {
              "type": "dataframe"
            }
          },
          "metadata": {},
          "execution_count": 7
        }
      ]
    },
    {
      "cell_type": "code",
      "source": [
        "df.isnull().sum()\n",
        "#if null value is absent then it show 0\n",
        "#from this we conclude that we do not have any null value"
      ],
      "metadata": {
        "colab": {
          "base_uri": "https://localhost:8080/"
        },
        "id": "wChekJ5V_t9r",
        "outputId": "96cf8467-4b5d-40fa-d57f-ee4940eca7a3"
      },
      "execution_count": null,
      "outputs": [
        {
          "output_type": "execute_result",
          "data": {
            "text/plain": [
              "age               0\n",
              "job               0\n",
              "marital           0\n",
              "education         0\n",
              "default           0\n",
              "housing           0\n",
              "loan              0\n",
              "contact           0\n",
              "month             0\n",
              "day_of_week       0\n",
              "duration          0\n",
              "campaign          0\n",
              "pdays             0\n",
              "previous          0\n",
              "poutcome          0\n",
              "emp_var_rate      0\n",
              "cons_price_idx    0\n",
              "cons_conf_idx     0\n",
              "euribor3m         0\n",
              "nr_employed       0\n",
              "y                 0\n",
              "dtype: int64"
            ]
          },
          "metadata": {},
          "execution_count": 8
        }
      ]
    },
    {
      "cell_type": "code",
      "source": [
        "df.describe()\n",
        "#it gives us some of stats term needed to analyze some feature"
      ],
      "metadata": {
        "colab": {
          "base_uri": "https://localhost:8080/",
          "height": 300
        },
        "id": "2VmEbcDl_yiG",
        "outputId": "03d06555-e206-494a-98b1-ab8b0f834da8"
      },
      "execution_count": null,
      "outputs": [
        {
          "output_type": "execute_result",
          "data": {
            "text/plain": [
              "               age      duration      campaign         pdays      previous  \\\n",
              "count  41188.00000  41188.000000  41188.000000  41188.000000  41188.000000   \n",
              "mean      40.02406    258.285010      2.567593    962.475454      0.172963   \n",
              "std       10.42125    259.279249      2.770014    186.910907      0.494901   \n",
              "min       17.00000      0.000000      1.000000      0.000000      0.000000   \n",
              "25%       32.00000    102.000000      1.000000    999.000000      0.000000   \n",
              "50%       38.00000    180.000000      2.000000    999.000000      0.000000   \n",
              "75%       47.00000    319.000000      3.000000    999.000000      0.000000   \n",
              "max       98.00000   4918.000000     56.000000    999.000000      7.000000   \n",
              "\n",
              "       emp_var_rate  cons_price_idx  cons_conf_idx     euribor3m  \\\n",
              "count  41188.000000    41188.000000   41188.000000  41188.000000   \n",
              "mean       0.081886       93.575664     -40.502600      3.621291   \n",
              "std        1.570960        0.578840       4.628198      1.734447   \n",
              "min       -3.400000       92.201000     -50.800000      0.634000   \n",
              "25%       -1.800000       93.075000     -42.700000      1.344000   \n",
              "50%        1.100000       93.749000     -41.800000      4.857000   \n",
              "75%        1.400000       93.994000     -36.400000      4.961000   \n",
              "max        1.400000       94.767000     -26.900000      5.045000   \n",
              "\n",
              "        nr_employed             y  \n",
              "count  41188.000000  41188.000000  \n",
              "mean    5167.035911      0.112654  \n",
              "std       72.251528      0.316173  \n",
              "min     4963.600000      0.000000  \n",
              "25%     5099.100000      0.000000  \n",
              "50%     5191.000000      0.000000  \n",
              "75%     5228.100000      0.000000  \n",
              "max     5228.100000      1.000000  "
            ],
            "text/html": [
              "\n",
              "  <div id=\"df-8c5bff80-7b53-469b-a9da-7df583509580\" class=\"colab-df-container\">\n",
              "    <div>\n",
              "<style scoped>\n",
              "    .dataframe tbody tr th:only-of-type {\n",
              "        vertical-align: middle;\n",
              "    }\n",
              "\n",
              "    .dataframe tbody tr th {\n",
              "        vertical-align: top;\n",
              "    }\n",
              "\n",
              "    .dataframe thead th {\n",
              "        text-align: right;\n",
              "    }\n",
              "</style>\n",
              "<table border=\"1\" class=\"dataframe\">\n",
              "  <thead>\n",
              "    <tr style=\"text-align: right;\">\n",
              "      <th></th>\n",
              "      <th>age</th>\n",
              "      <th>duration</th>\n",
              "      <th>campaign</th>\n",
              "      <th>pdays</th>\n",
              "      <th>previous</th>\n",
              "      <th>emp_var_rate</th>\n",
              "      <th>cons_price_idx</th>\n",
              "      <th>cons_conf_idx</th>\n",
              "      <th>euribor3m</th>\n",
              "      <th>nr_employed</th>\n",
              "      <th>y</th>\n",
              "    </tr>\n",
              "  </thead>\n",
              "  <tbody>\n",
              "    <tr>\n",
              "      <th>count</th>\n",
              "      <td>41188.00000</td>\n",
              "      <td>41188.000000</td>\n",
              "      <td>41188.000000</td>\n",
              "      <td>41188.000000</td>\n",
              "      <td>41188.000000</td>\n",
              "      <td>41188.000000</td>\n",
              "      <td>41188.000000</td>\n",
              "      <td>41188.000000</td>\n",
              "      <td>41188.000000</td>\n",
              "      <td>41188.000000</td>\n",
              "      <td>41188.000000</td>\n",
              "    </tr>\n",
              "    <tr>\n",
              "      <th>mean</th>\n",
              "      <td>40.02406</td>\n",
              "      <td>258.285010</td>\n",
              "      <td>2.567593</td>\n",
              "      <td>962.475454</td>\n",
              "      <td>0.172963</td>\n",
              "      <td>0.081886</td>\n",
              "      <td>93.575664</td>\n",
              "      <td>-40.502600</td>\n",
              "      <td>3.621291</td>\n",
              "      <td>5167.035911</td>\n",
              "      <td>0.112654</td>\n",
              "    </tr>\n",
              "    <tr>\n",
              "      <th>std</th>\n",
              "      <td>10.42125</td>\n",
              "      <td>259.279249</td>\n",
              "      <td>2.770014</td>\n",
              "      <td>186.910907</td>\n",
              "      <td>0.494901</td>\n",
              "      <td>1.570960</td>\n",
              "      <td>0.578840</td>\n",
              "      <td>4.628198</td>\n",
              "      <td>1.734447</td>\n",
              "      <td>72.251528</td>\n",
              "      <td>0.316173</td>\n",
              "    </tr>\n",
              "    <tr>\n",
              "      <th>min</th>\n",
              "      <td>17.00000</td>\n",
              "      <td>0.000000</td>\n",
              "      <td>1.000000</td>\n",
              "      <td>0.000000</td>\n",
              "      <td>0.000000</td>\n",
              "      <td>-3.400000</td>\n",
              "      <td>92.201000</td>\n",
              "      <td>-50.800000</td>\n",
              "      <td>0.634000</td>\n",
              "      <td>4963.600000</td>\n",
              "      <td>0.000000</td>\n",
              "    </tr>\n",
              "    <tr>\n",
              "      <th>25%</th>\n",
              "      <td>32.00000</td>\n",
              "      <td>102.000000</td>\n",
              "      <td>1.000000</td>\n",
              "      <td>999.000000</td>\n",
              "      <td>0.000000</td>\n",
              "      <td>-1.800000</td>\n",
              "      <td>93.075000</td>\n",
              "      <td>-42.700000</td>\n",
              "      <td>1.344000</td>\n",
              "      <td>5099.100000</td>\n",
              "      <td>0.000000</td>\n",
              "    </tr>\n",
              "    <tr>\n",
              "      <th>50%</th>\n",
              "      <td>38.00000</td>\n",
              "      <td>180.000000</td>\n",
              "      <td>2.000000</td>\n",
              "      <td>999.000000</td>\n",
              "      <td>0.000000</td>\n",
              "      <td>1.100000</td>\n",
              "      <td>93.749000</td>\n",
              "      <td>-41.800000</td>\n",
              "      <td>4.857000</td>\n",
              "      <td>5191.000000</td>\n",
              "      <td>0.000000</td>\n",
              "    </tr>\n",
              "    <tr>\n",
              "      <th>75%</th>\n",
              "      <td>47.00000</td>\n",
              "      <td>319.000000</td>\n",
              "      <td>3.000000</td>\n",
              "      <td>999.000000</td>\n",
              "      <td>0.000000</td>\n",
              "      <td>1.400000</td>\n",
              "      <td>93.994000</td>\n",
              "      <td>-36.400000</td>\n",
              "      <td>4.961000</td>\n",
              "      <td>5228.100000</td>\n",
              "      <td>0.000000</td>\n",
              "    </tr>\n",
              "    <tr>\n",
              "      <th>max</th>\n",
              "      <td>98.00000</td>\n",
              "      <td>4918.000000</td>\n",
              "      <td>56.000000</td>\n",
              "      <td>999.000000</td>\n",
              "      <td>7.000000</td>\n",
              "      <td>1.400000</td>\n",
              "      <td>94.767000</td>\n",
              "      <td>-26.900000</td>\n",
              "      <td>5.045000</td>\n",
              "      <td>5228.100000</td>\n",
              "      <td>1.000000</td>\n",
              "    </tr>\n",
              "  </tbody>\n",
              "</table>\n",
              "</div>\n",
              "    <div class=\"colab-df-buttons\">\n",
              "\n",
              "  <div class=\"colab-df-container\">\n",
              "    <button class=\"colab-df-convert\" onclick=\"convertToInteractive('df-8c5bff80-7b53-469b-a9da-7df583509580')\"\n",
              "            title=\"Convert this dataframe to an interactive table.\"\n",
              "            style=\"display:none;\">\n",
              "\n",
              "  <svg xmlns=\"http://www.w3.org/2000/svg\" height=\"24px\" viewBox=\"0 -960 960 960\">\n",
              "    <path d=\"M120-120v-720h720v720H120Zm60-500h600v-160H180v160Zm220 220h160v-160H400v160Zm0 220h160v-160H400v160ZM180-400h160v-160H180v160Zm440 0h160v-160H620v160ZM180-180h160v-160H180v160Zm440 0h160v-160H620v160Z\"/>\n",
              "  </svg>\n",
              "    </button>\n",
              "\n",
              "  <style>\n",
              "    .colab-df-container {\n",
              "      display:flex;\n",
              "      gap: 12px;\n",
              "    }\n",
              "\n",
              "    .colab-df-convert {\n",
              "      background-color: #E8F0FE;\n",
              "      border: none;\n",
              "      border-radius: 50%;\n",
              "      cursor: pointer;\n",
              "      display: none;\n",
              "      fill: #1967D2;\n",
              "      height: 32px;\n",
              "      padding: 0 0 0 0;\n",
              "      width: 32px;\n",
              "    }\n",
              "\n",
              "    .colab-df-convert:hover {\n",
              "      background-color: #E2EBFA;\n",
              "      box-shadow: 0px 1px 2px rgba(60, 64, 67, 0.3), 0px 1px 3px 1px rgba(60, 64, 67, 0.15);\n",
              "      fill: #174EA6;\n",
              "    }\n",
              "\n",
              "    .colab-df-buttons div {\n",
              "      margin-bottom: 4px;\n",
              "    }\n",
              "\n",
              "    [theme=dark] .colab-df-convert {\n",
              "      background-color: #3B4455;\n",
              "      fill: #D2E3FC;\n",
              "    }\n",
              "\n",
              "    [theme=dark] .colab-df-convert:hover {\n",
              "      background-color: #434B5C;\n",
              "      box-shadow: 0px 1px 3px 1px rgba(0, 0, 0, 0.15);\n",
              "      filter: drop-shadow(0px 1px 2px rgba(0, 0, 0, 0.3));\n",
              "      fill: #FFFFFF;\n",
              "    }\n",
              "  </style>\n",
              "\n",
              "    <script>\n",
              "      const buttonEl =\n",
              "        document.querySelector('#df-8c5bff80-7b53-469b-a9da-7df583509580 button.colab-df-convert');\n",
              "      buttonEl.style.display =\n",
              "        google.colab.kernel.accessAllowed ? 'block' : 'none';\n",
              "\n",
              "      async function convertToInteractive(key) {\n",
              "        const element = document.querySelector('#df-8c5bff80-7b53-469b-a9da-7df583509580');\n",
              "        const dataTable =\n",
              "          await google.colab.kernel.invokeFunction('convertToInteractive',\n",
              "                                                    [key], {});\n",
              "        if (!dataTable) return;\n",
              "\n",
              "        const docLinkHtml = 'Like what you see? Visit the ' +\n",
              "          '<a target=\"_blank\" href=https://colab.research.google.com/notebooks/data_table.ipynb>data table notebook</a>'\n",
              "          + ' to learn more about interactive tables.';\n",
              "        element.innerHTML = '';\n",
              "        dataTable['output_type'] = 'display_data';\n",
              "        await google.colab.output.renderOutput(dataTable, element);\n",
              "        const docLink = document.createElement('div');\n",
              "        docLink.innerHTML = docLinkHtml;\n",
              "        element.appendChild(docLink);\n",
              "      }\n",
              "    </script>\n",
              "  </div>\n",
              "\n",
              "\n",
              "<div id=\"df-6acea128-01eb-45bd-a8d8-1c7fb7bd6e9c\">\n",
              "  <button class=\"colab-df-quickchart\" onclick=\"quickchart('df-6acea128-01eb-45bd-a8d8-1c7fb7bd6e9c')\"\n",
              "            title=\"Suggest charts\"\n",
              "            style=\"display:none;\">\n",
              "\n",
              "<svg xmlns=\"http://www.w3.org/2000/svg\" height=\"24px\"viewBox=\"0 0 24 24\"\n",
              "     width=\"24px\">\n",
              "    <g>\n",
              "        <path d=\"M19 3H5c-1.1 0-2 .9-2 2v14c0 1.1.9 2 2 2h14c1.1 0 2-.9 2-2V5c0-1.1-.9-2-2-2zM9 17H7v-7h2v7zm4 0h-2V7h2v10zm4 0h-2v-4h2v4z\"/>\n",
              "    </g>\n",
              "</svg>\n",
              "  </button>\n",
              "\n",
              "<style>\n",
              "  .colab-df-quickchart {\n",
              "      --bg-color: #E8F0FE;\n",
              "      --fill-color: #1967D2;\n",
              "      --hover-bg-color: #E2EBFA;\n",
              "      --hover-fill-color: #174EA6;\n",
              "      --disabled-fill-color: #AAA;\n",
              "      --disabled-bg-color: #DDD;\n",
              "  }\n",
              "\n",
              "  [theme=dark] .colab-df-quickchart {\n",
              "      --bg-color: #3B4455;\n",
              "      --fill-color: #D2E3FC;\n",
              "      --hover-bg-color: #434B5C;\n",
              "      --hover-fill-color: #FFFFFF;\n",
              "      --disabled-bg-color: #3B4455;\n",
              "      --disabled-fill-color: #666;\n",
              "  }\n",
              "\n",
              "  .colab-df-quickchart {\n",
              "    background-color: var(--bg-color);\n",
              "    border: none;\n",
              "    border-radius: 50%;\n",
              "    cursor: pointer;\n",
              "    display: none;\n",
              "    fill: var(--fill-color);\n",
              "    height: 32px;\n",
              "    padding: 0;\n",
              "    width: 32px;\n",
              "  }\n",
              "\n",
              "  .colab-df-quickchart:hover {\n",
              "    background-color: var(--hover-bg-color);\n",
              "    box-shadow: 0 1px 2px rgba(60, 64, 67, 0.3), 0 1px 3px 1px rgba(60, 64, 67, 0.15);\n",
              "    fill: var(--button-hover-fill-color);\n",
              "  }\n",
              "\n",
              "  .colab-df-quickchart-complete:disabled,\n",
              "  .colab-df-quickchart-complete:disabled:hover {\n",
              "    background-color: var(--disabled-bg-color);\n",
              "    fill: var(--disabled-fill-color);\n",
              "    box-shadow: none;\n",
              "  }\n",
              "\n",
              "  .colab-df-spinner {\n",
              "    border: 2px solid var(--fill-color);\n",
              "    border-color: transparent;\n",
              "    border-bottom-color: var(--fill-color);\n",
              "    animation:\n",
              "      spin 1s steps(1) infinite;\n",
              "  }\n",
              "\n",
              "  @keyframes spin {\n",
              "    0% {\n",
              "      border-color: transparent;\n",
              "      border-bottom-color: var(--fill-color);\n",
              "      border-left-color: var(--fill-color);\n",
              "    }\n",
              "    20% {\n",
              "      border-color: transparent;\n",
              "      border-left-color: var(--fill-color);\n",
              "      border-top-color: var(--fill-color);\n",
              "    }\n",
              "    30% {\n",
              "      border-color: transparent;\n",
              "      border-left-color: var(--fill-color);\n",
              "      border-top-color: var(--fill-color);\n",
              "      border-right-color: var(--fill-color);\n",
              "    }\n",
              "    40% {\n",
              "      border-color: transparent;\n",
              "      border-right-color: var(--fill-color);\n",
              "      border-top-color: var(--fill-color);\n",
              "    }\n",
              "    60% {\n",
              "      border-color: transparent;\n",
              "      border-right-color: var(--fill-color);\n",
              "    }\n",
              "    80% {\n",
              "      border-color: transparent;\n",
              "      border-right-color: var(--fill-color);\n",
              "      border-bottom-color: var(--fill-color);\n",
              "    }\n",
              "    90% {\n",
              "      border-color: transparent;\n",
              "      border-bottom-color: var(--fill-color);\n",
              "    }\n",
              "  }\n",
              "</style>\n",
              "\n",
              "  <script>\n",
              "    async function quickchart(key) {\n",
              "      const quickchartButtonEl =\n",
              "        document.querySelector('#' + key + ' button');\n",
              "      quickchartButtonEl.disabled = true;  // To prevent multiple clicks.\n",
              "      quickchartButtonEl.classList.add('colab-df-spinner');\n",
              "      try {\n",
              "        const charts = await google.colab.kernel.invokeFunction(\n",
              "            'suggestCharts', [key], {});\n",
              "      } catch (error) {\n",
              "        console.error('Error during call to suggestCharts:', error);\n",
              "      }\n",
              "      quickchartButtonEl.classList.remove('colab-df-spinner');\n",
              "      quickchartButtonEl.classList.add('colab-df-quickchart-complete');\n",
              "    }\n",
              "    (() => {\n",
              "      let quickchartButtonEl =\n",
              "        document.querySelector('#df-6acea128-01eb-45bd-a8d8-1c7fb7bd6e9c button');\n",
              "      quickchartButtonEl.style.display =\n",
              "        google.colab.kernel.accessAllowed ? 'block' : 'none';\n",
              "    })();\n",
              "  </script>\n",
              "</div>\n",
              "\n",
              "    </div>\n",
              "  </div>\n"
            ],
            "application/vnd.google.colaboratory.intrinsic+json": {
              "type": "dataframe",
              "summary": "{\n  \"name\": \"#it gives us some of stats term needed to analyze some feature\",\n  \"rows\": 8,\n  \"fields\": [\n    {\n      \"column\": \"age\",\n      \"properties\": {\n        \"dtype\": \"number\",\n        \"std\": 14547.915389437558,\n        \"min\": 10.421249980934048,\n        \"max\": 41188.0,\n        \"num_unique_values\": 8,\n        \"samples\": [\n          40.02406040594348,\n          38.0,\n          41188.0\n        ],\n        \"semantic_type\": \"\",\n        \"description\": \"\"\n      }\n    },\n    {\n      \"column\": \"duration\",\n      \"properties\": {\n        \"dtype\": \"number\",\n        \"std\": 14353.429834977824,\n        \"min\": 0.0,\n        \"max\": 41188.0,\n        \"num_unique_values\": 8,\n        \"samples\": [\n          258.2850101971448,\n          180.0,\n          41188.0\n        ],\n        \"semantic_type\": \"\",\n        \"description\": \"\"\n      }\n    },\n    {\n      \"column\": \"campaign\",\n      \"properties\": {\n        \"dtype\": \"number\",\n        \"std\": 14558.717737799894,\n        \"min\": 1.0,\n        \"max\": 41188.0,\n        \"num_unique_values\": 7,\n        \"samples\": [\n          41188.0,\n          2.567592502670681,\n          3.0\n        ],\n        \"semantic_type\": \"\",\n        \"description\": \"\"\n      }\n    },\n    {\n      \"column\": \"pdays\",\n      \"properties\": {\n        \"dtype\": \"number\",\n        \"std\": 14308.123597767704,\n        \"min\": 0.0,\n        \"max\": 41188.0,\n        \"num_unique_values\": 5,\n        \"samples\": [\n          962.4754540157328,\n          999.0,\n          186.91090734474176\n        ],\n        \"semantic_type\": \"\",\n        \"description\": \"\"\n      }\n    },\n    {\n      \"column\": \"previous\",\n      \"properties\": {\n        \"dtype\": \"number\",\n        \"std\": 14561.769966637723,\n        \"min\": 0.0,\n        \"max\": 41188.0,\n        \"num_unique_values\": 5,\n        \"samples\": [\n          0.17296299893172767,\n          7.0,\n          0.4949010798392897\n        ],\n        \"semantic_type\": \"\",\n        \"description\": \"\"\n      }\n    },\n    {\n      \"column\": \"emp_var_rate\",\n      \"properties\": {\n        \"dtype\": \"number\",\n        \"std\": 14562.139340189238,\n        \"min\": -3.4,\n        \"max\": 41188.0,\n        \"num_unique_values\": 7,\n        \"samples\": [\n          41188.0,\n          0.0818855006312518,\n          1.1\n        ],\n        \"semantic_type\": \"\",\n        \"description\": \"\"\n      }\n    },\n    {\n      \"column\": \"cons_price_idx\",\n      \"properties\": {\n        \"dtype\": \"number\",\n        \"std\": 14533.81120862695,\n        \"min\": 0.5788400489541262,\n        \"max\": 41188.0,\n        \"num_unique_values\": 8,\n        \"samples\": [\n          93.57566436826261,\n          93.749,\n          41188.0\n        ],\n        \"semantic_type\": \"\",\n        \"description\": \"\"\n      }\n    },\n    {\n      \"column\": \"cons_conf_idx\",\n      \"properties\": {\n        \"dtype\": \"number\",\n        \"std\": 14574.009636834653,\n        \"min\": -50.8,\n        \"max\": 41188.0,\n        \"num_unique_values\": 8,\n        \"samples\": [\n          -40.50260027192386,\n          -41.8,\n          41188.0\n        ],\n        \"semantic_type\": \"\",\n        \"description\": \"\"\n      }\n    },\n    {\n      \"column\": \"euribor3m\",\n      \"properties\": {\n        \"dtype\": \"number\",\n        \"std\": 14561.036053130754,\n        \"min\": 0.634,\n        \"max\": 41188.0,\n        \"num_unique_values\": 8,\n        \"samples\": [\n          3.621290812858114,\n          4.857,\n          41188.0\n        ],\n        \"semantic_type\": \"\",\n        \"description\": \"\"\n      }\n    },\n    {\n      \"column\": \"nr_employed\",\n      \"properties\": {\n        \"dtype\": \"number\",\n        \"std\": 13119.9618027212,\n        \"min\": 72.25152766826108,\n        \"max\": 41188.0,\n        \"num_unique_values\": 7,\n        \"samples\": [\n          41188.0,\n          5167.035910944936,\n          5191.0\n        ],\n        \"semantic_type\": \"\",\n        \"description\": \"\"\n      }\n    },\n    {\n      \"column\": \"y\",\n      \"properties\": {\n        \"dtype\": \"number\",\n        \"std\": 14562.084889091191,\n        \"min\": 0.0,\n        \"max\": 41188.0,\n        \"num_unique_values\": 5,\n        \"samples\": [\n          0.11265417111780131,\n          1.0,\n          0.3161734269429649\n        ],\n        \"semantic_type\": \"\",\n        \"description\": \"\"\n      }\n    }\n  ]\n}"
            }
          },
          "metadata": {},
          "execution_count": 9
        }
      ]
    },
    {
      "cell_type": "code",
      "source": [
        "df.info()# we have all together 17 features"
      ],
      "metadata": {
        "colab": {
          "base_uri": "https://localhost:8080/"
        },
        "id": "8qYC69jIARjQ",
        "outputId": "127604d9-e36f-4fca-d74a-1b17996e889a"
      },
      "execution_count": null,
      "outputs": [
        {
          "output_type": "stream",
          "name": "stdout",
          "text": [
            "<class 'pandas.core.frame.DataFrame'>\n",
            "RangeIndex: 41188 entries, 0 to 41187\n",
            "Data columns (total 21 columns):\n",
            " #   Column          Non-Null Count  Dtype  \n",
            "---  ------          --------------  -----  \n",
            " 0   age             41188 non-null  int64  \n",
            " 1   job             41188 non-null  object \n",
            " 2   marital         41188 non-null  object \n",
            " 3   education       41188 non-null  object \n",
            " 4   default         41188 non-null  object \n",
            " 5   housing         41188 non-null  object \n",
            " 6   loan            41188 non-null  object \n",
            " 7   contact         41188 non-null  object \n",
            " 8   month           41188 non-null  object \n",
            " 9   day_of_week     41188 non-null  object \n",
            " 10  duration        41188 non-null  int64  \n",
            " 11  campaign        41188 non-null  int64  \n",
            " 12  pdays           41188 non-null  int64  \n",
            " 13  previous        41188 non-null  int64  \n",
            " 14  poutcome        41188 non-null  object \n",
            " 15  emp_var_rate    41188 non-null  float64\n",
            " 16  cons_price_idx  41188 non-null  float64\n",
            " 17  cons_conf_idx   41188 non-null  float64\n",
            " 18  euribor3m       41188 non-null  float64\n",
            " 19  nr_employed     41188 non-null  float64\n",
            " 20  y               41188 non-null  int64  \n",
            "dtypes: float64(5), int64(6), object(10)\n",
            "memory usage: 6.6+ MB\n"
          ]
        }
      ]
    },
    {
      "cell_type": "code",
      "source": [
        "#this gives the unique value of that particular feature\n",
        "print('Age: \\n',df.age.unique())\n",
        "print('Job: \\n',df.job.unique())\n",
        "print('marital: \\n',df.marital.unique())\n",
        "print('education: \\n',df.education.unique())\n",
        "print('housing: \\n',df.housing.unique())\n",
        "print('loan: \\n',df.loan.unique())\n",
        "print('Contact: \\n',df.contact.unique())\n",
        "print('month: \\n',df.month.unique())\n",
        "print('Day: \\n',df.day_of_week.unique())\n",
        "print('campaign: \\n',df.campaign.unique())\n",
        "print('pdays: \\n',df.pdays.unique())\n",
        "print('poutcome: \\n',df.poutcome.unique())\n",
        "print('y: \\n',df.y.unique())"
      ],
      "metadata": {
        "colab": {
          "base_uri": "https://localhost:8080/"
        },
        "id": "efouVFGKaBpe",
        "outputId": "a9379d27-f18a-4776-ab31-f838db88835b"
      },
      "execution_count": null,
      "outputs": [
        {
          "output_type": "stream",
          "name": "stdout",
          "text": [
            "Age: \n",
            " [44 53 28 39 55 30 37 36 27 34 41 33 26 52 35 40 32 49 38 47 46 29 54 42\n",
            " 72 48 43 56 31 24 68 59 50 45 25 57 63 58 60 64 51 23 20 74 80 61 62 75\n",
            " 21 82 77 70 76 73 66 22 71 19 79 88 65 67 81 18 84 69 98 85 83 78 92 86\n",
            " 94 17 91 89 87 95]\n",
            "Job: \n",
            " ['blue-collar' 'technician' 'management' 'services' 'retired' 'admin.'\n",
            " 'housemaid' 'unemployed' 'entrepreneur' 'self-employed' 'unknown'\n",
            " 'student']\n",
            "marital: \n",
            " ['married' 'single' 'divorced' 'unknown']\n",
            "education: \n",
            " ['basic.4y' 'unknown' 'university.degree' 'high.school' 'basic.9y'\n",
            " 'professional.course' 'basic.6y' 'illiterate']\n",
            "housing: \n",
            " ['yes' 'no' 'unknown']\n",
            "loan: \n",
            " ['no' 'yes' 'unknown']\n",
            "Contact: \n",
            " ['cellular' 'telephone']\n",
            "month: \n",
            " ['aug' 'nov' 'jun' 'apr' 'jul' 'may' 'oct' 'mar' 'sep' 'dec']\n",
            "Day: \n",
            " ['thu' 'fri' 'tue' 'mon' 'wed']\n",
            "campaign: \n",
            " [ 1  3  2  8  5  4 25 11 12 18  6 17  7 20 16 14 10  9 19 29 13 40 15 34\n",
            " 22 24 41 21 23 39 28 27 31 35 26 30 32 43 33 42 56 37]\n",
            "pdays: \n",
            " [999   6   3   2   4  16   0   5  11  14  13   9  15  17  12  26   7  19\n",
            "  10   1  18   8  20  21  22  25  27]\n",
            "poutcome: \n",
            " ['nonexistent' 'success' 'failure']\n",
            "y: \n",
            " [0 1]\n"
          ]
        }
      ]
    },
    {
      "cell_type": "markdown",
      "source": [
        "So basicallt marital, housing , loan, y and poutcome are categorical data"
      ],
      "metadata": {
        "id": "u15OeRrl_xkq"
      }
    },
    {
      "cell_type": "code",
      "source": [
        "#Count values of categorical data\n",
        "print('Marital: \\n',df.marital.value_counts())\n",
        "print('---------------------------------------------------')\n",
        "print('Education: \\n',df.education.value_counts())\n",
        "print('---------------------------------------------------')\n",
        "print('Default: \\n',df.default.value_counts())\n",
        "print('---------------------------------------------------')\n",
        "print('Housing: \\n',df.housing.value_counts())\n",
        "print('---------------------------------------------------')\n",
        "print('Loan: \\n',df.loan.value_counts())\n",
        "print('---------------------------------------------------')\n",
        "print('Contract: \\n',df.contact.value_counts())\n",
        "print('---------------------------------------------------')\n",
        "print('poutcome: \\n',df.poutcome.value_counts())\n",
        "print('---------------------------------------------------')\n",
        "print('y: \\n',df.y.value_counts)"
      ],
      "metadata": {
        "colab": {
          "base_uri": "https://localhost:8080/"
        },
        "id": "S_-1esGIixDP",
        "outputId": "adbe0a8b-2f99-49b6-9ad7-74fb104685e1"
      },
      "execution_count": null,
      "outputs": [
        {
          "output_type": "stream",
          "name": "stdout",
          "text": [
            "Marital: \n",
            " marital\n",
            "married     24928\n",
            "single      11568\n",
            "divorced     4612\n",
            "unknown        80\n",
            "Name: count, dtype: int64\n",
            "---------------------------------------------------\n",
            "Education: \n",
            " education\n",
            "university.degree      12168\n",
            "high.school             9515\n",
            "basic.9y                6045\n",
            "professional.course     5243\n",
            "basic.4y                4176\n",
            "basic.6y                2292\n",
            "unknown                 1731\n",
            "illiterate                18\n",
            "Name: count, dtype: int64\n",
            "---------------------------------------------------\n",
            "Default: \n",
            " default\n",
            "no         32588\n",
            "unknown     8597\n",
            "yes            3\n",
            "Name: count, dtype: int64\n",
            "---------------------------------------------------\n",
            "Housing: \n",
            " housing\n",
            "yes        21576\n",
            "no         18622\n",
            "unknown      990\n",
            "Name: count, dtype: int64\n",
            "---------------------------------------------------\n",
            "Loan: \n",
            " loan\n",
            "no         33950\n",
            "yes         6248\n",
            "unknown      990\n",
            "Name: count, dtype: int64\n",
            "---------------------------------------------------\n",
            "Contract: \n",
            " contact\n",
            "cellular     26144\n",
            "telephone    15044\n",
            "Name: count, dtype: int64\n",
            "---------------------------------------------------\n",
            "poutcome: \n",
            " poutcome\n",
            "nonexistent    35563\n",
            "failure         4252\n",
            "success         1373\n",
            "Name: count, dtype: int64\n",
            "---------------------------------------------------\n",
            "y: \n",
            " <bound method IndexOpsMixin.value_counts of 0        0\n",
            "1        0\n",
            "2        1\n",
            "3        0\n",
            "4        1\n",
            "        ..\n",
            "41183    0\n",
            "41184    0\n",
            "41185    0\n",
            "41186    0\n",
            "41187    0\n",
            "Name: y, Length: 41188, dtype: int64>\n"
          ]
        }
      ]
    },
    {
      "cell_type": "code",
      "source": [
        "#Visiualization\n",
        "import seaborn as sns\n",
        "import matplotlib.pyplot as plt\n",
        "sns.set_style('ticks')\n",
        "sns.countplot(x = 'y', hue = 'job',data=df,palette='bright')\n",
        "#since job have many sub category we make studying them easy by"
      ],
      "metadata": {
        "colab": {
          "base_uri": "https://localhost:8080/",
          "height": 466
        },
        "id": "pAYO_R7IjguF",
        "outputId": "367c6618-697f-4f7e-bc0f-3808d42fab08"
      },
      "execution_count": null,
      "outputs": [
        {
          "output_type": "execute_result",
          "data": {
            "text/plain": [
              "<Axes: xlabel='y', ylabel='count'>"
            ]
          },
          "metadata": {},
          "execution_count": 23
        },
        {
          "output_type": "display_data",
          "data": {
            "text/plain": [
              "<Figure size 640x480 with 1 Axes>"
            ],
            "image/png": "[encoded data removed]"
          },
          "metadata": {}
        }
      ]
    },
    {
      "cell_type": "code",
      "source": [
        "sns.set_style('ticks')\n",
        "sns.countplot(x = 'y', hue = 'marital',data=df,palette='bright')\n",
        "#we using same to visualize marital"
      ],
      "metadata": {
        "colab": {
          "base_uri": "https://localhost:8080/",
          "height": 466
        },
        "id": "7DZdZPtRl22x",
        "outputId": "b0d434cc-4396-4c01-f1f7-dec3f2bcbfc7"
      },
      "execution_count": null,
      "outputs": [
        {
          "output_type": "execute_result",
          "data": {
            "text/plain": [
              "<Axes: xlabel='y', ylabel='count'>"
            ]
          },
          "metadata": {},
          "execution_count": 24
        },
        {
          "output_type": "display_data",
          "data": {
            "text/plain": [
              "<Figure size 640x480 with 1 Axes>"
            ],
            "image/png": "[encoded data removed]"
          },
          "metadata": {}
        }
      ]
    },
    {
      "cell_type": "code",
      "source": [
        "plt.figure(figsize=(9,6))\n",
        "sns.histplot(df, x='age',kde=True) # Plot the density curve too\n",
        "#df['age'].hist(bins=30)\n",
        "#Histograms allow us to plot the distributions of numeric variables , so we using it for age"
      ],
      "metadata": {
        "colab": {
          "base_uri": "https://localhost:8080/",
          "height": 559
        },
        "id": "6Eyi9pkOl_9T",
        "outputId": "b8294236-a563-4805-975b-91ae9aeea119"
      },
      "execution_count": null,
      "outputs": [
        {
          "output_type": "execute_result",
          "data": {
            "text/plain": [
              "<Axes: xlabel='age', ylabel='Count'>"
            ]
          },
          "metadata": {},
          "execution_count": 26
        },
        {
          "output_type": "display_data",
          "data": {
            "text/plain": [
              "<Figure size 900x600 with 1 Axes>"
            ],
            "image/png": "[encoded data removed]"
          },
          "metadata": {}
        }
      ]
    },
    {
      "cell_type": "code",
      "source": [
        "df.columns"
      ],
      "metadata": {
        "colab": {
          "base_uri": "https://localhost:8080/"
        },
        "id": "wZUL9kqfFarw",
        "outputId": "262445c6-264f-4f10-eb39-9205ebcb59eb"
      },
      "execution_count": null,
      "outputs": [
        {
          "output_type": "execute_result",
          "data": {
            "text/plain": [
              "Index(['age', 'job', 'marital', 'education', 'default', 'housing', 'loan',\n",
              "       'contact', 'month', 'day_of_week', 'duration', 'campaign', 'pdays',\n",
              "       'previous', 'poutcome', 'emp_var_rate', 'cons_price_idx',\n",
              "       'cons_conf_idx', 'euribor3m', 'nr_employed', 'y'],\n",
              "      dtype='object')"
            ]
          },
          "metadata": {},
          "execution_count": 30
        }
      ]
    },
    {
      "cell_type": "code",
      "source": [
        "plt.figure(figsize=(9,6))\n",
        "sns.histplot(df, x='day_of_week',kde=True) # Plot the density curve too\n",
        "#df['day'].hist(bins=60)"
      ],
      "metadata": {
        "colab": {
          "base_uri": "https://localhost:8080/",
          "height": 559
        },
        "id": "e0tjty_jn8yA",
        "outputId": "16b758b3-db12-467c-ac9d-7e9b2cef4375"
      },
      "execution_count": null,
      "outputs": [
        {
          "output_type": "execute_result",
          "data": {
            "text/plain": [
              "<Axes: xlabel='day_of_week', ylabel='Count'>"
            ]
          },
          "metadata": {},
          "execution_count": 31
        },
        {
          "output_type": "display_data",
          "data": {
            "text/plain": [
              "<Figure size 900x600 with 1 Axes>"
            ],
            "image/png": "[encoded data removed]"
          },
          "metadata": {}
        }
      ]
    },
    {
      "cell_type": "code",
      "source": [
        "df['duration'].hist(bins=40)"
      ],
      "metadata": {
        "colab": {
          "base_uri": "https://localhost:8080/",
          "height": 452
        },
        "id": "lEi-C8groBjo",
        "outputId": "466b0206-4f10-4798-9c93-d0fd0e7a37dd"
      },
      "execution_count": null,
      "outputs": [
        {
          "output_type": "execute_result",
          "data": {
            "text/plain": [
              "<Axes: >"
            ]
          },
          "metadata": {},
          "execution_count": 32
        },
        {
          "output_type": "display_data",
          "data": {
            "text/plain": [
              "<Figure size 640x480 with 1 Axes>"
            ],
            "image/png": "[encoded data removed]"
          },
          "metadata": {}
        }
      ]
    },
    {
      "cell_type": "code",
      "source": [
        "df['campaign'].hist(bins=40)"
      ],
      "metadata": {
        "colab": {
          "base_uri": "https://localhost:8080/",
          "height": 447
        },
        "id": "xPIZYVt0oHBx",
        "outputId": "03430e29-fc00-4e3e-bc00-7badfe534ada"
      },
      "execution_count": null,
      "outputs": [
        {
          "output_type": "execute_result",
          "data": {
            "text/plain": [
              "<Axes: >"
            ]
          },
          "metadata": {},
          "execution_count": 33
        },
        {
          "output_type": "display_data",
          "data": {
            "text/plain": [
              "<Figure size 640x480 with 1 Axes>"
            ],
            "image/png": "[encoded data removed]"
          },
          "metadata": {}
        }
      ]
    },
    {
      "cell_type": "code",
      "source": [
        "df['pdays'].hist(bins=20)"
      ],
      "metadata": {
        "colab": {
          "base_uri": "https://localhost:8080/",
          "height": 447
        },
        "id": "80Avuph4oK7P",
        "outputId": "61833f5b-ed98-4e86-cb80-9ad6d7c6d4b0"
      },
      "execution_count": null,
      "outputs": [
        {
          "output_type": "execute_result",
          "data": {
            "text/plain": [
              "<Axes: >"
            ]
          },
          "metadata": {},
          "execution_count": 34
        },
        {
          "output_type": "display_data",
          "data": {
            "text/plain": [
              "<Figure size 640x480 with 1 Axes>"
            ],
            "image/png": "[encoded data removed]"
          },
          "metadata": {}
        }
      ]
    },
    {
      "cell_type": "code",
      "source": [
        "fig = plt.figure(figsize=(15,7))\n",
        "sns.countplot(x='job',data=df, hue='y')"
      ],
      "metadata": {
        "colab": {
          "base_uri": "https://localhost:8080/",
          "height": 636
        },
        "id": "A5P4XECIoOy2",
        "outputId": "304a6b52-5cdb-402f-8f4b-0b55edd9552f"
      },
      "execution_count": null,
      "outputs": [
        {
          "output_type": "execute_result",
          "data": {
            "text/plain": [
              "<Axes: xlabel='job', ylabel='count'>"
            ]
          },
          "metadata": {},
          "execution_count": 35
        },
        {
          "output_type": "display_data",
          "data": {
            "text/plain": [
              "<Figure size 1500x700 with 1 Axes>"
            ],
            "image/png": "[encoded data removed]"
          },
          "metadata": {}
        }
      ]
    },
    {
      "cell_type": "code",
      "source": [
        "fig = plt.figure(figsize=(7,5))\n",
        "sns.countplot(x='marital',data=df, hue='y')"
      ],
      "metadata": {
        "colab": {
          "base_uri": "https://localhost:8080/",
          "height": 482
        },
        "id": "JN4zXEcasuY9",
        "outputId": "29629a6b-213d-4ad2-a587-0039019a36d2"
      },
      "execution_count": null,
      "outputs": [
        {
          "output_type": "execute_result",
          "data": {
            "text/plain": [
              "<Axes: xlabel='marital', ylabel='count'>"
            ]
          },
          "metadata": {},
          "execution_count": 36
        },
        {
          "output_type": "display_data",
          "data": {
            "text/plain": [
              "<Figure size 700x500 with 1 Axes>"
            ],
            "image/png": "[encoded data removed]"
          },
          "metadata": {}
        }
      ]
    },
    {
      "cell_type": "code",
      "source": [
        "fig = plt.figure(figsize=(7,5))\n",
        "sns.countplot(x='education',data=df, hue='y')"
      ],
      "metadata": {
        "colab": {
          "base_uri": "https://localhost:8080/",
          "height": 482
        },
        "id": "bVsI8uLPs4pa",
        "outputId": "d9f57a66-e726-49cc-83e9-3c8330a096fb"
      },
      "execution_count": null,
      "outputs": [
        {
          "output_type": "execute_result",
          "data": {
            "text/plain": [
              "<Axes: xlabel='education', ylabel='count'>"
            ]
          },
          "metadata": {},
          "execution_count": 37
        },
        {
          "output_type": "display_data",
          "data": {
            "text/plain": [
              "<Figure size 700x500 with 1 Axes>"
            ],
            "image/png": "[encoded data removed]"
          },
          "metadata": {}
        }
      ]
    },
    {
      "cell_type": "code",
      "source": [
        "fig = plt.figure(figsize=(7,5))\n",
        "sns.countplot(x='loan',data=df, hue='y')"
      ],
      "metadata": {
        "colab": {
          "base_uri": "https://localhost:8080/",
          "height": 482
        },
        "id": "cLsj3v8hs9qT",
        "outputId": "ea976e98-422a-4a79-bc13-951fa5dc868d"
      },
      "execution_count": null,
      "outputs": [
        {
          "output_type": "execute_result",
          "data": {
            "text/plain": [
              "<Axes: xlabel='loan', ylabel='count'>"
            ]
          },
          "metadata": {},
          "execution_count": 38
        },
        {
          "output_type": "display_data",
          "data": {
            "text/plain": [
              "<Figure size 700x500 with 1 Axes>"
            ],
            "image/png": "[encoded data removed]"
          },
          "metadata": {}
        }
      ]
    },
    {
      "cell_type": "code",
      "source": [
        "#Preprocessing\n",
        "from sklearn.compose import ColumnTransformer\n",
        "from sklearn.preprocessing import StandardScaler\n",
        "from sklearn.preprocessing import OneHotEncoder\n",
        "from sklearn.preprocessing import OrdinalEncoder\n",
        "from sklearn.impute import SimpleImputer"
      ],
      "metadata": {
        "id": "8SgQhqIUtJEU"
      },
      "execution_count": null,
      "outputs": []
    },
    {
      "cell_type": "markdown",
      "source": [
        "Label Encoder and One Hot Encoder.used to convert categorical data, or text data, into numbers, which our predictive models can better understand."
      ],
      "metadata": {
        "id": "PrVHXGz-a8WS"
      }
    },
    {
      "cell_type": "code",
      "source": [
        "#labelling\n",
        "X = df.drop('y',axis=1)\n",
        "Y = df['y']\n",
        "print(X.shape)\n",
        "print(Y.shape)"
      ],
      "metadata": {
        "colab": {
          "base_uri": "https://localhost:8080/"
        },
        "id": "5LIEJDhXv15r",
        "outputId": "37d85e4b-e8b4-4888-daec-7bb25f8bcaca"
      },
      "execution_count": null,
      "outputs": [
        {
          "output_type": "stream",
          "name": "stdout",
          "text": [
            "(41188, 20)\n",
            "(41188,)\n"
          ]
        }
      ]
    },
    {
      "cell_type": "code",
      "source": [
        "Y.unique()"
      ],
      "metadata": {
        "colab": {
          "base_uri": "https://localhost:8080/"
        },
        "id": "yDZKKMzn1Evt",
        "outputId": "aabb8961-bce0-4ad8-bd87-a9a78790dc9c"
      },
      "execution_count": null,
      "outputs": [
        {
          "output_type": "execute_result",
          "data": {
            "text/plain": [
              "array([0, 1])"
            ]
          },
          "metadata": {},
          "execution_count": 44
        }
      ]
    },
    {
      "cell_type": "code",
      "source": [
        "#transforming data\n",
        "#this is education unique values\n",
        "ed = ['tertiary','secondary','primary','unknown']"
      ],
      "metadata": {
        "id": "0Cns96IV4V-G"
      },
      "execution_count": null,
      "outputs": []
    },
    {
      "cell_type": "code",
      "source": [
        "#the first features that are transform by using StandardScalar this is standardization i.e mean =0 and std = 1 used in numeric value\n",
        "#the second feature that is transform is education where we changed categorical to numeric using ordinalencoder\n",
        "#onehotencoder is used derived the categories based on the unique values in each feature\n",
        "transforming = ColumnTransformer(transformers=[('t1',StandardScaler(),['age','balance','day','duration','campaign','pdays','previous']),\n",
        "                                               ('t2',OrdinalEncoder(categories=[ed]),['education']),\n",
        "                                               ('t3',OneHotEncoder(),['job','marital','default','housing','loan','contact','month','poutcome'])],\n",
        "                                 remainder ='passthrough')\n",
        "#remainder is use to fit unspecified columns in transformer"
      ],
      "metadata": {
        "id": "k3lDmMhr1KqW"
      },
      "execution_count": null,
      "outputs": []
    },
    {
      "cell_type": "markdown",
      "source": [
        "scale the data, this will being all our features to the same scale, this helps ensure attributes with larger values do not over influence the model. The StandardScaler in sklearn essentially computes the z score of each feature which ensures each feature in the dataset has a mean of 0 and variance of 1."
      ],
      "metadata": {
        "id": "k3lomtm7pGqT"
      }
    },
    {
      "cell_type": "code",
      "source": [
        "def transform(df):\n",
        "  tranform_f = np.array(transforming.fit_transform(df),dtype=np.str)\n",
        "  return tranform_f"
      ],
      "metadata": {
        "id": "TOuS43zT3zvw"
      },
      "execution_count": null,
      "outputs": []
    },
    {
      "cell_type": "code",
      "source": [
        "tran_X = transform(X)"
      ],
      "metadata": {
        "colab": {
          "base_uri": "https://localhost:8080/"
        },
        "id": "cWqKPTb04kLz",
        "outputId": "ee2bbf47-e6f2-48a8-fe42-d5199bc7fa02"
      },
      "execution_count": null,
      "outputs": [
        {
          "output_type": "stream",
          "name": "stderr",
          "text": [
            "<ipython-input-181-2d27cb6335c0>:2: DeprecationWarning: `np.str` is a deprecated alias for the builtin `str`. To silence this warning, use `str` by itself. Doing this will not modify any behavior and is safe. If you specifically wanted the numpy scalar type, use `np.str_` here.\n",
            "Deprecated in NumPy 1.20; for more details and guidance: https://numpy.org/devdocs/release/1.20.0-notes.html#deprecations\n",
            "  tranform_f = np.array(transforming.fit_transform(df),dtype=np.str)\n"
          ]
        }
      ]
    },
    {
      "cell_type": "code",
      "source": [
        "tran_X.shape\n",
        "tran_X"
      ],
      "metadata": {
        "colab": {
          "base_uri": "https://localhost:8080/"
        },
        "id": "jhVGWi1R4z19",
        "outputId": "b1e2ceae-4121-4a2c-e8de-4a52cadbb2bc"
      },
      "execution_count": null,
      "outputs": [
        {
          "output_type": "execute_result",
          "data": {
            "text/plain": [
              "array([['-1.0562696524273598', '0.12107185807539463',\n",
              "        '0.3740520633526504', ..., '0.0', '0.0', '1.0'],\n",
              "       ['-0.7725828148853345', '1.1186442967405494',\n",
              "        '-0.5960264557452027', ..., '0.0', '0.0', '0.0'],\n",
              "       ['-0.5834582565239843', '-0.024144382996115262',\n",
              "        '0.010272618690955485', ..., '0.0', '0.0', '0.0'],\n",
              "       ...,\n",
              "       ['1.4969118854508683', '-0.37472363775685424',\n",
              "        '0.3740520633526504', ..., '0.0', '0.0', '1.0'],\n",
              "       ['-1.2453942107887102', '-0.09492483917055829',\n",
              "        '-1.202325530181361', ..., '1.0', '0.0', '0.0'],\n",
              "       ['0.26760225610209176', '-0.09525714178170591',\n",
              "        '-1.5661049748430558', ..., '1.0', '0.0', '0.0']], dtype='<U32')"
            ]
          },
          "metadata": {},
          "execution_count": 183
        }
      ]
    },
    {
      "cell_type": "code",
      "source": [
        "tran_X = np.array(tran_X,dtype=float)\n",
        "tran_X"
      ],
      "metadata": {
        "colab": {
          "base_uri": "https://localhost:8080/"
        },
        "id": "bx_zDWDO5EsF",
        "outputId": "840b7493-1a0a-405f-fe15-1b2ac84c0e80"
      },
      "execution_count": null,
      "outputs": [
        {
          "output_type": "execute_result",
          "data": {
            "text/plain": [
              "array([[-1.05626965,  0.12107186,  0.37405206, ...,  0.        ,\n",
              "         0.        ,  1.        ],\n",
              "       [-0.77258281,  1.1186443 , -0.59602646, ...,  0.        ,\n",
              "         0.        ,  0.        ],\n",
              "       [-0.58345826, -0.02414438,  0.01027262, ...,  0.        ,\n",
              "         0.        ,  0.        ],\n",
              "       ...,\n",
              "       [ 1.49691189, -0.37472364,  0.37405206, ...,  0.        ,\n",
              "         0.        ,  1.        ],\n",
              "       [-1.24539421, -0.09492484, -1.20232553, ...,  1.        ,\n",
              "         0.        ,  0.        ],\n",
              "       [ 0.26760226, -0.09525714, -1.56610497, ...,  1.        ,\n",
              "         0.        ,  0.        ]])"
            ]
          },
          "metadata": {},
          "execution_count": 184
        }
      ]
    },
    {
      "cell_type": "code",
      "source": [
        "pd.DataFrame(tran_X)"
      ],
      "metadata": {
        "colab": {
          "base_uri": "https://localhost:8080/",
          "height": 423
        },
        "id": "Nguajo3H5NzR",
        "outputId": "48167bbe-2b54-4a86-a47f-384b6c52aca5"
      },
      "execution_count": null,
      "outputs": [
        {
          "output_type": "execute_result",
          "data": {
            "text/plain": [
              "            0         1         2         3         4         5         6   \\\n",
              "0    -1.056270  0.121072  0.374052 -0.711861 -0.576829 -0.407218 -0.320413   \n",
              "1    -0.772583  1.118644 -0.596026 -0.169194 -0.576829  2.989044  2.041734   \n",
              "2    -0.583458 -0.024144  0.010273 -0.303898 -0.576829  2.899143  0.270124   \n",
              "3    -1.056270  0.017726 -1.566105 -0.250017  0.387967 -0.407218 -0.320413   \n",
              "4     1.686036 -0.472753 -1.323585 -0.146102 -0.576829 -0.407218 -0.320413   \n",
              "...        ...       ...       ...       ...       ...       ...       ...   \n",
              "4516 -0.772583 -0.583410  1.707910  0.250315  0.709566 -0.407218 -0.320413   \n",
              "4517  1.496912 -1.573671 -0.838546 -0.427057 -0.576829 -0.407218 -0.320413   \n",
              "4518  1.496912 -0.374724  0.374052 -0.434754  2.639160 -0.407218 -0.320413   \n",
              "4519 -1.245394 -0.094925 -1.202326 -0.519426  0.387967  1.710451  1.451197   \n",
              "4520  0.267602 -0.095257 -1.566105  0.311894 -0.255231  2.090033  3.813344   \n",
              "\n",
              "       7    8    9   ...   38   39   40   41   42   43   44   45   46   47  \n",
              "0     2.0  0.0  0.0  ...  0.0  0.0  0.0  0.0  1.0  0.0  0.0  0.0  0.0  1.0  \n",
              "1     1.0  0.0  0.0  ...  0.0  0.0  1.0  0.0  0.0  0.0  1.0  0.0  0.0  0.0  \n",
              "2     0.0  0.0  0.0  ...  0.0  0.0  0.0  0.0  0.0  0.0  1.0  0.0  0.0  0.0  \n",
              "3     0.0  0.0  0.0  ...  1.0  0.0  0.0  0.0  0.0  0.0  0.0  0.0  0.0  1.0  \n",
              "4     1.0  0.0  1.0  ...  0.0  0.0  1.0  0.0  0.0  0.0  0.0  0.0  0.0  1.0  \n",
              "...   ...  ...  ...  ...  ...  ...  ...  ...  ...  ...  ...  ...  ...  ...  \n",
              "4516  1.0  0.0  0.0  ...  0.0  0.0  0.0  0.0  0.0  0.0  0.0  0.0  0.0  1.0  \n",
              "4517  0.0  0.0  0.0  ...  0.0  0.0  1.0  0.0  0.0  0.0  0.0  0.0  0.0  1.0  \n",
              "4518  1.0  0.0  0.0  ...  0.0  0.0  0.0  0.0  0.0  0.0  0.0  0.0  0.0  1.0  \n",
              "4519  1.0  0.0  1.0  ...  0.0  0.0  0.0  0.0  0.0  0.0  0.0  1.0  0.0  0.0  \n",
              "4520  0.0  0.0  0.0  ...  0.0  0.0  0.0  0.0  0.0  0.0  0.0  1.0  0.0  0.0  \n",
              "\n",
              "[4521 rows x 48 columns]"
            ],
            "text/html": [
              "\n",
              "  <div id=\"df-8c3e3616-7a0e-4a52-9404-c8d1f5534b3d\">\n",
              "    <div class=\"colab-df-container\">\n",
              "      <div>\n",
              "<style scoped>\n",
              "    .dataframe tbody tr th:only-of-type {\n",
              "        vertical-align: middle;\n",
              "    }\n",
              "\n",
              "    .dataframe tbody tr th {\n",
              "        vertical-align: top;\n",
              "    }\n",
              "\n",
              "    .dataframe thead th {\n",
              "        text-align: right;\n",
              "    }\n",
              "</style>\n",
              "<table border=\"1\" class=\"dataframe\">\n",
              "  <thead>\n",
              "    <tr style=\"text-align: right;\">\n",
              "      <th></th>\n",
              "      <th>0</th>\n",
              "      <th>1</th>\n",
              "      <th>2</th>\n",
              "      <th>3</th>\n",
              "      <th>4</th>\n",
              "      <th>5</th>\n",
              "      <th>6</th>\n",
              "      <th>7</th>\n",
              "      <th>8</th>\n",
              "      <th>9</th>\n",
              "      <th>...</th>\n",
              "      <th>38</th>\n",
              "      <th>39</th>\n",
              "      <th>40</th>\n",
              "      <th>41</th>\n",
              "      <th>42</th>\n",
              "      <th>43</th>\n",
              "      <th>44</th>\n",
              "      <th>45</th>\n",
              "      <th>46</th>\n",
              "      <th>47</th>\n",
              "    </tr>\n",
              "  </thead>\n",
              "  <tbody>\n",
              "    <tr>\n",
              "      <th>0</th>\n",
              "      <td>-1.056270</td>\n",
              "      <td>0.121072</td>\n",
              "      <td>0.374052</td>\n",
              "      <td>-0.711861</td>\n",
              "      <td>-0.576829</td>\n",
              "      <td>-0.407218</td>\n",
              "      <td>-0.320413</td>\n",
              "      <td>2.0</td>\n",
              "      <td>0.0</td>\n",
              "      <td>0.0</td>\n",
              "      <td>...</td>\n",
              "      <td>0.0</td>\n",
              "      <td>0.0</td>\n",
              "      <td>0.0</td>\n",
              "      <td>0.0</td>\n",
              "      <td>1.0</td>\n",
              "      <td>0.0</td>\n",
              "      <td>0.0</td>\n",
              "      <td>0.0</td>\n",
              "      <td>0.0</td>\n",
              "      <td>1.0</td>\n",
              "    </tr>\n",
              "    <tr>\n",
              "      <th>1</th>\n",
              "      <td>-0.772583</td>\n",
              "      <td>1.118644</td>\n",
              "      <td>-0.596026</td>\n",
              "      <td>-0.169194</td>\n",
              "      <td>-0.576829</td>\n",
              "      <td>2.989044</td>\n",
              "      <td>2.041734</td>\n",
              "      <td>1.0</td>\n",
              "      <td>0.0</td>\n",
              "      <td>0.0</td>\n",
              "      <td>...</td>\n",
              "      <td>0.0</td>\n",
              "      <td>0.0</td>\n",
              "      <td>1.0</td>\n",
              "      <td>0.0</td>\n",
              "      <td>0.0</td>\n",
              "      <td>0.0</td>\n",
              "      <td>1.0</td>\n",
              "      <td>0.0</td>\n",
              "      <td>0.0</td>\n",
              "      <td>0.0</td>\n",
              "    </tr>\n",
              "    <tr>\n",
              "      <th>2</th>\n",
              "      <td>-0.583458</td>\n",
              "      <td>-0.024144</td>\n",
              "      <td>0.010273</td>\n",
              "      <td>-0.303898</td>\n",
              "      <td>-0.576829</td>\n",
              "      <td>2.899143</td>\n",
              "      <td>0.270124</td>\n",
              "      <td>0.0</td>\n",
              "      <td>0.0</td>\n",
              "      <td>0.0</td>\n",
              "      <td>...</td>\n",
              "      <td>0.0</td>\n",
              "      <td>0.0</td>\n",
              "      <td>0.0</td>\n",
              "      <td>0.0</td>\n",
              "      <td>0.0</td>\n",
              "      <td>0.0</td>\n",
              "      <td>1.0</td>\n",
              "      <td>0.0</td>\n",
              "      <td>0.0</td>\n",
              "      <td>0.0</td>\n",
              "    </tr>\n",
              "    <tr>\n",
              "      <th>3</th>\n",
              "      <td>-1.056270</td>\n",
              "      <td>0.017726</td>\n",
              "      <td>-1.566105</td>\n",
              "      <td>-0.250017</td>\n",
              "      <td>0.387967</td>\n",
              "      <td>-0.407218</td>\n",
              "      <td>-0.320413</td>\n",
              "      <td>0.0</td>\n",
              "      <td>0.0</td>\n",
              "      <td>0.0</td>\n",
              "      <td>...</td>\n",
              "      <td>1.0</td>\n",
              "      <td>0.0</td>\n",
              "      <td>0.0</td>\n",
              "      <td>0.0</td>\n",
              "      <td>0.0</td>\n",
              "      <td>0.0</td>\n",
              "      <td>0.0</td>\n",
              "      <td>0.0</td>\n",
              "      <td>0.0</td>\n",
              "      <td>1.0</td>\n",
              "    </tr>\n",
              "    <tr>\n",
              "      <th>4</th>\n",
              "      <td>1.686036</td>\n",
              "      <td>-0.472753</td>\n",
              "      <td>-1.323585</td>\n",
              "      <td>-0.146102</td>\n",
              "      <td>-0.576829</td>\n",
              "      <td>-0.407218</td>\n",
              "      <td>-0.320413</td>\n",
              "      <td>1.0</td>\n",
              "      <td>0.0</td>\n",
              "      <td>1.0</td>\n",
              "      <td>...</td>\n",
              "      <td>0.0</td>\n",
              "      <td>0.0</td>\n",
              "      <td>1.0</td>\n",
              "      <td>0.0</td>\n",
              "      <td>0.0</td>\n",
              "      <td>0.0</td>\n",
              "      <td>0.0</td>\n",
              "      <td>0.0</td>\n",
              "      <td>0.0</td>\n",
              "      <td>1.0</td>\n",
              "    </tr>\n",
              "    <tr>\n",
              "      <th>...</th>\n",
              "      <td>...</td>\n",
              "      <td>...</td>\n",
              "      <td>...</td>\n",
              "      <td>...</td>\n",
              "      <td>...</td>\n",
              "      <td>...</td>\n",
              "      <td>...</td>\n",
              "      <td>...</td>\n",
              "      <td>...</td>\n",
              "      <td>...</td>\n",
              "      <td>...</td>\n",
              "      <td>...</td>\n",
              "      <td>...</td>\n",
              "      <td>...</td>\n",
              "      <td>...</td>\n",
              "      <td>...</td>\n",
              "      <td>...</td>\n",
              "      <td>...</td>\n",
              "      <td>...</td>\n",
              "      <td>...</td>\n",
              "      <td>...</td>\n",
              "    </tr>\n",
              "    <tr>\n",
              "      <th>4516</th>\n",
              "      <td>-0.772583</td>\n",
              "      <td>-0.583410</td>\n",
              "      <td>1.707910</td>\n",
              "      <td>0.250315</td>\n",
              "      <td>0.709566</td>\n",
              "      <td>-0.407218</td>\n",
              "      <td>-0.320413</td>\n",
              "      <td>1.0</td>\n",
              "      <td>0.0</td>\n",
              "      <td>0.0</td>\n",
              "      <td>...</td>\n",
              "      <td>0.0</td>\n",
              "      <td>0.0</td>\n",
              "      <td>0.0</td>\n",
              "      <td>0.0</td>\n",
              "      <td>0.0</td>\n",
              "      <td>0.0</td>\n",
              "      <td>0.0</td>\n",
              "      <td>0.0</td>\n",
              "      <td>0.0</td>\n",
              "      <td>1.0</td>\n",
              "    </tr>\n",
              "    <tr>\n",
              "      <th>4517</th>\n",
              "      <td>1.496912</td>\n",
              "      <td>-1.573671</td>\n",
              "      <td>-0.838546</td>\n",
              "      <td>-0.427057</td>\n",
              "      <td>-0.576829</td>\n",
              "      <td>-0.407218</td>\n",
              "      <td>-0.320413</td>\n",
              "      <td>0.0</td>\n",
              "      <td>0.0</td>\n",
              "      <td>0.0</td>\n",
              "      <td>...</td>\n",
              "      <td>0.0</td>\n",
              "      <td>0.0</td>\n",
              "      <td>1.0</td>\n",
              "      <td>0.0</td>\n",
              "      <td>0.0</td>\n",
              "      <td>0.0</td>\n",
              "      <td>0.0</td>\n",
              "      <td>0.0</td>\n",
              "      <td>0.0</td>\n",
              "      <td>1.0</td>\n",
              "    </tr>\n",
              "    <tr>\n",
              "      <th>4518</th>\n",
              "      <td>1.496912</td>\n",
              "      <td>-0.374724</td>\n",
              "      <td>0.374052</td>\n",
              "      <td>-0.434754</td>\n",
              "      <td>2.639160</td>\n",
              "      <td>-0.407218</td>\n",
              "      <td>-0.320413</td>\n",
              "      <td>1.0</td>\n",
              "      <td>0.0</td>\n",
              "      <td>0.0</td>\n",
              "      <td>...</td>\n",
              "      <td>0.0</td>\n",
              "      <td>0.0</td>\n",
              "      <td>0.0</td>\n",
              "      <td>0.0</td>\n",
              "      <td>0.0</td>\n",
              "      <td>0.0</td>\n",
              "      <td>0.0</td>\n",
              "      <td>0.0</td>\n",
              "      <td>0.0</td>\n",
              "      <td>1.0</td>\n",
              "    </tr>\n",
              "    <tr>\n",
              "      <th>4519</th>\n",
              "      <td>-1.245394</td>\n",
              "      <td>-0.094925</td>\n",
              "      <td>-1.202326</td>\n",
              "      <td>-0.519426</td>\n",
              "      <td>0.387967</td>\n",
              "      <td>1.710451</td>\n",
              "      <td>1.451197</td>\n",
              "      <td>1.0</td>\n",
              "      <td>0.0</td>\n",
              "      <td>1.0</td>\n",
              "      <td>...</td>\n",
              "      <td>0.0</td>\n",
              "      <td>0.0</td>\n",
              "      <td>0.0</td>\n",
              "      <td>0.0</td>\n",
              "      <td>0.0</td>\n",
              "      <td>0.0</td>\n",
              "      <td>0.0</td>\n",
              "      <td>1.0</td>\n",
              "      <td>0.0</td>\n",
              "      <td>0.0</td>\n",
              "    </tr>\n",
              "    <tr>\n",
              "      <th>4520</th>\n",
              "      <td>0.267602</td>\n",
              "      <td>-0.095257</td>\n",
              "      <td>-1.566105</td>\n",
              "      <td>0.311894</td>\n",
              "      <td>-0.255231</td>\n",
              "      <td>2.090033</td>\n",
              "      <td>3.813344</td>\n",
              "      <td>0.0</td>\n",
              "      <td>0.0</td>\n",
              "      <td>0.0</td>\n",
              "      <td>...</td>\n",
              "      <td>0.0</td>\n",
              "      <td>0.0</td>\n",
              "      <td>0.0</td>\n",
              "      <td>0.0</td>\n",
              "      <td>0.0</td>\n",
              "      <td>0.0</td>\n",
              "      <td>0.0</td>\n",
              "      <td>1.0</td>\n",
              "      <td>0.0</td>\n",
              "      <td>0.0</td>\n",
              "    </tr>\n",
              "  </tbody>\n",
              "</table>\n",
              "<p>4521 rows × 48 columns</p>\n",
              "</div>\n",
              "      <button class=\"colab-df-convert\" onclick=\"convertToInteractive('df-8c3e3616-7a0e-4a52-9404-c8d1f5534b3d')\"\n",
              "              title=\"Convert this dataframe to an interactive table.\"\n",
              "              style=\"display:none;\">\n",
              "        \n",
              "  <svg xmlns=\"http://www.w3.org/2000/svg\" height=\"24px\"viewBox=\"0 0 24 24\"\n",
              "       width=\"24px\">\n",
              "    <path d=\"M0 0h24v24H0V0z\" fill=\"none\"/>\n",
              "    <path d=\"M18.56 5.44l.94 2.06.94-2.06 2.06-.94-2.06-.94-.94-2.06-.94 2.06-2.06.94zm-11 1L8.5 8.5l.94-2.06 2.06-.94-2.06-.94L8.5 2.5l-.94 2.06-2.06.94zm10 10l.94 2.06.94-2.06 2.06-.94-2.06-.94-.94-2.06-.94 2.06-2.06.94z\"/><path d=\"M17.41 7.96l-1.37-1.37c-.4-.4-.92-.59-1.43-.59-.52 0-1.04.2-1.43.59L10.3 9.45l-7.72 7.72c-.78.78-.78 2.05 0 2.83L4 21.41c.39.39.9.59 1.41.59.51 0 1.02-.2 1.41-.59l7.78-7.78 2.81-2.81c.8-.78.8-2.07 0-2.86zM5.41 20L4 18.59l7.72-7.72 1.47 1.35L5.41 20z\"/>\n",
              "  </svg>\n",
              "      </button>\n",
              "      \n",
              "  <style>\n",
              "    .colab-df-container {\n",
              "      display:flex;\n",
              "      flex-wrap:wrap;\n",
              "      gap: 12px;\n",
              "    }\n",
              "\n",
              "    .colab-df-convert {\n",
              "      background-color: #E8F0FE;\n",
              "      border: none;\n",
              "      border-radius: 50%;\n",
              "      cursor: pointer;\n",
              "      display: none;\n",
              "      fill: #1967D2;\n",
              "      height: 32px;\n",
              "      padding: 0 0 0 0;\n",
              "      width: 32px;\n",
              "    }\n",
              "\n",
              "    .colab-df-convert:hover {\n",
              "      background-color: #E2EBFA;\n",
              "      box-shadow: 0px 1px 2px rgba(60, 64, 67, 0.3), 0px 1px 3px 1px rgba(60, 64, 67, 0.15);\n",
              "      fill: #174EA6;\n",
              "    }\n",
              "\n",
              "    [theme=dark] .colab-df-convert {\n",
              "      background-color: #3B4455;\n",
              "      fill: #D2E3FC;\n",
              "    }\n",
              "\n",
              "    [theme=dark] .colab-df-convert:hover {\n",
              "      background-color: #434B5C;\n",
              "      box-shadow: 0px 1px 3px 1px rgba(0, 0, 0, 0.15);\n",
              "      filter: drop-shadow(0px 1px 2px rgba(0, 0, 0, 0.3));\n",
              "      fill: #FFFFFF;\n",
              "    }\n",
              "  </style>\n",
              "\n",
              "      <script>\n",
              "        const buttonEl =\n",
              "          document.querySelector('#df-8c3e3616-7a0e-4a52-9404-c8d1f5534b3d button.colab-df-convert');\n",
              "        buttonEl.style.display =\n",
              "          google.colab.kernel.accessAllowed ? 'block' : 'none';\n",
              "\n",
              "        async function convertToInteractive(key) {\n",
              "          const element = document.querySelector('#df-8c3e3616-7a0e-4a52-9404-c8d1f5534b3d');\n",
              "          const dataTable =\n",
              "            await google.colab.kernel.invokeFunction('convertToInteractive',\n",
              "                                                     [key], {});\n",
              "          if (!dataTable) return;\n",
              "\n",
              "          const docLinkHtml = 'Like what you see? Visit the ' +\n",
              "            '<a target=\"_blank\" href=https://colab.research.google.com/notebooks/data_table.ipynb>data table notebook</a>'\n",
              "            + ' to learn more about interactive tables.';\n",
              "          element.innerHTML = '';\n",
              "          dataTable['output_type'] = 'display_data';\n",
              "          await google.colab.output.renderOutput(dataTable, element);\n",
              "          const docLink = document.createElement('div');\n",
              "          docLink.innerHTML = docLinkHtml;\n",
              "          element.appendChild(docLink);\n",
              "        }\n",
              "      </script>\n",
              "    </div>\n",
              "  </div>\n",
              "  "
            ]
          },
          "metadata": {},
          "execution_count": 185
        }
      ]
    },
    {
      "cell_type": "code",
      "source": [
        "#as we have too many features we have to select some\n",
        "from sklearn.feature_selection import RFE\n",
        "from sklearn.ensemble import RandomForestClassifier"
      ],
      "metadata": {
        "id": "Efzc-1785W4w"
      },
      "execution_count": null,
      "outputs": []
    },
    {
      "cell_type": "markdown",
      "source": [
        "Random forest is a supervised learning method, meaning there are labels for and mappings between our input and outputs.Once all the trees have come to a conclusion, the random forest will count which class (species) had the most populous vote and this class will be what the random forest outputs as a prediction. In the case of regression, instead of determining the most populous vote the random forest will average the results of each decision tree.\n",
        "Because random forests utilize the results of multiple learners (decisions trees), random forests are a type of ensemble machine learning algorithm. Ensemble learning methods reduce variance and improve performance over their constituent learning models."
      ],
      "metadata": {
        "id": "S4SvAk4YcfeZ"
      }
    },
    {
      "cell_type": "markdown",
      "source": [
        " The decision tree determines where to split the features based on a purity measure that measures information gain. In the case of classification it makes that decision based on the Gini index or entropy and in the case of regression, the residual sum of squares."
      ],
      "metadata": {
        "id": "eRUeMX69nQcX"
      }
    },
    {
      "cell_type": "code",
      "source": [
        "#Fits the tree classifier on subsamples of datasets, selecting the feature and fitting the data\n",
        "estimation = RandomForestClassifier(random_state=1)\n",
        "selection = RFE(estimation, step=1)\n",
        "selector = selection.fit(tran_X, Y)"
      ],
      "metadata": {
        "id": "LGNGk-lr5bpX"
      },
      "execution_count": null,
      "outputs": []
    },
    {
      "cell_type": "code",
      "source": [
        "#New X is form after selecting the feeature that transforms the tranformed X and its shape\n",
        "X_new= selector.transform(tran_X)\n",
        "X_new.shape"
      ],
      "metadata": {
        "colab": {
          "base_uri": "https://localhost:8080/"
        },
        "id": "t8h7u1Gw5p3w",
        "outputId": "c59951c2-44a8-43ee-b4bb-c073b16f3c45"
      },
      "execution_count": null,
      "outputs": [
        {
          "output_type": "execute_result",
          "data": {
            "text/plain": [
              "(4521, 24)"
            ]
          },
          "metadata": {},
          "execution_count": 188
        }
      ]
    },
    {
      "cell_type": "code",
      "source": [
        "#Y count\n",
        "Y.value_counts()\n",
        "#aving a balanced data set for a model would generate higher accuracy models"
      ],
      "metadata": {
        "colab": {
          "base_uri": "https://localhost:8080/"
        },
        "id": "PK9_WOOT5uuA",
        "outputId": "8c88dd4a-b46a-45b4-ade2-3e4d3a1c1f7b"
      },
      "execution_count": null,
      "outputs": [
        {
          "output_type": "execute_result",
          "data": {
            "text/plain": [
              "no     4000\n",
              "yes     521\n",
              "Name: y, dtype: int64"
            ]
          },
          "metadata": {},
          "execution_count": 189
        }
      ]
    },
    {
      "cell_type": "code",
      "source": [
        "#as we could see the data of Y is very much imbalance we need to balance the data so we using imblearn\n",
        "from imblearn.combine import SMOTETomek\n",
        "smt = SMOTETomek(random_state = 42)\n",
        "X1, Y1 = smt.fit_resample(X_new,Y)\n",
        "#for minority balancing\n",
        "from imblearn.under_sampling import NearMiss\n",
        "nm = NearMiss()\n",
        "x_nm, y_nm = nm.fit_resample(X_new, Y)"
      ],
      "metadata": {
        "id": "VSHh3drB52Nf"
      },
      "execution_count": null,
      "outputs": []
    },
    {
      "cell_type": "code",
      "source": [
        "y_nm.value_counts()"
      ],
      "metadata": {
        "colab": {
          "base_uri": "https://localhost:8080/"
        },
        "id": "Z9URjAxin7MN",
        "outputId": "4ac185c1-7812-437b-9d61-85a31b31309d"
      },
      "execution_count": null,
      "outputs": [
        {
          "output_type": "execute_result",
          "data": {
            "text/plain": [
              "no     521\n",
              "yes    521\n",
              "Name: y, dtype: int64"
            ]
          },
          "metadata": {},
          "execution_count": 191
        }
      ]
    },
    {
      "cell_type": "code",
      "source": [
        "Y1.value_counts()"
      ],
      "metadata": {
        "colab": {
          "base_uri": "https://localhost:8080/"
        },
        "id": "kW0zX3d86Pt-",
        "outputId": "5898f9b9-01b5-4dd5-9b96-e83a5e66302b"
      },
      "execution_count": null,
      "outputs": [
        {
          "output_type": "execute_result",
          "data": {
            "text/plain": [
              "no     3997\n",
              "yes    3997\n",
              "Name: y, dtype: int64"
            ]
          },
          "metadata": {},
          "execution_count": 192
        }
      ]
    },
    {
      "cell_type": "code",
      "source": [
        "X1.shape"
      ],
      "metadata": {
        "colab": {
          "base_uri": "https://localhost:8080/"
        },
        "id": "8D_B8T-W6XI4",
        "outputId": "8d08b099-5db4-4704-9e12-d005f36ad5ac"
      },
      "execution_count": null,
      "outputs": [
        {
          "output_type": "execute_result",
          "data": {
            "text/plain": [
              "(7994, 24)"
            ]
          },
          "metadata": {},
          "execution_count": 193
        }
      ]
    },
    {
      "cell_type": "code",
      "source": [
        "#splitting of data into train and test and validating them using StratifiedKfold method\n",
        "from sklearn.model_selection import train_test_split\n",
        "X_train, X_test, y_train, y_test = train_test_split(X1, Y1,test_size=0.3, random_state=42)"
      ],
      "metadata": {
        "id": "05dOdK5B6arm"
      },
      "execution_count": null,
      "outputs": []
    },
    {
      "cell_type": "code",
      "source": [
        "#required model libraries\n",
        "from sklearn.model_selection import cross_val_score\n",
        "from sklearn.naive_bayes import GaussianNB\n",
        "from sklearn.linear_model import LogisticRegression\n",
        "from sklearn import tree\n",
        "from sklearn.neighbors import KNeighborsClassifier\n",
        "from sklearn.ensemble import RandomForestClassifier\n",
        "from sklearn.svm import SVC\n",
        "from sklearn.tree import DecisionTreeClassifier\n",
        "from sklearn.linear_model import RidgeClassifier\n",
        "from sklearn.linear_model import Perceptron\n",
        "from sklearn.neural_network import MLPClassifier\n",
        "from sklearn.ensemble import VotingClassifier"
      ],
      "metadata": {
        "id": "2PhoPjZk6gD_"
      },
      "execution_count": null,
      "outputs": []
    },
    {
      "cell_type": "markdown",
      "source": [
        "**from sklearn.model_selection import cross_val_score**: What is the difference between Cross_val_score and KFold?\n",
        "cross_val_score is a function which evaluates a data and returns the score. On the other hand, KFold is a class, which lets you to split your data to K folds.\n",
        "The cross_val_score calculates the R squared metric for the applied model. R squared error close to 1 implies a better fit and less error.\n",
        "Cross_val_score is a method which runs cross validation on a dataset to test whether the model can generalise over the whole dataset. The function returns a list of one score per split, and the average of these scores can be calculated to provide a single metric value for the dataset."
      ],
      "metadata": {
        "id": "_gxCHyg0m2wA"
      }
    },
    {
      "cell_type": "markdown",
      "source": [
        "**from sklearn.naive_bayes import GaussianNB:** probabilistic approach and Gaussian distribution. Why is Naive Bayes called naive?\n",
        "Naive Bayes is called naive because it assumes that each input variable is independent.Gaussian Distribution is also called Normal Distribution. The normal distribution is a statistical model that describes the statistical distributions of continuous random variables in nature.\n",
        "Bayes' Theorem states that the conditional probability of an event, based on the occurrence of another event, is equal to the likelihood of the second event given the first event multiplied by the probability of the first event."
      ],
      "metadata": {
        "id": "iJ4zNFWGrAhT"
      }
    },
    {
      "cell_type": "markdown",
      "source": [
        "**LogisticRegression**: Logistic regression is a statistical analysis method to predict a binary\n",
        "outcome, such as yes or no, based on prior observations of a data set.\n",
        "• A logistic regression model predicts a dependent data variable by\n",
        "analyzing the relationship between one or more existing independent\n",
        "variables.\n",
        "Logistic regression can also estimate the probabilities of events, including\n",
        "determining a relationship between features and the probabilities of\n",
        "outcomes.\n",
        "• That is, it can be used for classification by creating a model that correlates\n",
        "the hours studied with the likelihood the student passes or fails.\n",
        "• The same model could be used for predicting whether a particular student\n",
        "will pass or fail when the number of hours studied is provided as a feature\n",
        "and the variable for the response has two values: pass and fail.\n",
        "Odds, describes the ratio of success to ratio of failure."
      ],
      "metadata": {
        "id": "1F9wUthAv97e"
      }
    },
    {
      "cell_type": "markdown",
      "source": [
        "**tree**; A decision tree is a flowchart-like tree structure where an internal node represents a feature(or attribute), the branch represents a decision rule, and each leaf node represents the outcome.\n",
        "**KNeighborsClassifier**:-NeighborsClassifier is a supervised learning algorithm that makes classifications based on data neighbors. When we have less scattered data and few outliers , KNeighborsClassifier shines.\n",
        "RandomForestClassifier\n",
        "**SVC**:works by mapping data points to a high-dimensional space and then finding the optimal hyperplane that divides the data into two classes\n",
        "**RidgeClassifier:-**ridge classification is a technique used to analyze linear discriminant models. It is a form of regularization that penalizes model coefficients to prevent overfitting. During prediction, if the predicted value is less than 0, it predicted class label is -1 otherwise the predicted class label is +1\n",
        "**Perceptron:**-Weight is directly proportional to the strength and Bias can be considered as the line of intercept in a linear equation.Neuralnetworkk\n",
        "**MLPClassifier:-**Multilayer perceptron uses backpropagation as a supervised learning technique. Since there are multiple layers of neurons, MLP is a deep learning technique. MLP is widely used for solving problems that require supervised learning as well as research into computational neuroscience and parallel distributed processing\n",
        "**VotingClassifier**:- A Voting Classifier is a machine learning model that trains on an ensemble of numerous models and predicts an output (class) based on their highest probability of chosen class as the output."
      ],
      "metadata": {
        "id": "8s4lwo_gzXr6"
      }
    },
    {
      "cell_type": "code",
      "source": [
        "#in this we are giving different sets of data on training models. We are using five fold cross validation\n",
        "#1 use for\n",
        "gnb = GaussianNB()\n",
        "cv = cross_val_score(gnb,X_train,y_train,cv=4)\n",
        "print(cv)\n",
        "print(cv.mean())\n",
        "print('----------------')\n",
        "lr = LogisticRegression(max_iter = 2000)\n",
        "cv = cross_val_score(lr,X_train,y_train,cv=4)\n",
        "print(cv)\n",
        "print(cv.mean())\n",
        "print('------------------')\n",
        "dt = tree.DecisionTreeClassifier(random_state = 1)\n",
        "cv = cross_val_score(dt,X_train,y_train,cv=4)\n",
        "print(cv)\n",
        "print(cv.mean())\n",
        "print('------------------')\n",
        "knn = KNeighborsClassifier()\n",
        "cv = cross_val_score(knn,X_train,y_train,cv=4)\n",
        "print(cv)\n",
        "print(cv.mean())\n",
        "print('-------------------')\n",
        "rf = RandomForestClassifier(random_state = 1)\n",
        "cv = cross_val_score(rf,X_train,y_train,cv=4)\n",
        "print(cv)\n",
        "print(cv.mean())\n",
        "print('------------------')\n",
        "svc = SVC(probability = True)\n",
        "cv = cross_val_score(svc,X_train,y_train,cv=4)\n",
        "print(cv)\n",
        "print(cv.mean())\n",
        "print('-------------------')\n",
        "#We use votingclassifer to pick the best fit\n",
        "voting_clf = VotingClassifier(estimators = [('lr',lr),('knn',knn),('rf',rf),('gnb',gnb),('svc',svc)], voting = 'soft')\n",
        "cv = cross_val_score(voting_clf,X_train,y_train,cv=4)\n",
        "print(cv)\n",
        "print(cv.mean())\n"
      ],
      "metadata": {
        "colab": {
          "base_uri": "https://localhost:8080/"
        },
        "id": "QhhfTMzH6jYE",
        "outputId": "e282afb2-ca72-4f0e-b1ad-6d80a54a55ba"
      },
      "execution_count": null,
      "outputs": [
        {
          "output_type": "stream",
          "name": "stdout",
          "text": [
            "[0.76411723 0.77841315 0.76697641 0.76108727]\n",
            "0.7676485145224312\n",
            "----------------\n",
            "[0.81915654 0.83488206 0.82273052 0.83690987]\n",
            "0.8284197480113018\n",
            "------------------\n",
            "[0.90922087 0.89563974 0.89278056 0.89771102]\n",
            "0.8988380470006677\n",
            "------------------\n",
            "[0.8849178  0.89635454 0.88849178 0.90844063]\n",
            "0.8945511866743157\n",
            "-------------------\n",
            "[0.95139385 0.94567548 0.95210865 0.94921316]\n",
            "0.9495977864834988\n",
            "------------------\n",
            "[0.88205861 0.88634739 0.87562545 0.89771102]\n",
            "0.8854356166933053\n",
            "-------------------\n",
            "[0.90922087 0.91065046 0.90850608 0.91773963]\n",
            "0.9115292601193782\n"
          ]
        }
      ]
    },
    {
      "cell_type": "code",
      "source": [
        "#the max percentage is 94 % of RandomForestClassifer so we selecting that model\n",
        "#max_features is set to 17 as we hv 17 features\n",
        "rf_best = RandomForestClassifier(bootstrap =False, criterion = 'entropy', max_depth = 50, max_features = 17,\n",
        "     min_samples_leaf =2, min_samples_split = 2, n_estimators = 568)#min no of values\n",
        "rf_best_fit = rf_best.fit(X_train,y_train)"
      ],
      "metadata": {
        "id": "qDEEVIf27t06"
      },
      "execution_count": null,
      "outputs": []
    },
    {
      "cell_type": "code",
      "source": [
        "#Results\n",
        "from sklearn.metrics import classification_report,roc_curve,ConfusionMatrixDisplay,roc_auc_score,confusion_matrix"
      ],
      "metadata": {
        "id": "TOUrR1tU74j9"
      },
      "execution_count": null,
      "outputs": []
    },
    {
      "cell_type": "markdown",
      "source": [],
      "metadata": {
        "id": "Fqe_OZNXHh17"
      }
    },
    {
      "cell_type": "code",
      "source": [
        "#Training set\n",
        "y_pred_train = rf_best_fit.predict(X_train)\n",
        "print(classification_report(y_train,y_pred_train))\n",
        "#since the f1 score is near to 1 we can say that in training set that is performing in best way\n",
        "#precision is tp/tp+fp and recall is tp/tp+fn\n",
        "#support is actual occurancce of datasets"
      ],
      "metadata": {
        "colab": {
          "base_uri": "https://localhost:8080/"
        },
        "id": "xxb-LAxZ78OI",
        "outputId": "caa99ec3-a89d-4bcd-d179-6b546bc34658"
      },
      "execution_count": null,
      "outputs": [
        {
          "output_type": "stream",
          "name": "stdout",
          "text": [
            "              precision    recall  f1-score   support\n",
            "\n",
            "          no       1.00      1.00      1.00      2801\n",
            "         yes       1.00      1.00      1.00      2794\n",
            "\n",
            "    accuracy                           1.00      5595\n",
            "   macro avg       1.00      1.00      1.00      5595\n",
            "weighted avg       1.00      1.00      1.00      5595\n",
            "\n"
          ]
        }
      ]
    },
    {
      "cell_type": "code",
      "source": [
        "confusion_matrix(y_train, y_pred_train)"
      ],
      "metadata": {
        "colab": {
          "base_uri": "https://localhost:8080/"
        },
        "id": "InJAym3vGven",
        "outputId": "e627c6c2-bd03-4ac0-cf38-1e94a89d79c7"
      },
      "execution_count": null,
      "outputs": [
        {
          "output_type": "execute_result",
          "data": {
            "text/plain": [
              "array([[2801,    0],\n",
              "       [   0, 2794]])"
            ]
          },
          "metadata": {},
          "execution_count": 246
        }
      ]
    },
    {
      "cell_type": "markdown",
      "source": [
        "2.A good matrix (model) will have large values across the diagonal\n",
        "and small values off the diagonal.\n",
        "Precision is defined as the ratio of correctly classified positive samples (True Positive) to a total number of classified positive samples (either correctly or incorrectly).\n",
        "The recall is calculated as the ratio between the numbers of Positive samples correctly classified as Positive to the total number of Positive samples."
      ],
      "metadata": {
        "id": "TNAsRoyIIHSA"
      }
    },
    {
      "cell_type": "code",
      "source": [
        "y_pred_prob = rf_best_fit.predict_proba(X_train)[:,1]\n",
        "t_fpr,t_tpr,thresholds = roc_curve(y_train,y_pred_prob,pos_label = 'yes')\n",
        "plt.plot([0,1],[0,1],'k--')\n",
        "plt.plot(t_fpr,t_tpr,label = 'RandomForestClassifier')\n",
        "plt.xlabel('False Positive Rate')\n",
        "plt.ylabel('True Positive Rate')\n",
        "plt.title('RandomForestClassifier ROC Curve')\n",
        "plt.show()"
      ],
      "metadata": {
        "colab": {
          "base_uri": "https://localhost:8080/",
          "height": 295
        },
        "id": "ApRngJSBCyK-",
        "outputId": "e702e4e6-7a83-4251-dea3-8937e94778b2"
      },
      "execution_count": null,
      "outputs": [
        {
          "output_type": "display_data",
          "data": {
            "text/plain": [
              "<Figure size 432x288 with 1 Axes>"
            ],
            "image/png": "[encoded data removed]"
          },
          "metadata": {}
        }
      ]
    },
    {
      "cell_type": "markdown",
      "source": [
        "roc-auc curve and score: AUC (Area Under The Curve) ROC (Receiver Operating Characteristics) curve\n",
        "ROC is a probability curve and AUC represents the degree or measure of separability. It tells how much the model is capable of distinguishing between classes. Higher the AUC, the better the model is at predicting 0 classes as 0 and 1 classes as 1\n",
        "Specificity:- TN/ TN+FP ...sENSITIVITY OR RECALL: TP/TP+FN ...\n",
        "PRECISION= TP/TP+FP ...FPR = 1-SPECIFICITY = FP/TP+FP\n",
        "\n",
        "Sensitivity and Specificity are inversely proportional to each ot\n",
        "TPR⬆️, FPR⬆️ and TPR⬇️, FPR⬇️"
      ],
      "metadata": {
        "id": "rWx3UKoOIjx4"
      }
    },
    {
      "cell_type": "code",
      "source": [
        "auc_score1 = roc_auc_score(y_train,y_pred_prob)\n",
        "print(auc_score1)"
      ],
      "metadata": {
        "colab": {
          "base_uri": "https://localhost:8080/"
        },
        "id": "CTjQoDx_HHTR",
        "outputId": "099ccf9b-71de-4c80-fe77-d59d7fc29a03"
      },
      "execution_count": null,
      "outputs": [
        {
          "output_type": "stream",
          "name": "stdout",
          "text": [
            "1.0\n"
          ]
        }
      ]
    },
    {
      "cell_type": "code",
      "source": [
        "#Test set\n",
        "y_pred_test = rf_best_fit.predict(X_test)\n",
        "print(classification_report(y_test,y_pred_test))\n",
        "#since the f1 score is near to 1 we can say that in test set that is performing in best way\n",
        "#precision is tp/tp+fp and recall is tp/tp+fn\n",
        "#support is actual occurancce of datasets\n",
        "\n"
      ],
      "metadata": {
        "colab": {
          "base_uri": "https://localhost:8080/"
        },
        "id": "TW4pdDxXAWZT",
        "outputId": "f2b5a134-e65d-440b-b6cd-296ecf05a774"
      },
      "execution_count": null,
      "outputs": [
        {
          "output_type": "stream",
          "name": "stdout",
          "text": [
            "              precision    recall  f1-score   support\n",
            "\n",
            "          no       0.94      0.94      0.94      1196\n",
            "         yes       0.94      0.94      0.94      1203\n",
            "\n",
            "    accuracy                           0.94      2399\n",
            "   macro avg       0.94      0.94      0.94      2399\n",
            "weighted avg       0.94      0.94      0.94      2399\n",
            "\n"
          ]
        }
      ]
    },
    {
      "cell_type": "code",
      "source": [
        "confusion_matrix(y_test, y_pred_test)"
      ],
      "metadata": {
        "colab": {
          "base_uri": "https://localhost:8080/"
        },
        "id": "zJiXOt-oGrHH",
        "outputId": "4f051004-9c43-4faa-89ef-63e7a41a6af9"
      },
      "execution_count": null,
      "outputs": [
        {
          "output_type": "execute_result",
          "data": {
            "text/plain": [
              "array([[1126,   70],\n",
              "       [  70, 1133]])"
            ]
          },
          "metadata": {},
          "execution_count": 245
        }
      ]
    },
    {
      "cell_type": "code",
      "source": [
        "#ROC curve\n",
        "y_pred_prob = rf_best_fit.predict_proba(X_test)[:,1]\n",
        "fpr,tpr,thresholds = roc_curve(y_test,y_pred_prob,pos_label = 'yes')\n",
        "plt.plot([0,1],[0,1],'k--')\n",
        "plt.plot(fpr,tpr,label = 'RandomForestClassifier')\n",
        "plt.xlabel('False Positive Rate')\n",
        "plt.ylabel('True Positive Rate')\n",
        "plt.title('RandomForestClassifier ROC Curve')\n",
        "plt.show()"
      ],
      "metadata": {
        "colab": {
          "base_uri": "https://localhost:8080/",
          "height": 295
        },
        "id": "qfpG46RSBVjI",
        "outputId": "26d0cfda-0370-4dbb-b2e6-01d99a9efccf"
      },
      "execution_count": null,
      "outputs": [
        {
          "output_type": "display_data",
          "data": {
            "text/plain": [
              "<Figure size 432x288 with 1 Axes>"
            ],
            "image/png": "[encoded data removed]"
          },
          "metadata": {}
        }
      ]
    },
    {
      "cell_type": "code",
      "source": [
        "#Saving the model in a file\n",
        "import pickle\n",
        "filename = 'finalized_model.sav'\n",
        "pickle.dump(rf_best_fit, open(filename, 'wb'))"
      ],
      "metadata": {
        "id": "OO4_oON_FlDk"
      },
      "execution_count": null,
      "outputs": []
    },
    {
      "cell_type": "code",
      "source": [
        "#Load the model\n",
        "def loadModel():\n",
        "    loaded_model = pickle.load(open(filename, 'rb'))\n",
        "    return loaded_model"
      ],
      "metadata": {
        "id": "37tkiOIUFoFz"
      },
      "execution_count": null,
      "outputs": []
    },
    {
      "cell_type": "code",
      "source": [
        "#Predict the model\n",
        "def predictModel(model, X):\n",
        "    y_pred = model.predict(X)\n",
        "    return y_pred"
      ],
      "metadata": {
        "id": "oeZRnGgSFU1R"
      },
      "execution_count": null,
      "outputs": []
    }
  ]
}